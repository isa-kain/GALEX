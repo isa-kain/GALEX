{
 "cells": [
  {
   "cell_type": "code",
   "execution_count": 4,
   "id": "6906dba0",
   "metadata": {
    "ExecuteTime": {
     "end_time": "2023-01-05T16:55:14.121445Z",
     "start_time": "2023-01-05T16:55:14.115405Z"
    }
   },
   "outputs": [],
   "source": [
    "import numpy as np\n",
    "import pandas as pd\n",
    "import matplotlib.pyplot as plt\n",
    "import re, os\n",
    "import warnings\n",
    "import glob\n",
    "from tqdm import tqdm\n",
    "from astropy.io import fits\n",
    "import astropy.units as u\n",
    "import astropy.constants as const\n",
    "import astropy.coordinates as coord\n",
    "from astropy.table import Table, vstack, hstack, join\n"
   ]
  },
  {
   "cell_type": "code",
   "execution_count": 2,
   "id": "ad54735d",
   "metadata": {
    "ExecuteTime": {
     "end_time": "2023-01-05T16:54:51.830294Z",
     "start_time": "2023-01-05T16:54:51.825504Z"
    }
   },
   "outputs": [],
   "source": [
    "analysispath = '/Users/isabelkain/Desktop/GALEX/analysis'\n",
    "datapath = '/Volumes/Seagate/seagate_backup/GALEX/data'\n"
   ]
  },
  {
   "cell_type": "code",
   "execution_count": 5,
   "id": "9db164bf",
   "metadata": {
    "ExecuteTime": {
     "end_time": "2023-01-05T16:55:15.902506Z",
     "start_time": "2023-01-05T16:55:15.675821Z"
    }
   },
   "outputs": [],
   "source": [
    "table = Table.read(f'{analysispath}/dataset.ecsv')\n"
   ]
  },
  {
   "cell_type": "code",
   "execution_count": 7,
   "id": "3c848d54",
   "metadata": {
    "ExecuteTime": {
     "end_time": "2023-01-05T16:57:31.811029Z",
     "start_time": "2023-01-05T16:57:31.015529Z"
    },
    "scrolled": false
   },
   "outputs": [
    {
     "name": "stdout",
     "output_type": "stream",
     "text": [
      "G III-I\n",
      "F3-F9\n",
      "G III-I\n",
      "G III-I\n",
      "RADIO GALAXY\n",
      "NULLS AND FLAT FIELDS\n",
      "NULLS AND FLAT FIELDS\n",
      "NULLS AND FLAT FIELDS\n",
      "G V-IV\n",
      "G V-IV\n",
      "G V-IV\n",
      "COMET\n",
      "SPIRAL GALAXY\n",
      "SEYFERT GALAXY\n",
      "T TAURI\n",
      "F3-F9\n",
      "EMISSION LINE GALAXY (NON-SEYFERT)\n",
      "T TAURI\n",
      "K III-I\n",
      "B0-B2 V-IV\n",
      "K III-I\n",
      "EMISSION LINE GALAXY (NON-SEYFERT)\n",
      "K III-I\n",
      "K III-I\n",
      "K III-I\n",
      "G III-I\n",
      "K III-I\n",
      "K III-I\n",
      "G III-I\n",
      "G III-I\n",
      "G III-I\n",
      "WAVELENGTH CALIBRATION LAMP\n",
      "NULLS AND FLAT FIELDS\n",
      "F3-F9\n",
      "G III-I\n",
      "T TAURI\n",
      "T TAURI\n",
      "COMPOSITE SPECTRAL TYPE\n",
      "G III-I\n",
      "WAVELENGTH CALIBRATION LAMP\n",
      "NULLS AND FLAT FIELDS\n",
      "K III-I\n",
      "A0-A3 V-IV\n",
      "T TAURI\n",
      "G III-I\n",
      "WAVELENGTH CALIBRATION LAMP\n",
      "NULLS AND FLAT FIELDS\n",
      "K III-I\n",
      "T TAURI\n",
      "K III-I\n",
      "G III-I\n",
      "G III-I\n",
      "G III-I\n",
      "G III-I\n",
      "G III-I\n",
      "G III-I\n",
      "G III-I\n",
      "F3-F9\n",
      "G V-IV\n",
      "G III-I\n",
      "INTERPLANETARY MEDIUM\n",
      "K III-I\n",
      "K III-I\n",
      "K III-I\n",
      "WAVELENGTH CALIBRATION LAMP\n",
      "K III-I\n",
      "M III-I\n",
      "T TAURI\n",
      "K V-IV\n",
      "HORIZONTAL BRANCH STARS\n",
      "WAVELENGTH CALIBRATION LAMP\n",
      "NULLS AND FLAT FIELDS\n",
      "NULLS AND FLAT FIELDS\n",
      "F0-F2\n",
      "F3-F9\n",
      "T TAURI\n",
      "COMPOSITE SPECTRAL TYPE\n",
      "G III-I\n",
      "WAVELENGTH CALIBRATION LAMP\n",
      "G III-I\n",
      "G III-I\n",
      "WAVELENGTH CALIBRATION LAMP\n",
      "F3-F9\n",
      "K V-IV\n",
      "K III-I\n",
      "G III-I\n",
      "F3-F9\n",
      "WDA\n",
      "WAVELENGTH CALIBRATION LAMP\n",
      "NULLS AND FLAT FIELDS\n",
      "WAVELENGTH CALIBRATION LAMP\n",
      "NULLS AND FLAT FIELDS\n",
      "G V-IV\n",
      "WAVELENGTH CALIBRATION LAMP\n",
      "B0-B2 V-IV\n",
      "SEYFERT GALAXY\n",
      "T TAURI\n",
      "T TAURI\n",
      "T TAURI\n",
      "K III-I\n",
      "WAVELENGTH CALIBRATION LAMP\n",
      "NULLS AND FLAT FIELDS\n",
      "F0-F2\n",
      "COMPOSITE SPECTRAL TYPE\n",
      "G V-IV\n",
      "F0-F2\n",
      "K III-I\n",
      "COMPOSITE SPECTRAL TYPE\n",
      "COMPOSITE SPECTRAL TYPE\n",
      "COMPOSITE SPECTRAL TYPE\n",
      "G III-I\n",
      "G V-IV\n",
      "K V-IV\n"
     ]
    },
    {
     "name": "stderr",
     "output_type": "stream",
     "text": [
      "WARNING: non-ASCII characters are present in the FITS file header and have been replaced by \"?\" characters [astropy.io.fits.util]\n"
     ]
    }
   ],
   "source": [
    "for i in range(len(table)):\n",
    "    \n",
    "    swpid = table[i]['obs_id']\n",
    "    starname = table[i]['main_id']\n",
    "    objname = starname.replace(' ','')\n",
    "    \n",
    "    hdul = fits.open(f'{datapath}/{swpid}.fits')\n",
    "    spclass = hdul[1].header['SRCCLASS']    # Object Class \n",
    "    hdul.close()\n",
    "    \n",
    "    print(spclass)\n"
   ]
  },
  {
   "cell_type": "code",
   "execution_count": 12,
   "id": "059e85d8",
   "metadata": {
    "ExecuteTime": {
     "end_time": "2023-01-05T16:59:03.635609Z",
     "start_time": "2023-01-05T16:59:03.630250Z"
    },
    "scrolled": false
   },
   "outputs": [
    {
     "name": "stdout",
     "output_type": "stream",
     "text": [
      "Star\n",
      "PM*\n",
      "PM*\n",
      "PM*\n",
      "Star\n",
      "Star\n",
      "Star\n",
      "Star\n",
      "PM*\n",
      "low-mass*\n",
      "PM*\n",
      "Star\n",
      "Star\n",
      "Star\n",
      "TTau*\n",
      "Star\n",
      "Star\n",
      "TTau*\n",
      "Star\n",
      "PM*\n",
      "Star\n",
      "Star\n",
      "Star\n",
      "PM*\n",
      "Star\n",
      "Star\n",
      "Star\n",
      "PM*\n",
      "Star\n",
      "Star\n",
      "Star\n",
      "Star\n",
      "Star\n",
      "post-AGB*\n",
      "PM*\n",
      "TTau*\n",
      "TTau*\n",
      "PM*\n",
      "Star\n",
      "Star\n",
      "Star\n",
      "LPV*\n",
      "Star\n",
      "TTau*\n",
      "Star\n",
      "Star\n",
      "Star\n",
      "Star\n",
      "TTau*\n",
      "Star\n",
      "Star\n",
      "Star\n",
      "Star\n",
      "Star\n",
      "Star\n",
      "Star\n",
      "Star\n",
      "PM*\n",
      "Star\n",
      "Star\n",
      "Star\n",
      "Star\n",
      "Star\n",
      "PM*\n",
      "Star\n",
      "PM*\n",
      "LPV*\n",
      "TTau*\n",
      "PM*\n",
      "Star\n",
      "Star\n",
      "Star\n",
      "PM*\n",
      "post-AGB*\n",
      "TTau*\n",
      "TTau*\n",
      "Star\n",
      "Star\n",
      "Star\n",
      "Star\n",
      "Star\n",
      "Star\n",
      "PM*\n",
      "Star\n",
      "Star\n",
      "Star\n",
      "post-AGB*\n",
      "Star\n",
      "Star\n",
      "Star\n",
      "Star\n",
      "Star\n",
      "Star\n",
      "PM*\n",
      "Star\n",
      "Star\n",
      "Star\n",
      "Star\n",
      "TTau*\n",
      "Star\n",
      "PM*\n",
      "PM*\n",
      "PM*\n",
      "Star\n",
      "post-AGB*_Candidate\n",
      "Star\n",
      "PM*\n",
      "Star\n",
      "Star\n",
      "PM*\n",
      "PM*\n",
      "PM*\n",
      "PM*\n"
     ]
    }
   ],
   "source": [
    "for t in table['main_type'].data:\n",
    "    print(t)"
   ]
  },
  {
   "cell_type": "code",
   "execution_count": null,
   "id": "e01534dd",
   "metadata": {},
   "outputs": [],
   "source": []
  }
 ],
 "metadata": {
  "kernelspec": {
   "display_name": "Python 3 (ipykernel)",
   "language": "python",
   "name": "python3"
  },
  "language_info": {
   "codemirror_mode": {
    "name": "ipython",
    "version": 3
   },
   "file_extension": ".py",
   "mimetype": "text/x-python",
   "name": "python",
   "nbconvert_exporter": "python",
   "pygments_lexer": "ipython3",
   "version": "3.8.8"
  },
  "toc": {
   "base_numbering": 1,
   "nav_menu": {},
   "number_sections": true,
   "sideBar": true,
   "skip_h1_title": false,
   "title_cell": "Table of Contents",
   "title_sidebar": "Contents",
   "toc_cell": false,
   "toc_position": {},
   "toc_section_display": true,
   "toc_window_display": false
  },
  "varInspector": {
   "cols": {
    "lenName": 16,
    "lenType": 16,
    "lenVar": 40
   },
   "kernels_config": {
    "python": {
     "delete_cmd_postfix": "",
     "delete_cmd_prefix": "del ",
     "library": "var_list.py",
     "varRefreshCmd": "print(var_dic_list())"
    },
    "r": {
     "delete_cmd_postfix": ") ",
     "delete_cmd_prefix": "rm(",
     "library": "var_list.r",
     "varRefreshCmd": "cat(var_dic_list()) "
    }
   },
   "types_to_exclude": [
    "module",
    "function",
    "builtin_function_or_method",
    "instance",
    "_Feature"
   ],
   "window_display": false
  }
 },
 "nbformat": 4,
 "nbformat_minor": 5
}
