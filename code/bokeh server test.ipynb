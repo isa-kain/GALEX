{
 "cells": [
  {
   "cell_type": "code",
   "execution_count": 110,
   "id": "ca488d94",
   "metadata": {
    "ExecuteTime": {
     "end_time": "2022-12-25T02:39:58.991041Z",
     "start_time": "2022-12-25T02:39:58.983705Z"
    }
   },
   "outputs": [],
   "source": [
    "import numpy as np\n",
    "import pandas as pd\n",
    "import re, os\n",
    "import shutil\n",
    "from tempfile import mkstemp\n",
    "from astropy.table import Table, vstack, hstack, join\n",
    "from bokeh.plotting import figure, show, output_file\n",
    "from bokeh.models import Span, ColumnDataSource, Slider, CustomJS, Button, Range1d\n",
    "from bokeh.io import output_notebook, curdoc\n",
    "from bokeh.layouts import column, row\n",
    "from bokeh.events import ButtonClick\n",
    "\n",
    "# output_notebook()"
   ]
  },
  {
   "cell_type": "code",
   "execution_count": 111,
   "id": "512a4b3c",
   "metadata": {
    "ExecuteTime": {
     "end_time": "2022-12-25T02:39:59.336355Z",
     "start_time": "2022-12-25T02:39:59.285708Z"
    }
   },
   "outputs": [],
   "source": [
    "## Read in data\n",
    "\n",
    "spectrum = pd.read_csv('/Users/isabelkain/Desktop/GALEX/data/swp54894.csv')\n",
    "wavelengths = spectrum['Wavelengths'].values\n",
    "flux = spectrum['Flux'].values\n",
    "fluxerr = spectrum['Fluxerr'].values\n"
   ]
  },
  {
   "cell_type": "code",
   "execution_count": 112,
   "id": "b200718e",
   "metadata": {
    "ExecuteTime": {
     "end_time": "2022-12-25T02:39:59.640768Z",
     "start_time": "2022-12-25T02:39:59.611544Z"
    }
   },
   "outputs": [
    {
     "data": {
      "text/html": [
       "<div><i>Table length=13</i>\n",
       "<table id=\"table140187464945872\" class=\"table-striped table-bordered table-condensed\">\n",
       "<thead><tr><th>line_center</th><th>line_type</th><th>line_center_index</th><th>Peak label</th><th>Spectrum</th><th>Confident?</th></tr></thead>\n",
       "<thead><tr><th>Angstrom</th><th></th><th></th><th></th><th></th><th></th></tr></thead>\n",
       "<thead><tr><th>float32</th><th>str8</th><th>int64</th><th>str4</th><th>str1</th><th>bool</th></tr></thead>\n",
       "<tr><td>1180.6892</td><td>emission</td><td>18</td><td>1181</td><td>?</td><td>False</td></tr>\n",
       "<tr><td>1215.8912</td><td>emission</td><td>39</td><td>1216</td><td>?</td><td>False</td></tr>\n",
       "<tr><td>1234.3304</td><td>emission</td><td>50</td><td>1234</td><td>?</td><td>False</td></tr>\n",
       "<tr><td>1304.7346</td><td>emission</td><td>92</td><td>1305</td><td>?</td><td>False</td></tr>\n",
       "<tr><td>1396.9305</td><td>emission</td><td>147</td><td>1397</td><td>?</td><td>False</td></tr>\n",
       "<tr><td>1547.7964</td><td>emission</td><td>237</td><td>1548</td><td>?</td><td>False</td></tr>\n",
       "<tr><td>1639.9923</td><td>emission</td><td>292</td><td>1640</td><td>?</td><td>False</td></tr>\n",
       "<tr><td>1660.1079</td><td>emission</td><td>304</td><td>1660</td><td>?</td><td>False</td></tr>\n",
       "<tr><td>1681.8995</td><td>emission</td><td>317</td><td>1682</td><td>?</td><td>False</td></tr>\n",
       "<tr><td>1817.679</td><td>emission</td><td>398</td><td>1818</td><td>?</td><td>False</td></tr>\n",
       "<tr><td>1924.9614</td><td>emission</td><td>462</td><td>1925</td><td>?</td><td>False</td></tr>\n",
       "<tr><td>1951.782</td><td>emission</td><td>478</td><td>1952</td><td>?</td><td>False</td></tr>\n",
       "<tr><td>1970.2212</td><td>emission</td><td>489</td><td>1970</td><td>?</td><td>False</td></tr>\n",
       "</table></div>"
      ],
      "text/plain": [
       "<Table length=13>\n",
       "line_center line_type line_center_index Peak label Spectrum Confident?\n",
       "  Angstrom                                                            \n",
       "  float32      str8         int64          str4      str1      bool   \n",
       "----------- --------- ----------------- ---------- -------- ----------\n",
       "  1180.6892  emission                18       1181        ?      False\n",
       "  1215.8912  emission                39       1216        ?      False\n",
       "  1234.3304  emission                50       1234        ?      False\n",
       "  1304.7346  emission                92       1305        ?      False\n",
       "  1396.9305  emission               147       1397        ?      False\n",
       "  1547.7964  emission               237       1548        ?      False\n",
       "  1639.9923  emission               292       1640        ?      False\n",
       "  1660.1079  emission               304       1660        ?      False\n",
       "  1681.8995  emission               317       1682        ?      False\n",
       "   1817.679  emission               398       1818        ?      False\n",
       "  1924.9614  emission               462       1925        ?      False\n",
       "   1951.782  emission               478       1952        ?      False\n",
       "  1970.2212  emission               489       1970        ?      False"
      ]
     },
     "execution_count": 112,
     "metadata": {},
     "output_type": "execute_result"
    }
   ],
   "source": [
    "## Read in lines\n",
    "lines = Table.read('/Users/isabelkain/Desktop/GALEX/data/swp54894_foundpeaks.ecsv')\n",
    "lines"
   ]
  },
  {
   "cell_type": "code",
   "execution_count": 113,
   "id": "9dbab8ca",
   "metadata": {
    "ExecuteTime": {
     "end_time": "2022-12-25T02:40:00.199217Z",
     "start_time": "2022-12-25T02:40:00.047049Z"
    },
    "scrolled": false
   },
   "outputs": [
    {
     "data": {
      "text/html": [
       "\n",
       "  <div id=\"8b195c99-10c3-46f9-9924-014fa56b22c9\" data-root-id=\"p1779\" style=\"display: contents;\"></div>\n"
      ]
     },
     "metadata": {},
     "output_type": "display_data"
    },
    {
     "data": {
      "application/javascript": [
       "(function(root) {\n",
       "  function embed_document(root) {\n",
       "  const docs_json = {\"04008ccf-e298-4e94-a6d1-cc8ac034c790\":{\"version\":\"3.0.2\",\"title\":\"Bokeh Application\",\"defs\":[],\"roots\":[{\"type\":\"object\",\"name\":\"Column\",\"id\":\"p1779\",\"attributes\":{\"sizing_mode\":\"scale_width\",\"children\":[{\"type\":\"object\",\"name\":\"Figure\",\"id\":\"p1656\",\"attributes\":{\"sizing_mode\":\"stretch_width\",\"x_range\":{\"type\":\"object\",\"name\":\"DataRange1d\",\"id\":\"p1658\"},\"y_range\":{\"type\":\"object\",\"name\":\"DataRange1d\",\"id\":\"p1657\"},\"x_scale\":{\"type\":\"object\",\"name\":\"LinearScale\",\"id\":\"p1670\"},\"y_scale\":{\"type\":\"object\",\"name\":\"LinearScale\",\"id\":\"p1672\"},\"title\":{\"type\":\"object\",\"name\":\"Title\",\"id\":\"p1659\",\"attributes\":{\"text\":\"Spectrum for * gam Mic (swp54894, G III-I, SNR = 3)\"}},\"renderers\":[{\"type\":\"object\",\"name\":\"GlyphRenderer\",\"id\":\"p1709\",\"attributes\":{\"data_source\":{\"type\":\"object\",\"name\":\"ColumnDataSource\",\"id\":\"p1703\",\"attributes\":{\"selected\":{\"type\":\"object\",\"name\":\"Selection\",\"id\":\"p1704\",\"attributes\":{\"indices\":[],\"line_indices\":[]}},\"selection_policy\":{\"type\":\"object\",\"name\":\"UnionRenderers\",\"id\":\"p1705\"},\"data\":{\"type\":\"map\",\"entries\":[[\"x\",{\"type\":\"ndarray\",\"array\":{\"type\":\"bytes\",\"data\":\"8tJNYhD6kUAAb4EExQCSQCQofox5B5JAcRsN4C0OkkCV1Alo4hSSQM6qz9WWG5JA3EYDeEsikkAAAAAAACmSQCS5/Ie0L5JAXI/C9Wg2kkCASL99HT2SQI/k8h/SQ5JAsp3vp4ZKkkDrc7UVO1GSQA4tsp3vV5JAMuauJaRekkBBguLHWGWSQGQ7308NbJJAnRGlvcFykkDByqFFdnmSQPmgZ7MqgJJACD2bVd+GkkAr9pfdk42SQE+vlGVIlJJAc2iR7fyakkCrPldbsaGSQM/3U+NlqJJA3pOHhRqvkkArhxbZzrWSQE9AE2GDvJJAcvkP6TfDkkCBlUOL7MmSQLprCfmg0JJA3SQGgVXXkkAB3gIJCt6SQDm0yHa+5JJASFD8GHPrkkBsCfmgJ/KSQI/C9Sjc+JJAyJi7lpD/kkDsUbgeRQaTQPrt68D5DJNAHqfoSK4Tk0BWfa62YhqTQHo2qz4XIZNAnu+nxssnk0Csi9togC6TQOVhodY0NZNACRueXuk7k0As1JrmnUKTQGWqYFRSSZNAiGNd3AZQk0CX/5B+u1aTQNDVVuxvXZNACKwcWiRkk0AsZRni2GqTQDsBTYSNcZNAXrpJDEJ4k0CXkA969n6TQLpJDAKrhZNA3gIJil+Mk0DtnjwsFJOTQCV1AprImZNASS7/IX2gk0Bt5/upMaeTQKW9wRfmrZNAtFn1uZq0k0DXEvJBT7uTQPvL7skDwpNANKK0N7jIk0BXW7G/bM+TQGb35GEh1pNAirDh6dXck0DChqdXiuOTQOY/pN8+6pNACfmgZ/Pwk0BX7C+7p/eTQFFrmndc/pNAiUFg5RAFlEDCFyZTxQuUQOXQItt5EpRACYofYy4ZlEAYJlMF4x+UQDvfT42XJpRAdLUV+0stlECYbhKDADSUQLsnDwu1OpRA3+ALk2lBlEACmggbHkiUQCZTBaPSTpRASgwCK4dVlECC4seYO1yUQJF++zrwYpRAtTf4wqRplEDY8PRKWXCUQBHHurgNd5RANIC3QMJ9lEBDHOvidoSUQGfV52ori5RAn6ut2N+RlEDDZKpglJiUQBBYObRIn5RA9bnaiv2llEBDrWnesayUQFJJnYBms5RAnzws1Bq6lEDD9Shcz8CUQNGRXP6Dx5RA9UpZhjjOlEAtIR/07NSUQFHaG3yh25RAdZMYBFbilECDL0ymCumUQLwFEhS/75RA4L4OnHP2lEADeAskKP2UQCcxCKzcA5VAS+oENJEKlUBuowG8RRGVQJJc/kP6F5VAtRX7y64elUDu68A5YyWVQP2H9NsXLJVAIEHxY8wylUBE+u3rgDmVQH3Qs1k1QJVAtaZ5x+lGlUCvJeSDnk2VQPwYc9dSVJVAC7WmeQdblUBEi2znu2GVQHxhMlVwaJVAi/1l9yRvlUCutmJ/2XWVQNJvXweOfJVA9ihcj0KDlUAu/yH99omVQD2bVZ+rkJVAYVRSJ2CXlUCZKhiVFJ6VQL3jFB3JpJVA4JwRpX2rlUDvOEVHMrKVQCgPC7XmuJVAS8gHPZu/lUBvgQTFT8aVQJM6AU0EzZVAtvP91LjTlUDarPpcbdqVQP5l9+Qh4ZVAIR/0bNbnlUBvEoPAiu6VQGiR7Xw/9ZVAoWez6vP7lUCwA+eMqAKWQP32deBcCZZAIbByaBEQlkAwTKYKxhaWQGgibHh6HZZAjNtoAC8klkCvlGWI4yqWQOhqK/aXMZZA9wZfmEw4lkAawFsgAT+WQD55WKi1RZZAdk8eFmpMlkCaCBueHlOWQKmkTkDTWZZAzF1LyIdglkAFNBE2PGeWQCntDb7wbZZATKYKRqV0lkCFfNCzWXuWQJMYBFYOgpZAt9EA3sKIlkDbiv1ld4+WQCh+jLkrlpZANxrAW+CclkBb07zjlKOWQGlv8IVJqpZAt2J/2f2wlkDaG3xhsreWQP7UeOlmvpZADXGsixvFlkBFR3L5z8uWQGkAb4GE0pZAjLlrCTnZlkDFjzF37d+WQNQrZRmi5pZA9+RhoVbtlkAbnl4pC/SWQFR0JJe/+pZAdy0hH3QBl0CGyVTBKAiXQKqCUUndDpdA4lgXt5EVl0AGEhQ/RhyXQCnLEMf6IpdAOGdEaa8pl0BxPQrXYzCXQJT2Bl8YN5dAzczMzMw9l0DwhclUgUSXQBQ/xtw1S5dAI9v5fupRl0Bbsb/snliXQJSHhVpTX5dAuECC4gdml0DG3LWEvGyXQOqVsgxxc5dAImx4eiV6l0BGJXUC2oCXQGrecYqOh5dAeHqlLEOOl0CxUGua95SXQNUJaCKsm5dA+MJkqmCil0AxmSoYFamXQD81XrrJr5dAY+5aQn62l0CHp1fKMr2XQL99HTjnw5dA4zYawJvKl0Dy0k1iUNGXQBWMSuoE2JdATmIQWLnel0CGONbFbeWXQJXUCWgi7JdAzqrP1dbyl0DcRgN4i/mXQBUdyeU/AJhATfOOU/QGmEBxrIvbqA2YQIBIv31dFJhAowG8BRIbmEDc14FzxiGYQACRfvt6KJhAI0p7gy8vmEAy5q4l5DWYQGq8dJOYPJhAjnVxG01DmECyLm6jAUqYQNXnaiu2UJhA+aBns2pXmEAdWmQ7H16YQEATYcPTZJhAeekmMYhrmECxv+yePHKYQKs+V1vxeJhA5BQdyaV/mEDysFBrWoaYQECk374OjZhAT0ATYcOTmEBy+Q/pd5qYQIGVQ4ssoZhAzojS3uCnmEDdJAaBla6YQCsYldRJtZhAEHo2q/67mEBdbcX+ssKYQIEmwoZnyZhAufyH9BvQmEDdtYR80NaYQABvgQSF3ZhADwu1pjnkmEBI4XoU7uqYQGuad5yi8ZhAj1N0JFf4mECzDHGsC/+YQNbFbTTABZlA+n5qvHQMmUAdOGdEKROZQGsr9pfdGZlAescpOpIgmUCdgCbCRieZQKwcWmT7LZlA+Q/pt680mUAIrBxaZDuZQEGC4scYQplAOwFNhM1ImUCI9NvXgU+ZQJeQD3o2VplAz2bV5+pcmUDeAgmKn2OZQBfZzvdTaplAOpLLfwhxmUBeS8gHvXeZQJYhjnVxfplAutqK/SWFmUDJdr6f2ouZQOwvuyePkplAJQaBlUOZmUBIv30d+J+ZQGx4eqWspplAexSuR2GtmUCz6nO1FbSZQNejcD3KuplAEHo2q37BmUAzMzMzM8iZQFfsL7vnzplAZohjXZzVmUCeXinLUNyZQMIXJlMF45lA+u3rwLnpmUD0bFZ9bvCZQEJg5dAi95lAUPwYc9f9mUCJ0t7giwSaQJhuEoNAC5pAuycPC/URmkD0/dR4qRiaQBe30QBeH5pAO3DOiBImmkB0RpT2xiyaQILix5h7M5pAppvEIDA6mkDKVMGo5ECaQAIrhxaZR5pAJuSDnk1OmkA0gLdAAlWaQFg5tMi2W5pAkQ96NmtimkDJ5T+kH2maQNiBc0bUb5pAEFg5tIh2mkAf9GxWPX2aQFjKMsTxg5pAZmZmZqaKmkC0WfW5WpGaQK7YX3YPmJpA5q4l5MOemkD1SlmGeKWaQEI+6NksrJpAUdobfOGymkB1kxgElrmaQJhMFYxKwJpA0SLb+f7GmkD129eBs82aQBiV1Alo1JpAJzEIrBzbmkBfB84Z0eGaQIPAyqGF6JpAp3nHKTrvmkDfT42X7vWaQO7rwDmj/JpAEqW9wVcDm0A1XrpJDAqbQINRSZ3AEJtAke18P3UXm0C1pnnHKR6bQMRCrWneJJtAETY8vZIrm0Ag0m9fRzKbQG3F/rL7OJtAUiegibA/m0CgGi/dZEabQK62Yn8ZTZtA/Knx0s1Tm0ALRiV1glqbQEMc6+I2YZtAUrgehetnm0CKjuTyn26bQK5H4XpUdZtA0gDeAgl8m0AK16NwvYKbQARWDi1yiZtAPSzUmiaQm0Bg5dAi25abQISezaqPnZtAvHSTGESkm0DLEMe6+KqbQO/Jw0KtsZtAPL1SlmG4m0BLWYY4Fr+bQIMvTKbKxZtAfa62Yn/Mm0DLoUW2M9ObQNk9eVjo2ZtAEhQ/xpzgm0AhsHJoUeebQFmGONYF7ptAaCJseLr0m0Ch+DHmbvubQK+UZYgjApxA/Yf029cInEALJCh+jA+cQC/dJAZBFpxAaLPqc/UcnECLbOf7qSOcQK8l5INeKpxAvsEXJhMxnEDhehSuxzecQBpR2ht8PpxAPQrXozBFnEBhw9Mr5UucQIV80LOZUpxAqDXNO05ZnEDhC5OpAmCcQPCnxku3ZpxAPZtVn2ttnEA3GsBbIHScQG/whcnUepxAfoy5a4mBnEDMf0i/PYicQNobfGHyjpxA/tR46aaVnEANcayLW5ycQFpkO98Po5xAaQBvgcSpnEC28/3UeLCcQMWPMXctt5xA6Ugu/+G9nEAMAiuHlsScQEXY8PRKy5xAaJHtfP/RnEB3LSEftNicQJvmHado35xA07zjFB3mnED3deCc0eycQBsv3SSG85xAKcsQxzr6nEBiodY07wCdQJp3nKKjB51AqRPQRFgOnUD3Bl+YDBWdQPCFyVTBG51AKVyPwnUinUA4+MJkKimdQIXrUbjeL51AlIeFWpM2nUC4QILiRz2dQMbctYT8Q51AFNBE2LBKnUAibHh6ZVGdQFtCPugZWJ1Aat5xis5enUCitDf4gmWdQMZtNIA3bJ1A6SYxCOxynUAi/fZ1oHmdQDGZKhhVgJ1AVFInoAmHnUB4CyQovo2dQLHh6ZVylJ1A1JrmHSebnUDjNhrA26GdQAfwFkiQqJ1AVOOlm0SvnUBjf9k9+bWdQJtVn6utvJ1AldQJaGLDnUDjx5i7FsqdQPFjzF3L0J1AKjqSy3/XnUBN845TNN6dQIbJVMHo5J1AgEi/fZ3rnUC4HoXrUfKdQNzXgXMG+Z1AFK5H4br/nUA4Z0RpbwaeQEcDeAskDZ5Af9k9edgTnkCjkjoBjRqeQMdLN4lBIZ5A/yH99vUnnkAOvjCZqi6eQDJ3LSFfNZ5AVTAqqRM8nkCOBvAWyEKeQLG/7J58SZ5AwFsgQTFQnkAOT6+U5VaeQBzr4jaaXZ5AVcGopE5knkBkXdxGA2ueQJwzorS3cZ5Aq8/VVmx4nkDjpZvEIH+eQPJBz2bVhZ5APzVeuomMnkA5tMh2PpOeQHKKjuTymZ5AgSbChqegnkDOGVHaW6eeQPLSTWIQrp5AAG+BBMW0nkAkKH6MebueQF3+Q/otwp5AgLdAguLInkCkcD0Kl8+eQLMMcaxL1p5A6+I2GgDdnkAPnDOitOOeQDJVMCpp6p5A\"},\"shape\":[495],\"dtype\":\"float64\",\"order\":\"little\"}],[\"y\",{\"type\":\"ndarray\",\"array\":{\"type\":\"bytes\",\"data\":\"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\"},\"shape\":[495],\"dtype\":\"float64\",\"order\":\"little\"}]]}}},\"view\":{\"type\":\"object\",\"name\":\"CDSView\",\"id\":\"p1710\",\"attributes\":{\"filter\":{\"type\":\"object\",\"name\":\"AllIndices\",\"id\":\"p1711\"}}},\"glyph\":{\"type\":\"object\",\"name\":\"Line\",\"id\":\"p1706\",\"attributes\":{\"x\":{\"type\":\"field\",\"field\":\"x\"},\"y\":{\"type\":\"field\",\"field\":\"y\"},\"line_color\":\"#1f77b4\",\"line_width\":2}},\"nonselection_glyph\":{\"type\":\"object\",\"name\":\"Line\",\"id\":\"p1707\",\"attributes\":{\"x\":{\"type\":\"field\",\"field\":\"x\"},\"y\":{\"type\":\"field\",\"field\":\"y\"},\"line_color\":\"#1f77b4\",\"line_alpha\":0.1,\"line_width\":2}},\"muted_glyph\":{\"type\":\"object\",\"name\":\"Line\",\"id\":\"p1708\",\"attributes\":{\"x\":{\"type\":\"field\",\"field\":\"x\"},\"y\":{\"type\":\"field\",\"field\":\"y\"},\"line_color\":\"#1f77b4\",\"line_alpha\":0.2,\"line_width\":2}}}},{\"type\":\"object\",\"name\":\"GlyphRenderer\",\"id\":\"p1718\",\"attributes\":{\"data_source\":{\"type\":\"object\",\"name\":\"ColumnDataSource\",\"id\":\"p1712\",\"attributes\":{\"selected\":{\"type\":\"object\",\"name\":\"Selection\",\"id\":\"p1713\",\"attributes\":{\"indices\":[],\"line_indices\":[]}},\"selection_policy\":{\"type\":\"object\",\"name\":\"UnionRenderers\",\"id\":\"p1714\"},\"data\":{\"type\":\"map\",\"entries\":[[\"x\",{\"type\":\"ndarray\",\"array\":{\"type\":\"bytes\",\"data\":\"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\"},\"shape\":[495],\"dtype\":\"float64\",\"order\":\"little\"}],[\"y1\",{\"type\":\"ndarray\",\"array\":{\"type\":\"bytes\",\"data\":\"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\"},\"shape\":[495],\"dtype\":\"float64\",\"order\":\"little\"}],[\"y2\",{\"type\":\"ndarray\",\"array\":{\"type\":\"bytes\",\"data\":\"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\"},\"shape\":[495],\"dtype\":\"float64\",\"order\":\"little\"}]]}}},\"view\":{\"type\":\"object\",\"name\":\"CDSView\",\"id\":\"p1719\",\"attributes\":{\"filter\":{\"type\":\"object\",\"name\":\"AllIndices\",\"id\":\"p1720\"}}},\"glyph\":{\"type\":\"object\",\"name\":\"VArea\",\"id\":\"p1715\",\"attributes\":{\"x\":{\"type\":\"field\",\"field\":\"x\"},\"y1\":{\"type\":\"field\",\"field\":\"y1\"},\"y2\":{\"type\":\"field\",\"field\":\"y2\"},\"fill_alpha\":0.5,\"hatch_alpha\":{\"type\":\"value\",\"value\":0.5}}},\"nonselection_glyph\":{\"type\":\"object\",\"name\":\"VArea\",\"id\":\"p1716\",\"attributes\":{\"x\":{\"type\":\"field\",\"field\":\"x\"},\"y1\":{\"type\":\"field\",\"field\":\"y1\"},\"y2\":{\"type\":\"field\",\"field\":\"y2\"},\"fill_alpha\":0.1,\"hatch_alpha\":{\"type\":\"value\",\"value\":0.1}}},\"muted_glyph\":{\"type\":\"object\",\"name\":\"VArea\",\"id\":\"p1717\",\"attributes\":{\"x\":{\"type\":\"field\",\"field\":\"x\"},\"y1\":{\"type\":\"field\",\"field\":\"y1\"},\"y2\":{\"type\":\"field\",\"field\":\"y2\"},\"fill_alpha\":0.2,\"hatch_alpha\":{\"type\":\"value\",\"value\":0.2}}}}}],\"toolbar\":{\"type\":\"object\",\"name\":\"Toolbar\",\"id\":\"p1665\",\"attributes\":{\"tools\":[{\"type\":\"object\",\"name\":\"PanTool\",\"id\":\"p1688\"},{\"type\":\"object\",\"name\":\"WheelZoomTool\",\"id\":\"p1689\"},{\"type\":\"object\",\"name\":\"BoxZoomTool\",\"id\":\"p1690\",\"attributes\":{\"overlay\":{\"type\":\"object\",\"name\":\"BoxAnnotation\",\"id\":\"p1691\",\"attributes\":{\"syncable\":false,\"level\":\"overlay\",\"visible\":false,\"left_units\":\"canvas\",\"right_units\":\"canvas\",\"bottom_units\":\"canvas\",\"top_units\":\"canvas\",\"line_color\":\"black\",\"line_alpha\":1.0,\"line_width\":2,\"line_dash\":[4,4],\"fill_color\":\"lightgrey\",\"fill_alpha\":0.5}}}},{\"type\":\"object\",\"name\":\"SaveTool\",\"id\":\"p1692\"},{\"type\":\"object\",\"name\":\"ResetTool\",\"id\":\"p1693\"},{\"type\":\"object\",\"name\":\"HelpTool\",\"id\":\"p1694\"}]}},\"left\":[{\"type\":\"object\",\"name\":\"LinearAxis\",\"id\":\"p1681\",\"attributes\":{\"ticker\":{\"type\":\"object\",\"name\":\"BasicTicker\",\"id\":\"p1684\",\"attributes\":{\"mantissas\":[1,2,5]}},\"formatter\":{\"type\":\"object\",\"name\":\"BasicTickFormatter\",\"id\":\"p1682\"},\"axis_label\":\"Flux (erg/cm^2/s/A)\",\"major_label_policy\":{\"type\":\"object\",\"name\":\"AllLabels\",\"id\":\"p1683\"}}}],\"below\":[{\"type\":\"object\",\"name\":\"LinearAxis\",\"id\":\"p1674\",\"attributes\":{\"ticker\":{\"type\":\"object\",\"name\":\"BasicTicker\",\"id\":\"p1677\",\"attributes\":{\"mantissas\":[1,2,5]}},\"formatter\":{\"type\":\"object\",\"name\":\"BasicTickFormatter\",\"id\":\"p1675\"},\"axis_label\":\"Wavelength (Angstrom)\",\"major_label_policy\":{\"type\":\"object\",\"name\":\"AllLabels\",\"id\":\"p1676\"}}}],\"center\":[{\"type\":\"object\",\"name\":\"Grid\",\"id\":\"p1680\",\"attributes\":{\"axis\":{\"id\":\"p1674\"}}},{\"type\":\"object\",\"name\":\"Grid\",\"id\":\"p1687\",\"attributes\":{\"dimension\":1,\"axis\":{\"id\":\"p1681\"}}},{\"type\":\"object\",\"name\":\"Span\",\"id\":\"p1722\",\"attributes\":{\"location\":1180.689208984375,\"dimension\":\"height\",\"line_color\":\"#B488D3\",\"line_dash\":[6]}},{\"type\":\"object\",\"name\":\"Span\",\"id\":\"p1725\",\"attributes\":{\"location\":1215.8912353515625,\"dimension\":\"height\",\"line_color\":\"#B488D3\",\"line_dash\":[6]}},{\"type\":\"object\",\"name\":\"Span\",\"id\":\"p1728\",\"attributes\":{\"location\":1234.3304443359375,\"dimension\":\"height\",\"line_color\":\"#B488D3\",\"line_dash\":[6]}},{\"type\":\"object\",\"name\":\"Span\",\"id\":\"p1731\",\"attributes\":{\"location\":1304.734619140625,\"dimension\":\"height\",\"line_color\":\"#B488D3\",\"line_dash\":[6]}},{\"type\":\"object\",\"name\":\"Span\",\"id\":\"p1734\",\"attributes\":{\"location\":1396.9305419921875,\"dimension\":\"height\",\"line_color\":\"#B488D3\",\"line_dash\":[6]}},{\"type\":\"object\",\"name\":\"Span\",\"id\":\"p1737\",\"attributes\":{\"location\":1547.79638671875,\"dimension\":\"height\",\"line_color\":\"#B488D3\",\"line_dash\":[6]}},{\"type\":\"object\",\"name\":\"Span\",\"id\":\"p1740\",\"attributes\":{\"location\":1639.9923095703125,\"dimension\":\"height\",\"line_color\":\"#B488D3\",\"line_dash\":[6]}},{\"type\":\"object\",\"name\":\"Span\",\"id\":\"p1743\",\"attributes\":{\"location\":1660.10791015625,\"dimension\":\"height\",\"line_color\":\"#B488D3\",\"line_dash\":[6]}},{\"type\":\"object\",\"name\":\"Span\",\"id\":\"p1746\",\"attributes\":{\"location\":1681.8995361328125,\"dimension\":\"height\",\"line_color\":\"#B488D3\",\"line_dash\":[6]}},{\"type\":\"object\",\"name\":\"Span\",\"id\":\"p1749\",\"attributes\":{\"location\":1817.678955078125,\"dimension\":\"height\",\"line_color\":\"#B488D3\",\"line_dash\":[6]}},{\"type\":\"object\",\"name\":\"Span\",\"id\":\"p1752\",\"attributes\":{\"location\":1924.96142578125,\"dimension\":\"height\",\"line_color\":\"#B488D3\",\"line_dash\":[6]}},{\"type\":\"object\",\"name\":\"Span\",\"id\":\"p1755\",\"attributes\":{\"location\":1951.781982421875,\"dimension\":\"height\",\"line_color\":\"#B488D3\",\"line_dash\":[6]}},{\"type\":\"object\",\"name\":\"Span\",\"id\":\"p1758\",\"attributes\":{\"location\":1970.22119140625,\"dimension\":\"height\",\"line_color\":\"#B488D3\",\"line_dash\":[6]}},{\"type\":\"object\",\"name\":\"Span\",\"id\":\"p1761\",\"attributes\":{\"location\":1978.6027,\"dimension\":\"height\",\"line_color\":\"#2d8659\",\"line_dash\":[6]}},{\"type\":\"object\",\"name\":\"Span\",\"id\":\"p1764\",\"attributes\":{\"location\":1978.6027,\"dimension\":\"height\",\"line_color\":\"#2d8659\",\"line_dash\":[6]}},{\"type\":\"object\",\"name\":\"Span\",\"id\":\"p1767\",\"attributes\":{\"location\":1978.6027,\"dimension\":\"height\",\"line_color\":\"#2d8659\",\"line_dash\":[6]}},{\"type\":\"object\",\"name\":\"Span\",\"id\":\"p1770\",\"attributes\":{\"location\":1978.6027,\"dimension\":\"height\",\"line_color\":\"#2d8659\",\"line_dash\":[6]}},{\"type\":\"object\",\"name\":\"Span\",\"id\":\"p1773\",\"attributes\":{\"location\":1978.6027,\"dimension\":\"height\",\"line_color\":\"#2d8659\",\"line_dash\":[6]}}]}},{\"type\":\"object\",\"name\":\"Row\",\"id\":\"p1778\",\"attributes\":{\"sizing_mode\":\"scale_width\",\"children\":[{\"type\":\"object\",\"name\":\"Column\",\"id\":\"p1776\",\"attributes\":{\"sizing_mode\":\"scale_width\",\"children\":[{\"type\":\"object\",\"name\":\"Slider\",\"id\":\"p1721\",\"attributes\":{\"js_property_callbacks\":{\"type\":\"map\",\"entries\":[[\"change:value\",[{\"type\":\"object\",\"name\":\"CustomJS\",\"id\":\"p1723\",\"attributes\":{\"args\":{\"type\":\"map\",\"entries\":[[\"span\",{\"id\":\"p1722\"}]]},\"code\":\"\\n        span.location = cb_obj.value\\n    \"}}]]]},\"width\":500,\"title\":\"1181\",\"start\":1150.516,\"end\":1978.6027,\"value\":1180.689208984375,\"step\":0.01}},{\"type\":\"object\",\"name\":\"Slider\",\"id\":\"p1724\",\"attributes\":{\"js_property_callbacks\":{\"type\":\"map\",\"entries\":[[\"change:value\",[{\"type\":\"object\",\"name\":\"CustomJS\",\"id\":\"p1726\",\"attributes\":{\"args\":{\"type\":\"map\",\"entries\":[[\"span\",{\"id\":\"p1725\"}]]},\"code\":\"\\n        span.location = cb_obj.value\\n    \"}}]]]},\"width\":500,\"title\":\"1216\",\"start\":1150.516,\"end\":1978.6027,\"value\":1215.8912353515625,\"step\":0.01}},{\"type\":\"object\",\"name\":\"Slider\",\"id\":\"p1727\",\"attributes\":{\"js_property_callbacks\":{\"type\":\"map\",\"entries\":[[\"change:value\",[{\"type\":\"object\",\"name\":\"CustomJS\",\"id\":\"p1729\",\"attributes\":{\"args\":{\"type\":\"map\",\"entries\":[[\"span\",{\"id\":\"p1728\"}]]},\"code\":\"\\n        span.location = cb_obj.value\\n    \"}}]]]},\"width\":500,\"title\":\"1234\",\"start\":1150.516,\"end\":1978.6027,\"value\":1234.3304443359375,\"step\":0.01}},{\"type\":\"object\",\"name\":\"Slider\",\"id\":\"p1730\",\"attributes\":{\"js_property_callbacks\":{\"type\":\"map\",\"entries\":[[\"change:value\",[{\"type\":\"object\",\"name\":\"CustomJS\",\"id\":\"p1732\",\"attributes\":{\"args\":{\"type\":\"map\",\"entries\":[[\"span\",{\"id\":\"p1731\"}]]},\"code\":\"\\n        span.location = cb_obj.value\\n    \"}}]]]},\"width\":500,\"title\":\"1305\",\"start\":1150.516,\"end\":1978.6027,\"value\":1304.734619140625,\"step\":0.01}},{\"type\":\"object\",\"name\":\"Slider\",\"id\":\"p1733\",\"attributes\":{\"js_property_callbacks\":{\"type\":\"map\",\"entries\":[[\"change:value\",[{\"type\":\"object\",\"name\":\"CustomJS\",\"id\":\"p1735\",\"attributes\":{\"args\":{\"type\":\"map\",\"entries\":[[\"span\",{\"id\":\"p1734\"}]]},\"code\":\"\\n        span.location = cb_obj.value\\n    \"}}]]]},\"width\":500,\"title\":\"1397\",\"start\":1150.516,\"end\":1978.6027,\"value\":1396.9305419921875,\"step\":0.01}},{\"type\":\"object\",\"name\":\"Slider\",\"id\":\"p1736\",\"attributes\":{\"js_property_callbacks\":{\"type\":\"map\",\"entries\":[[\"change:value\",[{\"type\":\"object\",\"name\":\"CustomJS\",\"id\":\"p1738\",\"attributes\":{\"args\":{\"type\":\"map\",\"entries\":[[\"span\",{\"id\":\"p1737\"}]]},\"code\":\"\\n        span.location = cb_obj.value\\n    \"}}]]]},\"width\":500,\"title\":\"1548\",\"start\":1150.516,\"end\":1978.6027,\"value\":1547.79638671875,\"step\":0.01}},{\"type\":\"object\",\"name\":\"Slider\",\"id\":\"p1739\",\"attributes\":{\"js_property_callbacks\":{\"type\":\"map\",\"entries\":[[\"change:value\",[{\"type\":\"object\",\"name\":\"CustomJS\",\"id\":\"p1741\",\"attributes\":{\"args\":{\"type\":\"map\",\"entries\":[[\"span\",{\"id\":\"p1740\"}]]},\"code\":\"\\n        span.location = cb_obj.value\\n    \"}}]]]},\"width\":500,\"title\":\"1640\",\"start\":1150.516,\"end\":1978.6027,\"value\":1639.9923095703125,\"step\":0.01}},{\"type\":\"object\",\"name\":\"Slider\",\"id\":\"p1742\",\"attributes\":{\"js_property_callbacks\":{\"type\":\"map\",\"entries\":[[\"change:value\",[{\"type\":\"object\",\"name\":\"CustomJS\",\"id\":\"p1744\",\"attributes\":{\"args\":{\"type\":\"map\",\"entries\":[[\"span\",{\"id\":\"p1743\"}]]},\"code\":\"\\n        span.location = cb_obj.value\\n    \"}}]]]},\"width\":500,\"title\":\"1660\",\"start\":1150.516,\"end\":1978.6027,\"value\":1660.10791015625,\"step\":0.01}},{\"type\":\"object\",\"name\":\"Slider\",\"id\":\"p1745\",\"attributes\":{\"js_property_callbacks\":{\"type\":\"map\",\"entries\":[[\"change:value\",[{\"type\":\"object\",\"name\":\"CustomJS\",\"id\":\"p1747\",\"attributes\":{\"args\":{\"type\":\"map\",\"entries\":[[\"span\",{\"id\":\"p1746\"}]]},\"code\":\"\\n        span.location = cb_obj.value\\n    \"}}]]]},\"width\":500,\"title\":\"1682\",\"start\":1150.516,\"end\":1978.6027,\"value\":1681.8995361328125,\"step\":0.01}},{\"type\":\"object\",\"name\":\"Slider\",\"id\":\"p1748\",\"attributes\":{\"js_property_callbacks\":{\"type\":\"map\",\"entries\":[[\"change:value\",[{\"type\":\"object\",\"name\":\"CustomJS\",\"id\":\"p1750\",\"attributes\":{\"args\":{\"type\":\"map\",\"entries\":[[\"span\",{\"id\":\"p1749\"}]]},\"code\":\"\\n        span.location = cb_obj.value\\n    \"}}]]]},\"width\":500,\"title\":\"1818\",\"start\":1150.516,\"end\":1978.6027,\"value\":1817.678955078125,\"step\":0.01}},{\"type\":\"object\",\"name\":\"Slider\",\"id\":\"p1751\",\"attributes\":{\"js_property_callbacks\":{\"type\":\"map\",\"entries\":[[\"change:value\",[{\"type\":\"object\",\"name\":\"CustomJS\",\"id\":\"p1753\",\"attributes\":{\"args\":{\"type\":\"map\",\"entries\":[[\"span\",{\"id\":\"p1752\"}]]},\"code\":\"\\n        span.location = cb_obj.value\\n    \"}}]]]},\"width\":500,\"title\":\"1925\",\"start\":1150.516,\"end\":1978.6027,\"value\":1924.96142578125,\"step\":0.01}},{\"type\":\"object\",\"name\":\"Slider\",\"id\":\"p1754\",\"attributes\":{\"js_property_callbacks\":{\"type\":\"map\",\"entries\":[[\"change:value\",[{\"type\":\"object\",\"name\":\"CustomJS\",\"id\":\"p1756\",\"attributes\":{\"args\":{\"type\":\"map\",\"entries\":[[\"span\",{\"id\":\"p1755\"}]]},\"code\":\"\\n        span.location = cb_obj.value\\n    \"}}]]]},\"width\":500,\"title\":\"1952\",\"start\":1150.516,\"end\":1978.6027,\"value\":1951.781982421875,\"step\":0.01}},{\"type\":\"object\",\"name\":\"Slider\",\"id\":\"p1757\",\"attributes\":{\"js_property_callbacks\":{\"type\":\"map\",\"entries\":[[\"change:value\",[{\"type\":\"object\",\"name\":\"CustomJS\",\"id\":\"p1759\",\"attributes\":{\"args\":{\"type\":\"map\",\"entries\":[[\"span\",{\"id\":\"p1758\"}]]},\"code\":\"\\n        span.location = cb_obj.value\\n    \"}}]]]},\"width\":500,\"title\":\"1970\",\"start\":1150.516,\"end\":1978.6027,\"value\":1970.22119140625,\"step\":0.01}}]}},{\"type\":\"object\",\"name\":\"Column\",\"id\":\"p1777\",\"attributes\":{\"sizing_mode\":\"scale_width\",\"children\":[{\"type\":\"object\",\"name\":\"Slider\",\"id\":\"p1760\",\"attributes\":{\"js_property_callbacks\":{\"type\":\"map\",\"entries\":[[\"change:value\",[{\"type\":\"object\",\"name\":\"CustomJS\",\"id\":\"p1762\",\"attributes\":{\"args\":{\"type\":\"map\",\"entries\":[[\"span\",{\"id\":\"p1761\"}]]},\"code\":\"\\n        span.location = cb_obj.value\\n    \"}}]]]},\"width\":500,\"title\":\"User line 1\",\"start\":1150.516,\"end\":1978.6027,\"value\":1978.6027,\"step\":0.01}},{\"type\":\"object\",\"name\":\"Slider\",\"id\":\"p1763\",\"attributes\":{\"js_property_callbacks\":{\"type\":\"map\",\"entries\":[[\"change:value\",[{\"type\":\"object\",\"name\":\"CustomJS\",\"id\":\"p1765\",\"attributes\":{\"args\":{\"type\":\"map\",\"entries\":[[\"span\",{\"id\":\"p1764\"}]]},\"code\":\"\\n        span.location = cb_obj.value\\n    \"}}]]]},\"width\":500,\"title\":\"User line 2\",\"start\":1150.516,\"end\":1978.6027,\"value\":1978.6027,\"step\":0.01}},{\"type\":\"object\",\"name\":\"Slider\",\"id\":\"p1766\",\"attributes\":{\"js_property_callbacks\":{\"type\":\"map\",\"entries\":[[\"change:value\",[{\"type\":\"object\",\"name\":\"CustomJS\",\"id\":\"p1768\",\"attributes\":{\"args\":{\"type\":\"map\",\"entries\":[[\"span\",{\"id\":\"p1767\"}]]},\"code\":\"\\n        span.location = cb_obj.value\\n    \"}}]]]},\"width\":500,\"title\":\"User line 3\",\"start\":1150.516,\"end\":1978.6027,\"value\":1978.6027,\"step\":0.01}},{\"type\":\"object\",\"name\":\"Slider\",\"id\":\"p1769\",\"attributes\":{\"js_property_callbacks\":{\"type\":\"map\",\"entries\":[[\"change:value\",[{\"type\":\"object\",\"name\":\"CustomJS\",\"id\":\"p1771\",\"attributes\":{\"args\":{\"type\":\"map\",\"entries\":[[\"span\",{\"id\":\"p1770\"}]]},\"code\":\"\\n        span.location = cb_obj.value\\n    \"}}]]]},\"width\":500,\"title\":\"User line 4\",\"start\":1150.516,\"end\":1978.6027,\"value\":1978.6027,\"step\":0.01}},{\"type\":\"object\",\"name\":\"Slider\",\"id\":\"p1772\",\"attributes\":{\"js_property_callbacks\":{\"type\":\"map\",\"entries\":[[\"change:value\",[{\"type\":\"object\",\"name\":\"CustomJS\",\"id\":\"p1774\",\"attributes\":{\"args\":{\"type\":\"map\",\"entries\":[[\"span\",{\"id\":\"p1773\"}]]},\"code\":\"\\n        span.location = cb_obj.value\\n    \"}}]]]},\"width\":500,\"title\":\"User line 5\",\"start\":1150.516,\"end\":1978.6027,\"value\":1978.6027,\"step\":0.01}}]}}]}},{\"type\":\"object\",\"name\":\"Button\",\"id\":\"p1775\",\"attributes\":{\"button_type\":\"success\",\"align\":\"center\",\"label\":\"Save inputs\"}}]}}]}};\n",
       "  const render_items = [{\"docid\":\"04008ccf-e298-4e94-a6d1-cc8ac034c790\",\"roots\":{\"p1779\":\"8b195c99-10c3-46f9-9924-014fa56b22c9\"},\"root_ids\":[\"p1779\"]}];\n",
       "  root.Bokeh.embed.embed_items_notebook(docs_json, render_items);\n",
       "  }\n",
       "  if (root.Bokeh !== undefined) {\n",
       "    embed_document(root);\n",
       "  } else {\n",
       "    let attempts = 0;\n",
       "    const timer = setInterval(function(root) {\n",
       "      if (root.Bokeh !== undefined) {\n",
       "        clearInterval(timer);\n",
       "        embed_document(root);\n",
       "      } else {\n",
       "        attempts++;\n",
       "        if (attempts > 100) {\n",
       "          clearInterval(timer);\n",
       "          console.log(\"Bokeh: ERROR: Unable to run BokehJS code because BokehJS library is missing\");\n",
       "        }\n",
       "      }\n",
       "    }, 10, root)\n",
       "  }\n",
       "})(window);"
      ],
      "application/vnd.bokehjs_exec.v0+json": ""
     },
     "metadata": {
      "application/vnd.bokehjs_exec.v0+json": {
       "id": "p1779"
      }
     },
     "output_type": "display_data"
    }
   ],
   "source": [
    "## Plot\n",
    "\n",
    "p = figure(title=f\"Spectrum for * gam Mic (swp54894, G III-I, SNR = 3)\", \n",
    "           y_axis_label=r\"Flux (erg/cm^2/s/A)\", \n",
    "           x_axis_label=r\"Wavelength (Angstrom)\", sizing_mode='stretch_width')\n",
    "\n",
    "p.line(wavelengths, flux, line_width=2)\n",
    "p.varea(x=wavelengths, y1=flux-fluxerr, y2=flux+fluxerr, fill_color=\"gray\", alpha=0.5)\n",
    "\n",
    "\n",
    "## Add slider for each identified peak\n",
    "\n",
    "sliders = []\n",
    "\n",
    "for i in range(len(lines)):\n",
    "    \n",
    "    slider = Slider(start=wavelengths[0], end=wavelengths[-1], \n",
    "                    value=lines['line_center'][i], \n",
    "                    step=0.01, title=lines['Peak label'][i], width=500)\n",
    "    span = Span(location=slider.value, dimension='height', line_color=\"#B488D3\", line_dash='dashed')\n",
    "    p.add_layout(span)\n",
    "\n",
    "    callback = CustomJS(args=dict(span=span), code=\"\"\"\n",
    "        span.location = cb_obj.value\n",
    "    \"\"\")\n",
    "    slider.js_on_change('value', callback)\n",
    "    \n",
    "    sliders.append(slider)\n",
    "    \n",
    "user_sliders = []\n",
    "\n",
    "for i in range(5):\n",
    "    \n",
    "    slider = Slider(start=wavelengths[0], end=wavelengths[-1], \n",
    "                    value=wavelengths[-1], \n",
    "                    step=0.01, title=f'User line {i+1}', width=500)\n",
    "    span = Span(location=slider.value, dimension='height', line_color=\"#2d8659\", line_dash='dashed')\n",
    "    p.add_layout(span)\n",
    "\n",
    "    callback = CustomJS(args=dict(span=span), code=\"\"\"\n",
    "        span.location = cb_obj.value\n",
    "    \"\"\")\n",
    "    slider.js_on_change('value', callback)\n",
    "    \n",
    "    user_sliders.append(slider)\n",
    "    \n",
    "    \n",
    "## Add button to save results\n",
    "button = Button(label='Save inputs', button_type='success', align='center')\n",
    "    \n",
    "    \n",
    "## Format and show\n",
    "\n",
    "row2 = row(column(*sliders, sizing_mode='scale_width'), \n",
    "           column(*user_sliders, sizing_mode='scale_width'), sizing_mode='scale_width')   \n",
    "layout = column(p, row2, button, sizing_mode='scale_width')\n",
    "  \n",
    "# layout = column(p, slider, sizing_mode='scale_width')\n",
    "# curdoc().add_root(layout)\n",
    "show(layout)\n"
   ]
  },
  {
   "cell_type": "code",
   "execution_count": 19,
   "id": "9b0284d3",
   "metadata": {
    "ExecuteTime": {
     "end_time": "2022-12-24T20:08:00.892334Z",
     "start_time": "2022-12-24T20:08:00.883358Z"
    }
   },
   "outputs": [
    {
     "data": {
      "text/plain": [
       "[1180.6892,\n",
       " 1215.8912,\n",
       " 1234.3304,\n",
       " 1304.7346,\n",
       " 1396.9305,\n",
       " 1547.7964,\n",
       " 1639.9923,\n",
       " 1660.1079,\n",
       " 1681.8995,\n",
       " 1817.679,\n",
       " 1924.9614,\n",
       " 1951.782,\n",
       " 1970.2212]"
      ]
     },
     "execution_count": 19,
     "metadata": {},
     "output_type": "execute_result"
    }
   ],
   "source": [
    "slider_values = [1180.6892, 1215.8912, 1234.3304, 1304.7346, 1396.9305, \n",
    "                 1547.7964, 1639.9923, 1660.1079, 1681.8995, 1817.679, \n",
    "                 1924.9614, 1951.782, 1970.2212]\n",
    "\n",
    "for k in np.where(slider_values==wavelengths.max())[0]:\n",
    "    slider_values[k] = 0.\n",
    "    \n",
    "slider_values"
   ]
  },
  {
   "cell_type": "code",
   "execution_count": 26,
   "id": "d394ab68",
   "metadata": {
    "ExecuteTime": {
     "end_time": "2022-12-24T20:13:02.520032Z",
     "start_time": "2022-12-24T20:13:02.510639Z"
    }
   },
   "outputs": [
    {
     "data": {
      "text/html": [
       "<div><i>Table length=13</i>\n",
       "<table id=\"table140188877458064\" class=\"table-striped table-bordered table-condensed\">\n",
       "<thead><tr><th>line_center</th><th>line_type</th><th>line_center_index</th><th>Peak label</th><th>Spectrum</th><th>Confident?</th><th>Measured peak</th></tr></thead>\n",
       "<thead><tr><th>Angstrom</th><th></th><th></th><th></th><th></th><th></th><th></th></tr></thead>\n",
       "<thead><tr><th>float32</th><th>str8</th><th>int64</th><th>str4</th><th>str1</th><th>bool</th><th>float64</th></tr></thead>\n",
       "<tr><td>1180.6892</td><td>emission</td><td>18</td><td>1181</td><td>?</td><td>False</td><td>1180.6892</td></tr>\n",
       "<tr><td>1215.8912</td><td>emission</td><td>39</td><td>1216</td><td>?</td><td>False</td><td>1215.8912</td></tr>\n",
       "<tr><td>1234.3304</td><td>emission</td><td>50</td><td>1234</td><td>?</td><td>False</td><td>1234.3304</td></tr>\n",
       "<tr><td>1304.7346</td><td>emission</td><td>92</td><td>1305</td><td>?</td><td>False</td><td>1304.7346</td></tr>\n",
       "<tr><td>1396.9305</td><td>emission</td><td>147</td><td>1397</td><td>?</td><td>False</td><td>1396.9305</td></tr>\n",
       "<tr><td>1547.7964</td><td>emission</td><td>237</td><td>1548</td><td>?</td><td>False</td><td>1547.7964</td></tr>\n",
       "<tr><td>1639.9923</td><td>emission</td><td>292</td><td>1640</td><td>?</td><td>False</td><td>1639.9923</td></tr>\n",
       "<tr><td>1660.1079</td><td>emission</td><td>304</td><td>1660</td><td>?</td><td>False</td><td>1660.1079</td></tr>\n",
       "<tr><td>1681.8995</td><td>emission</td><td>317</td><td>1682</td><td>?</td><td>False</td><td>1681.8995</td></tr>\n",
       "<tr><td>1817.679</td><td>emission</td><td>398</td><td>1818</td><td>?</td><td>False</td><td>1817.679</td></tr>\n",
       "<tr><td>1924.9614</td><td>emission</td><td>462</td><td>1925</td><td>?</td><td>False</td><td>1924.9614</td></tr>\n",
       "<tr><td>1951.782</td><td>emission</td><td>478</td><td>1952</td><td>?</td><td>False</td><td>1951.782</td></tr>\n",
       "<tr><td>1970.2212</td><td>emission</td><td>489</td><td>1970</td><td>?</td><td>False</td><td>1970.2212</td></tr>\n",
       "</table></div>"
      ],
      "text/plain": [
       "<Table length=13>\n",
       "line_center line_type line_center_index Peak label Spectrum Confident? Measured peak\n",
       "  Angstrom                                                                          \n",
       "  float32      str8         int64          str4      str1      bool       float64   \n",
       "----------- --------- ----------------- ---------- -------- ---------- -------------\n",
       "  1180.6892  emission                18       1181        ?      False     1180.6892\n",
       "  1215.8912  emission                39       1216        ?      False     1215.8912\n",
       "  1234.3304  emission                50       1234        ?      False     1234.3304\n",
       "  1304.7346  emission                92       1305        ?      False     1304.7346\n",
       "  1396.9305  emission               147       1397        ?      False     1396.9305\n",
       "  1547.7964  emission               237       1548        ?      False     1547.7964\n",
       "  1639.9923  emission               292       1640        ?      False     1639.9923\n",
       "  1660.1079  emission               304       1660        ?      False     1660.1079\n",
       "  1681.8995  emission               317       1682        ?      False     1681.8995\n",
       "   1817.679  emission               398       1818        ?      False      1817.679\n",
       "  1924.9614  emission               462       1925        ?      False     1924.9614\n",
       "   1951.782  emission               478       1952        ?      False      1951.782\n",
       "  1970.2212  emission               489       1970        ?      False     1970.2212"
      ]
     },
     "execution_count": 26,
     "metadata": {},
     "output_type": "execute_result"
    }
   ],
   "source": [
    "lines# = slider_values"
   ]
  },
  {
   "cell_type": "code",
   "execution_count": null,
   "id": "18a0607a",
   "metadata": {},
   "outputs": [],
   "source": [
    "testlabel = str(round(slider_values[0]))"
   ]
  },
  {
   "cell_type": "code",
   "execution_count": 29,
   "id": "2d491624",
   "metadata": {
    "ExecuteTime": {
     "end_time": "2022-12-24T20:15:39.571923Z",
     "start_time": "2022-12-24T20:15:39.552555Z"
    }
   },
   "outputs": [
    {
     "data": {
      "text/html": [
       "<div><i>Table length=20</i>\n",
       "<table id=\"table140188877458064\" class=\"table-striped table-bordered table-condensed\">\n",
       "<thead><tr><th>line_center</th><th>line_type</th><th>line_center_index</th><th>Peak label</th><th>Spectrum</th><th>Confident?</th><th>Measured peak</th></tr></thead>\n",
       "<thead><tr><th>Angstrom</th><th></th><th></th><th></th><th></th><th></th><th></th></tr></thead>\n",
       "<thead><tr><th>float32</th><th>str8</th><th>int64</th><th>str4</th><th>str1</th><th>bool</th><th>float64</th></tr></thead>\n",
       "<tr><td>1180.6892</td><td>emission</td><td>18</td><td>1181</td><td>?</td><td>False</td><td>1180.6892</td></tr>\n",
       "<tr><td>1215.8912</td><td>emission</td><td>39</td><td>1216</td><td>?</td><td>False</td><td>1215.8912</td></tr>\n",
       "<tr><td>1234.3304</td><td>emission</td><td>50</td><td>1234</td><td>?</td><td>False</td><td>1234.3304</td></tr>\n",
       "<tr><td>1304.7346</td><td>emission</td><td>92</td><td>1305</td><td>?</td><td>False</td><td>1304.7346</td></tr>\n",
       "<tr><td>1396.9305</td><td>emission</td><td>147</td><td>1397</td><td>?</td><td>False</td><td>1396.9305</td></tr>\n",
       "<tr><td>1547.7964</td><td>emission</td><td>237</td><td>1548</td><td>?</td><td>False</td><td>1547.7964</td></tr>\n",
       "<tr><td>1639.9923</td><td>emission</td><td>292</td><td>1640</td><td>?</td><td>False</td><td>1639.9923</td></tr>\n",
       "<tr><td>1660.1079</td><td>emission</td><td>304</td><td>1660</td><td>?</td><td>False</td><td>1660.1079</td></tr>\n",
       "<tr><td>1681.8995</td><td>emission</td><td>317</td><td>1682</td><td>?</td><td>False</td><td>1681.8995</td></tr>\n",
       "<tr><td>1817.679</td><td>emission</td><td>398</td><td>1818</td><td>?</td><td>False</td><td>1817.679</td></tr>\n",
       "<tr><td>1924.9614</td><td>emission</td><td>462</td><td>1925</td><td>?</td><td>False</td><td>1924.9614</td></tr>\n",
       "<tr><td>1951.782</td><td>emission</td><td>478</td><td>1952</td><td>?</td><td>False</td><td>1951.782</td></tr>\n",
       "<tr><td>1970.2212</td><td>emission</td><td>489</td><td>1970</td><td>?</td><td>False</td><td>1970.2212</td></tr>\n",
       "<tr><td>0.0</td><td>emission</td><td>0</td><td>1181</td><td></td><td>False</td><td>1180.6892</td></tr>\n",
       "<tr><td>0.0</td><td>emission</td><td>0</td><td>1181</td><td></td><td>False</td><td>1180.6892</td></tr>\n",
       "<tr><td>0.0</td><td>emission</td><td>0</td><td>1151</td><td></td><td>False</td><td>1150.516</td></tr>\n",
       "<tr><td>0.0</td><td>emission</td><td>0</td><td>1979</td><td></td><td>False</td><td>1978.6027</td></tr>\n",
       "<tr><td>0.0</td><td>emission</td><td>0</td><td>1979</td><td></td><td>False</td><td>1978.6027</td></tr>\n",
       "<tr><td>0.0</td><td>emission</td><td>0</td><td>1979</td><td></td><td>False</td><td>1978.6027</td></tr>\n",
       "<tr><td>0.0</td><td>emission</td><td>0</td><td>1979</td><td></td><td>False</td><td>1978.6027</td></tr>\n",
       "</table></div>"
      ],
      "text/plain": [
       "<Table length=20>\n",
       "line_center line_type line_center_index Peak label Spectrum Confident? Measured peak\n",
       "  Angstrom                                                                          \n",
       "  float32      str8         int64          str4      str1      bool       float64   \n",
       "----------- --------- ----------------- ---------- -------- ---------- -------------\n",
       "  1180.6892  emission                18       1181        ?      False     1180.6892\n",
       "  1215.8912  emission                39       1216        ?      False     1215.8912\n",
       "  1234.3304  emission                50       1234        ?      False     1234.3304\n",
       "  1304.7346  emission                92       1305        ?      False     1304.7346\n",
       "  1396.9305  emission               147       1397        ?      False     1396.9305\n",
       "  1547.7964  emission               237       1548        ?      False     1547.7964\n",
       "  1639.9923  emission               292       1640        ?      False     1639.9923\n",
       "  1660.1079  emission               304       1660        ?      False     1660.1079\n",
       "  1681.8995  emission               317       1682        ?      False     1681.8995\n",
       "   1817.679  emission               398       1818        ?      False      1817.679\n",
       "  1924.9614  emission               462       1925        ?      False     1924.9614\n",
       "   1951.782  emission               478       1952        ?      False      1951.782\n",
       "  1970.2212  emission               489       1970        ?      False     1970.2212\n",
       "        0.0  emission                 0       1181               False     1180.6892\n",
       "        0.0  emission                 0       1181               False     1180.6892\n",
       "        0.0  emission                 0       1151               False      1150.516\n",
       "        0.0  emission                 0       1979               False     1978.6027\n",
       "        0.0  emission                 0       1979               False     1978.6027\n",
       "        0.0  emission                 0       1979               False     1978.6027\n",
       "        0.0  emission                 0       1979               False     1978.6027"
      ]
     },
     "execution_count": 29,
     "metadata": {},
     "output_type": "execute_result"
    }
   ],
   "source": [
    "user_slider_values = [1150.516, 1978.6027, 1978.6027, 1978.6027, 1978.6027]\n",
    "\n",
    "for j in range(len(user_slider_values)):\n",
    "    r = (0, 'emission', 0, str(round(user_slider_values[j])), '?', False, user_slider_values[j])\n",
    "    lines.add_row(r)\n",
    "    \n",
    "lines"
   ]
  },
  {
   "cell_type": "code",
   "execution_count": 30,
   "id": "60f82577",
   "metadata": {
    "ExecuteTime": {
     "end_time": "2022-12-24T20:18:08.084335Z",
     "start_time": "2022-12-24T20:18:08.051109Z"
    }
   },
   "outputs": [
    {
     "data": {
      "text/html": [
       "<div><i>Table length=18</i>\n",
       "<table id=\"table140188907514656\" class=\"table-striped table-bordered table-condensed\">\n",
       "<thead><tr><th>line_center</th><th>line_type</th><th>line_center_index</th><th>Peak label</th><th>Spectrum</th><th>Confident?</th><th>Measured</th></tr></thead>\n",
       "<thead><tr><th>Angstrom</th><th></th><th></th><th></th><th></th><th></th><th></th></tr></thead>\n",
       "<thead><tr><th>float32</th><th>str8</th><th>int64</th><th>str4</th><th>str1</th><th>bool</th><th>float64</th></tr></thead>\n",
       "<tr><td>1180.6892</td><td>emission</td><td>18</td><td>1181</td><td>?</td><td>False</td><td>0.0</td></tr>\n",
       "<tr><td>1215.8912</td><td>emission</td><td>39</td><td>1216</td><td>?</td><td>False</td><td>1215.8912353515625</td></tr>\n",
       "<tr><td>1234.3304</td><td>emission</td><td>50</td><td>1234</td><td>?</td><td>False</td><td>1234.3304443359375</td></tr>\n",
       "<tr><td>1304.7346</td><td>emission</td><td>92</td><td>1305</td><td>?</td><td>False</td><td>1304.734619140625</td></tr>\n",
       "<tr><td>1396.9305</td><td>emission</td><td>147</td><td>1397</td><td>?</td><td>False</td><td>1396.9305419921875</td></tr>\n",
       "<tr><td>1547.7964</td><td>emission</td><td>237</td><td>1548</td><td>?</td><td>False</td><td>1547.79638671875</td></tr>\n",
       "<tr><td>1639.9923</td><td>emission</td><td>292</td><td>1640</td><td>?</td><td>False</td><td>1639.9923095703125</td></tr>\n",
       "<tr><td>1660.1079</td><td>emission</td><td>304</td><td>1660</td><td>?</td><td>False</td><td>1660.10791015625</td></tr>\n",
       "<tr><td>1681.8995</td><td>emission</td><td>317</td><td>1682</td><td>?</td><td>False</td><td>1681.8995361328125</td></tr>\n",
       "<tr><td>1817.679</td><td>emission</td><td>398</td><td>1818</td><td>?</td><td>False</td><td>1817.678955078125</td></tr>\n",
       "<tr><td>1924.9614</td><td>emission</td><td>462</td><td>1925</td><td>?</td><td>False</td><td>1924.96142578125</td></tr>\n",
       "<tr><td>1951.782</td><td>emission</td><td>478</td><td>1952</td><td>?</td><td>False</td><td>1951.781982421875</td></tr>\n",
       "<tr><td>1970.2212</td><td>emission</td><td>489</td><td>1970</td><td>?</td><td>False</td><td>1970.22119140625</td></tr>\n",
       "<tr><td>0.0</td><td>emission</td><td>0</td><td>1151</td><td>?</td><td>False</td><td>1150.516</td></tr>\n",
       "<tr><td>0.0</td><td>emission</td><td>0</td><td>1979</td><td>?</td><td>False</td><td>1978.6027</td></tr>\n",
       "<tr><td>0.0</td><td>emission</td><td>0</td><td>1979</td><td>?</td><td>False</td><td>1978.6027</td></tr>\n",
       "<tr><td>0.0</td><td>emission</td><td>0</td><td>1979</td><td>?</td><td>False</td><td>1978.6027</td></tr>\n",
       "<tr><td>0.0</td><td>emission</td><td>0</td><td>1979</td><td>?</td><td>False</td><td>1978.6027</td></tr>\n",
       "</table></div>"
      ],
      "text/plain": [
       "<Table length=18>\n",
       "line_center line_type line_center_index Peak label Spectrum Confident?      Measured     \n",
       "  Angstrom                                                                               \n",
       "  float32      str8         int64          str4      str1      bool         float64      \n",
       "----------- --------- ----------------- ---------- -------- ---------- ------------------\n",
       "  1180.6892  emission                18       1181        ?      False                0.0\n",
       "  1215.8912  emission                39       1216        ?      False 1215.8912353515625\n",
       "  1234.3304  emission                50       1234        ?      False 1234.3304443359375\n",
       "  1304.7346  emission                92       1305        ?      False  1304.734619140625\n",
       "  1396.9305  emission               147       1397        ?      False 1396.9305419921875\n",
       "  1547.7964  emission               237       1548        ?      False   1547.79638671875\n",
       "  1639.9923  emission               292       1640        ?      False 1639.9923095703125\n",
       "  1660.1079  emission               304       1660        ?      False   1660.10791015625\n",
       "  1681.8995  emission               317       1682        ?      False 1681.8995361328125\n",
       "   1817.679  emission               398       1818        ?      False  1817.678955078125\n",
       "  1924.9614  emission               462       1925        ?      False   1924.96142578125\n",
       "   1951.782  emission               478       1952        ?      False  1951.781982421875\n",
       "  1970.2212  emission               489       1970        ?      False   1970.22119140625\n",
       "        0.0  emission                 0       1151        ?      False           1150.516\n",
       "        0.0  emission                 0       1979        ?      False          1978.6027\n",
       "        0.0  emission                 0       1979        ?      False          1978.6027\n",
       "        0.0  emission                 0       1979        ?      False          1978.6027\n",
       "        0.0  emission                 0       1979        ?      False          1978.6027"
      ]
     },
     "execution_count": 30,
     "metadata": {},
     "output_type": "execute_result"
    }
   ],
   "source": [
    "testlines = Table.read('/Users/isabelkain/Desktop/GALEX/data/swp54894_foundpeaks_test.ecsv')\n",
    "testlines"
   ]
  },
  {
   "cell_type": "code",
   "execution_count": 57,
   "id": "da06c675",
   "metadata": {
    "ExecuteTime": {
     "end_time": "2022-12-24T20:47:50.607679Z",
     "start_time": "2022-12-24T20:47:50.598429Z"
    }
   },
   "outputs": [
    {
     "name": "stdout",
     "output_type": "stream",
     "text": [
      "swpid = '* swpid = 'TESTSWPID123'\n"
     ]
    }
   ],
   "source": [
    "swpid = 'TESTSWPID'\n",
    "\n",
    "plotfile = '/Users/isabelkain/Desktop/GALEX/code/bokehplot.py'\n",
    "search_text = 'swpid = \\'*\\'\\n'\n",
    "replace_text = f'swpid = \\'{swpid}\\'\\n'\n",
    "\n",
    "print(search_text, replace_text)\n",
    "\n",
    "with open('/Users/isabelkain/Desktop/GALEX/code/bokehplot.py', 'r') as file:\n",
    "    lines = file.readlines()\n",
    "    \n",
    "#     data = data.replace('swpid = \\'', replace_text)\n",
    "    test = re.sub(search_text, replace_text, data, count=0, flags=0)"
   ]
  },
  {
   "cell_type": "code",
   "execution_count": 75,
   "id": "10fc5e0b",
   "metadata": {
    "ExecuteTime": {
     "end_time": "2022-12-24T21:01:03.759099Z",
     "start_time": "2022-12-24T21:01:03.750627Z"
    },
    "scrolled": false
   },
   "outputs": [
    {
     "data": {
      "text/plain": [
       "'import pandas as pd\\n'"
      ]
     },
     "metadata": {},
     "output_type": "display_data"
    }
   ],
   "source": [
    "# swpid = 'TESTSWPID'\n",
    "\n",
    "# plotfile = '/Users/isabelkain/Desktop/GALEX/code/bokehplot.py'\n",
    "# search_text = 'swpid = \\'*\\'\\n'\n",
    "# replace_text = f'swpid = \\'{swpid}\\'\\n'\n",
    "\n",
    "\n",
    "# with open(plotfile, 'r') as file:\n",
    "    \n",
    "#     lines = file.readlines()\n",
    "    \n",
    "#     for line in lines:\n",
    "        \n",
    "        \n",
    "        \n",
    "        \n",
    "# #         newline = re.sub(search_text, replace_text, data, count=0, flags=0) #line.replace('*', f'swpid = \\'{swpid}\\'\\n')\n",
    "# #         display(line, newline)"
   ]
  },
  {
   "cell_type": "code",
   "execution_count": 88,
   "id": "fae8a469",
   "metadata": {
    "ExecuteTime": {
     "end_time": "2022-12-24T21:06:07.010404Z",
     "start_time": "2022-12-24T21:06:07.002342Z"
    },
    "scrolled": false
   },
   "outputs": [],
   "source": [
    "# for i in range(len(lines)):\n",
    "\n",
    "#     srch = re.search(search_text, lines[i])\n",
    "#     if type(srch) != NoneType:\n",
    "#         print('yes')"
   ]
  },
  {
   "cell_type": "code",
   "execution_count": 97,
   "id": "554720ab",
   "metadata": {
    "ExecuteTime": {
     "end_time": "2022-12-24T21:13:23.854784Z",
     "start_time": "2022-12-24T21:13:23.840661Z"
    },
    "scrolled": false
   },
   "outputs": [
    {
     "name": "stdout",
     "output_type": "stream",
     "text": [
      "swpid = 'swp54894'\n",
      " swpid = 'TEST123'\n",
      "starname = '* gam Mic'\n",
      " starname = 'test star'\n",
      "objname = '*gamMic'\n",
      " objname = 'teststar'\n"
     ]
    }
   ],
   "source": [
    "swpid = 'TEST123'\n",
    "objname = 'teststar'\n",
    "starname = 'test star'\n",
    "\n",
    "\n",
    "with open('/Users/isabelkain/Desktop/GALEX/code/bokehplot.py') as f:\n",
    "    content_list = f.readlines()\n",
    "\n",
    "for i, line in enumerate(content_list):\n",
    "    if 'swpid = ' in line:\n",
    "        content_list[i] = f'swpid = \\'{swpid}\\''\n",
    "        print(line, content_list[i])\n",
    "    if 'objname = ' in line:\n",
    "        content_list[i] = f'objname = \\'{objname}\\''\n",
    "        print(line, content_list[i])\n",
    "    if 'starname = ' in line:\n",
    "        content_list[i] =f'starname = \\'{starname}\\''\n",
    "        print(line, content_list[i])\n",
    "        \n"
   ]
  },
  {
   "cell_type": "code",
   "execution_count": 99,
   "id": "732fdc38",
   "metadata": {
    "ExecuteTime": {
     "end_time": "2022-12-24T21:19:14.051380Z",
     "start_time": "2022-12-24T21:19:14.045977Z"
    }
   },
   "outputs": [],
   "source": []
  },
  {
   "cell_type": "code",
   "execution_count": 106,
   "id": "80a3878e",
   "metadata": {
    "ExecuteTime": {
     "end_time": "2022-12-24T21:23:53.818106Z",
     "start_time": "2022-12-24T21:23:53.801730Z"
    }
   },
   "outputs": [],
   "source": [
    "def replace_swpid(scriptpath, swpid, objname, starname):\n",
    "    \n",
    "    #Create temp file\n",
    "    fh, abs_path = mkstemp()\n",
    "    \n",
    "    with os.fdopen(fh,'w') as new_file:\n",
    "        \n",
    "        with open(scriptpath) as old_file:\n",
    "            \n",
    "            content_list = old_file.readlines()\n",
    "            \n",
    "            for i, line in enumerate(content_list):\n",
    "                if 'swpid = ' in line:\n",
    "                    content_list[i] = f'swpid = \\'{swpid}\\'\\n'\n",
    "                    print(line, content_list[i])\n",
    "                if 'objname = ' in line:\n",
    "                    content_list[i] = f'objname = \\'{objname}\\'\\n'\n",
    "                    print(line, content_list[i])\n",
    "                if 'starname = ' in line:\n",
    "                    content_list[i] =f'starname = \\'{starname}\\'\\n'\n",
    "                    print(line, content_list[i])\n",
    "            \n",
    "                new_file.write(content_list[i])\n",
    "            \n",
    "                \n",
    "    #Copy the file permissions from the old file to the new file\n",
    "    shutil.copymode(scriptpath, abs_path)\n",
    "    \n",
    "    #Remove original file\n",
    "    os.remove(scriptpath)\n",
    "    \n",
    "    #Move new file\n",
    "    shutil.move(abs_path, scriptpath)"
   ]
  },
  {
   "cell_type": "code",
   "execution_count": 107,
   "id": "997764a5",
   "metadata": {
    "ExecuteTime": {
     "end_time": "2022-12-24T21:23:55.637362Z",
     "start_time": "2022-12-24T21:23:55.629922Z"
    }
   },
   "outputs": [
    {
     "name": "stdout",
     "output_type": "stream",
     "text": [
      "swpid = 'xyz'\n",
      " swpid = 'TESTSWPID'\n",
      "\n",
      "starname = 'abc'\n",
      " starname = 'TESTSTARNAME'\n",
      "\n",
      "objname = '123'\n",
      " objname = 'TESTOBJNAME'\n",
      "\n"
     ]
    }
   ],
   "source": [
    "swpid = 'TESTSWPID'\n",
    "objname = 'TESTOBJNAME'\n",
    "starname = 'TESTSTARNAME'\n",
    "\n",
    "scriptpath = '/Users/isabelkain/Desktop/GALEX/code/bokehplot.py'\n",
    "\n",
    "replace_swpid(scriptpath, swpid, objname, starname)"
   ]
  },
  {
   "cell_type": "code",
   "execution_count": null,
   "id": "f3dbe419",
   "metadata": {},
   "outputs": [],
   "source": [
    "import shutil\n",
    "from tempfile import mkstemp"
   ]
  }
 ],
 "metadata": {
  "kernelspec": {
   "display_name": "Python 3 (ipykernel)",
   "language": "python",
   "name": "python3"
  },
  "language_info": {
   "codemirror_mode": {
    "name": "ipython",
    "version": 3
   },
   "file_extension": ".py",
   "mimetype": "text/x-python",
   "name": "python",
   "nbconvert_exporter": "python",
   "pygments_lexer": "ipython3",
   "version": "3.8.8"
  },
  "toc": {
   "base_numbering": 1,
   "nav_menu": {},
   "number_sections": true,
   "sideBar": true,
   "skip_h1_title": false,
   "title_cell": "Table of Contents",
   "title_sidebar": "Contents",
   "toc_cell": false,
   "toc_position": {},
   "toc_section_display": true,
   "toc_window_display": false
  },
  "varInspector": {
   "cols": {
    "lenName": 16,
    "lenType": 16,
    "lenVar": 40
   },
   "kernels_config": {
    "python": {
     "delete_cmd_postfix": "",
     "delete_cmd_prefix": "del ",
     "library": "var_list.py",
     "varRefreshCmd": "print(var_dic_list())"
    },
    "r": {
     "delete_cmd_postfix": ") ",
     "delete_cmd_prefix": "rm(",
     "library": "var_list.r",
     "varRefreshCmd": "cat(var_dic_list()) "
    }
   },
   "types_to_exclude": [
    "module",
    "function",
    "builtin_function_or_method",
    "instance",
    "_Feature"
   ],
   "window_display": false
  }
 },
 "nbformat": 4,
 "nbformat_minor": 5
}
