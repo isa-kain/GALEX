{
 "cells": [
  {
   "cell_type": "code",
   "execution_count": 13,
   "id": "79755bd7",
   "metadata": {
    "ExecuteTime": {
     "end_time": "2022-12-23T16:49:34.932514Z",
     "start_time": "2022-12-23T16:49:34.926357Z"
    }
   },
   "outputs": [],
   "source": [
    "import numpy as np\n",
    "import pandas as pd\n",
    "from astropy.io import fits\n",
    "from astropy.table import Table, vstack, hstack, join\n",
    "import glob"
   ]
  },
  {
   "cell_type": "code",
   "execution_count": 15,
   "id": "a7eb9732",
   "metadata": {
    "ExecuteTime": {
     "end_time": "2022-12-23T16:49:51.765117Z",
     "start_time": "2022-12-23T16:49:51.757301Z"
    }
   },
   "outputs": [],
   "source": [
    "datapath = '/Users/isabelkain/Desktop/GALEX/data'\n"
   ]
  },
  {
   "cell_type": "code",
   "execution_count": 2,
   "id": "6dfad3a3",
   "metadata": {
    "ExecuteTime": {
     "end_time": "2022-12-23T16:42:00.263203Z",
     "start_time": "2022-12-23T16:42:00.034267Z"
    }
   },
   "outputs": [],
   "source": [
    "table = Table.read('/Users/isabelkain/Desktop/GALEX/data/dataset.ecsv')\n"
   ]
  },
  {
   "cell_type": "code",
   "execution_count": 25,
   "id": "ee200ffb",
   "metadata": {
    "ExecuteTime": {
     "end_time": "2022-12-23T17:00:26.882255Z",
     "start_time": "2022-12-23T17:00:26.867818Z"
    }
   },
   "outputs": [],
   "source": [
    "# table['IUE type'] = np.full(len(table), 'None')"
   ]
  },
  {
   "cell_type": "code",
   "execution_count": 28,
   "id": "8d4de14a",
   "metadata": {
    "ExecuteTime": {
     "end_time": "2022-12-23T17:01:01.453542Z",
     "start_time": "2022-12-23T17:01:01.050278Z"
    },
    "scrolled": false
   },
   "outputs": [],
   "source": [
    "## Iterate through data, record IUE object type\n",
    "\n",
    "IUEtypes = []\n",
    "\n",
    "for i, row in enumerate(table):\n",
    "    \n",
    "    swpid = row['obs_id']\n",
    "    starname = row['main_id']\n",
    "    objname = starname.replace(' ','')\n",
    "    \n",
    "    if len(glob.glob(f'{datapath}/{swpid}.fits'))==0:\n",
    "        URL = row['dataURL']\n",
    "        response = request.urlretrieve(URL, f'{datapath}/{swpid}.fits')\n",
    "        \n",
    "    hdul = fits.open(f'{datapath}/{swpid}.fits')\n",
    "    spclass = hdul[1].header['SRCCLASS']\n",
    "    hdul.close()\n",
    "    \n",
    "    IUEtypes.append(spclass)\n",
    "    "
   ]
  },
  {
   "cell_type": "code",
   "execution_count": 29,
   "id": "e0d88e9f",
   "metadata": {
    "ExecuteTime": {
     "end_time": "2022-12-23T17:01:05.501261Z",
     "start_time": "2022-12-23T17:01:05.496597Z"
    }
   },
   "outputs": [],
   "source": [
    "table['IUE type'] = IUEtypes"
   ]
  },
  {
   "cell_type": "code",
   "execution_count": 30,
   "id": "a25796f3",
   "metadata": {
    "ExecuteTime": {
     "end_time": "2022-12-23T17:01:10.012388Z",
     "start_time": "2022-12-23T17:01:10.002043Z"
    }
   },
   "outputs": [
    {
     "data": {
      "text/html": [
       "&lt;Column name=&apos;IUE type&apos; dtype=&apos;str34&apos; length=113&gt;\n",
       "<table>\n",
       "<tr><td>G III-I</td></tr>\n",
       "<tr><td>F3-F9</td></tr>\n",
       "<tr><td>G III-I</td></tr>\n",
       "<tr><td>G III-I</td></tr>\n",
       "<tr><td>RADIO GALAXY</td></tr>\n",
       "<tr><td>NULLS AND FLAT FIELDS</td></tr>\n",
       "<tr><td>NULLS AND FLAT FIELDS</td></tr>\n",
       "<tr><td>NULLS AND FLAT FIELDS</td></tr>\n",
       "<tr><td>G V-IV</td></tr>\n",
       "<tr><td>G V-IV</td></tr>\n",
       "<tr><td>G V-IV</td></tr>\n",
       "<tr><td>COMET</td></tr>\n",
       "<tr><td>SPIRAL GALAXY</td></tr>\n",
       "<tr><td>SEYFERT GALAXY</td></tr>\n",
       "<tr><td>T TAURI</td></tr>\n",
       "<tr><td>F3-F9</td></tr>\n",
       "<tr><td>EMISSION LINE GALAXY (NON-SEYFERT)</td></tr>\n",
       "<tr><td>T TAURI</td></tr>\n",
       "<tr><td>K III-I</td></tr>\n",
       "<tr><td>B0-B2 V-IV</td></tr>\n",
       "<tr><td>K III-I</td></tr>\n",
       "<tr><td>EMISSION LINE GALAXY (NON-SEYFERT)</td></tr>\n",
       "<tr><td>K III-I</td></tr>\n",
       "<tr><td>K III-I</td></tr>\n",
       "<tr><td>K III-I</td></tr>\n",
       "<tr><td>G III-I</td></tr>\n",
       "<tr><td>...</td></tr>\n",
       "<tr><td>WAVELENGTH CALIBRATION LAMP</td></tr>\n",
       "<tr><td>NULLS AND FLAT FIELDS</td></tr>\n",
       "<tr><td>WAVELENGTH CALIBRATION LAMP</td></tr>\n",
       "<tr><td>NULLS AND FLAT FIELDS</td></tr>\n",
       "<tr><td>G V-IV</td></tr>\n",
       "<tr><td>WAVELENGTH CALIBRATION LAMP</td></tr>\n",
       "<tr><td>B0-B2 V-IV</td></tr>\n",
       "<tr><td>SEYFERT GALAXY</td></tr>\n",
       "<tr><td>T TAURI</td></tr>\n",
       "<tr><td>T TAURI</td></tr>\n",
       "<tr><td>T TAURI</td></tr>\n",
       "<tr><td>K III-I</td></tr>\n",
       "<tr><td>WAVELENGTH CALIBRATION LAMP</td></tr>\n",
       "<tr><td>NULLS AND FLAT FIELDS</td></tr>\n",
       "<tr><td>F0-F2</td></tr>\n",
       "<tr><td>COMPOSITE SPECTRAL TYPE</td></tr>\n",
       "<tr><td>G V-IV</td></tr>\n",
       "<tr><td>F0-F2</td></tr>\n",
       "<tr><td>K III-I</td></tr>\n",
       "<tr><td>COMPOSITE SPECTRAL TYPE</td></tr>\n",
       "<tr><td>COMPOSITE SPECTRAL TYPE</td></tr>\n",
       "<tr><td>COMPOSITE SPECTRAL TYPE</td></tr>\n",
       "<tr><td>G III-I</td></tr>\n",
       "<tr><td>G V-IV</td></tr>\n",
       "<tr><td>K V-IV</td></tr>\n",
       "</table>"
      ],
      "text/plain": [
       "<Column name='IUE type' dtype='str34' length=113>\n",
       "                           G III-I\n",
       "                             F3-F9\n",
       "                           G III-I\n",
       "                           G III-I\n",
       "                      RADIO GALAXY\n",
       "             NULLS AND FLAT FIELDS\n",
       "             NULLS AND FLAT FIELDS\n",
       "             NULLS AND FLAT FIELDS\n",
       "                            G V-IV\n",
       "                            G V-IV\n",
       "                            G V-IV\n",
       "                             COMET\n",
       "                     SPIRAL GALAXY\n",
       "                    SEYFERT GALAXY\n",
       "                           T TAURI\n",
       "                             F3-F9\n",
       "EMISSION LINE GALAXY (NON-SEYFERT)\n",
       "                           T TAURI\n",
       "                           K III-I\n",
       "                        B0-B2 V-IV\n",
       "                           K III-I\n",
       "EMISSION LINE GALAXY (NON-SEYFERT)\n",
       "                           K III-I\n",
       "                           K III-I\n",
       "                           K III-I\n",
       "                           G III-I\n",
       "                               ...\n",
       "       WAVELENGTH CALIBRATION LAMP\n",
       "             NULLS AND FLAT FIELDS\n",
       "       WAVELENGTH CALIBRATION LAMP\n",
       "             NULLS AND FLAT FIELDS\n",
       "                            G V-IV\n",
       "       WAVELENGTH CALIBRATION LAMP\n",
       "                        B0-B2 V-IV\n",
       "                    SEYFERT GALAXY\n",
       "                           T TAURI\n",
       "                           T TAURI\n",
       "                           T TAURI\n",
       "                           K III-I\n",
       "       WAVELENGTH CALIBRATION LAMP\n",
       "             NULLS AND FLAT FIELDS\n",
       "                             F0-F2\n",
       "           COMPOSITE SPECTRAL TYPE\n",
       "                            G V-IV\n",
       "                             F0-F2\n",
       "                           K III-I\n",
       "           COMPOSITE SPECTRAL TYPE\n",
       "           COMPOSITE SPECTRAL TYPE\n",
       "           COMPOSITE SPECTRAL TYPE\n",
       "                           G III-I\n",
       "                            G V-IV\n",
       "                            K V-IV"
      ]
     },
     "execution_count": 30,
     "metadata": {},
     "output_type": "execute_result"
    }
   ],
   "source": [
    "table['IUE type']"
   ]
  },
  {
   "cell_type": "code",
   "execution_count": 31,
   "id": "5c3b6130",
   "metadata": {
    "ExecuteTime": {
     "end_time": "2022-12-23T17:01:44.734869Z",
     "start_time": "2022-12-23T17:01:44.535775Z"
    }
   },
   "outputs": [],
   "source": [
    "table.write('/Users/isabelkain/Desktop/GALEX/data/dataset.ecsv', overwrite=True)"
   ]
  },
  {
   "cell_type": "code",
   "execution_count": null,
   "id": "c944f7c7",
   "metadata": {},
   "outputs": [],
   "source": []
  }
 ],
 "metadata": {
  "kernelspec": {
   "display_name": "Python 3 (ipykernel)",
   "language": "python",
   "name": "python3"
  },
  "language_info": {
   "codemirror_mode": {
    "name": "ipython",
    "version": 3
   },
   "file_extension": ".py",
   "mimetype": "text/x-python",
   "name": "python",
   "nbconvert_exporter": "python",
   "pygments_lexer": "ipython3",
   "version": "3.8.8"
  },
  "toc": {
   "base_numbering": 1,
   "nav_menu": {},
   "number_sections": true,
   "sideBar": true,
   "skip_h1_title": false,
   "title_cell": "Table of Contents",
   "title_sidebar": "Contents",
   "toc_cell": false,
   "toc_position": {},
   "toc_section_display": true,
   "toc_window_display": false
  },
  "varInspector": {
   "cols": {
    "lenName": 16,
    "lenType": 16,
    "lenVar": 40
   },
   "kernels_config": {
    "python": {
     "delete_cmd_postfix": "",
     "delete_cmd_prefix": "del ",
     "library": "var_list.py",
     "varRefreshCmd": "print(var_dic_list())"
    },
    "r": {
     "delete_cmd_postfix": ") ",
     "delete_cmd_prefix": "rm(",
     "library": "var_list.r",
     "varRefreshCmd": "cat(var_dic_list()) "
    }
   },
   "types_to_exclude": [
    "module",
    "function",
    "builtin_function_or_method",
    "instance",
    "_Feature"
   ],
   "window_display": false
  }
 },
 "nbformat": 4,
 "nbformat_minor": 5
}
