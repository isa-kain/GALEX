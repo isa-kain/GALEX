{
 "cells": [
  {
   "cell_type": "code",
   "execution_count": 23,
   "id": "8cd71142",
   "metadata": {
    "ExecuteTime": {
     "end_time": "2022-12-16T21:06:50.183395Z",
     "start_time": "2022-12-16T21:06:50.172224Z"
    }
   },
   "outputs": [],
   "source": [
    "import numpy as np\n",
    "import pandas as pd\n",
    "import matplotlib.pyplot as plt\n",
    "import re\n",
    "import os\n",
    "import warnings\n",
    "from tqdm import tqdm\n",
    "import glob\n",
    "from urllib import request\n",
    "\n",
    "%matplotlib inline"
   ]
  },
  {
   "cell_type": "code",
   "execution_count": 7,
   "id": "b09d24d8",
   "metadata": {
    "ExecuteTime": {
     "end_time": "2022-12-16T20:44:56.736096Z",
     "start_time": "2022-12-16T20:44:56.580724Z"
    }
   },
   "outputs": [
    {
     "data": {
      "text/html": [
       "<div><i>Table length=5</i>\n",
       "<table id=\"table140458882834240\" class=\"table-striped table-bordered table-condensed\">\n",
       "<thead><tr><th>main_id</th><th>main_type</th><th>sp_type</th><th>obs_id</th><th>s_ra</th><th>s_dec</th><th>RAJ2000</th><th>DEJ2000</th><th>ra</th><th>dec</th><th>t_min</th><th>t_max</th><th>t_exptime</th><th>obs_title</th><th>jpegURL</th><th>dataURL</th><th>RAfdeg</th><th>DEfdeg</th><th>FUVexp</th><th>NUVexp</th><th>FUVmag</th><th>e_FUVmag</th><th>NUVmag</th><th>e_NUVmag</th><th>Fafl</th><th>Nafl</th><th>Fexf</th><th>Nexf</th><th>Fflux</th><th>e_Fflux</th><th>Nflux</th><th>e_Nflux</th><th>coo_qual</th><th>coo_bibcode</th><th>other_types</th><th>radvel</th><th>radvel_err</th><th>redshift</th><th>redshift_err</th><th>plx</th><th>plx_err</th><th>pmra</th><th>pmdec</th><th>B</th><th>V</th><th>R</th><th>J</th><th>H</th><th>K</th><th>u</th><th>g</th><th>r</th><th>i</th><th>z</th><th>FLUX_B</th><th>FLUX_ERROR_V</th><th>FLUX_SYSTEM_V</th><th>FLUX_QUAL_V</th><th>FLUX_R</th><th>FLUX_ERROR_R</th><th>FLUX_SYSTEM_R</th><th>FLUX_QUAL_R</th><th>FLUX_I</th><th>FLUX_ERROR_I</th><th>FLUX_SYSTEM_I</th><th>FLUX_QUAL_I</th><th>FLUX_J</th><th>FLUX_ERROR_J</th><th>FLUX_SYSTEM_J</th><th>FLUX_QUAL_J</th><th>FLUX_K</th><th>FLUX_ERROR_K</th><th>FLUX_SYSTEM_K</th><th>FLUX_QUAL_K</th><th>TYPED_ID</th><th>Fe_H_Teff</th><th>Fe_H_log_g</th><th>Fe_H_Fe_H</th><th>Fe_H_flag</th><th>ROT_upVsini</th><th>ROT_Vsini</th><th>ROT_err</th><th>ROT_mes</th><th>ROT_qual</th><th>SP_TYPE</th><th>SP_QUAL</th><th>OTYPE</th><th>V__vartyp</th><th>V__LoVmax</th><th>V__Vmax</th><th>V__R_Vmax</th><th>V__magtyp</th><th>V__UpVmin</th><th>V__Vmin</th><th>V__R_Vmin</th><th>V__UpPeriod</th><th>V__period</th><th>V__R_period</th><th>V__epoch</th><th>PLX_VALUE</th><th>PLX_PREC</th><th>PLX_ERROR</th><th>PLX_QUAL</th><th>Distance_distance</th><th>Distance_unit</th><th>Distance_merr</th><th>Distance_perr</th><th>Distance_method</th></tr></thead>\n",
       "<thead><tr><th></th><th></th><th></th><th></th><th></th><th></th><th></th><th></th><th></th><th></th><th></th><th></th><th></th><th></th><th></th><th></th><th></th><th></th><th></th><th></th><th></th><th></th><th></th><th></th><th></th><th></th><th></th><th></th><th></th><th></th><th></th><th></th><th></th><th></th><th></th><th></th><th></th><th></th><th></th><th></th><th></th><th></th><th></th><th></th><th></th><th></th><th></th><th></th><th></th><th></th><th></th><th></th><th></th><th></th><th>mag</th><th></th><th></th><th></th><th>mag</th><th></th><th></th><th></th><th>mag</th><th></th><th></th><th></th><th>mag</th><th></th><th></th><th></th><th>mag</th><th></th><th></th><th></th><th></th><th>unit-degK</th><th>cm / s2</th><th></th><th></th><th></th><th>km / s</th><th></th><th></th><th></th><th></th><th></th><th></th><th></th><th></th><th>mag</th><th></th><th></th><th></th><th>mag</th><th></th><th></th><th>d</th><th></th><th>d</th><th>mas</th><th></th><th>mas</th><th></th><th></th><th></th><th></th><th></th><th></th></tr></thead>\n",
       "<thead><tr><th>str23</th><th>str19</th><th>str18</th><th>str8</th><th>float64</th><th>float64</th><th>float64</th><th>float64</th><th>float64</th><th>float64</th><th>float64</th><th>float64</th><th>float64</th><th>str114</th><th>str74</th><th>str64</th><th>float64</th><th>float64</th><th>float64</th><th>float64</th><th>float64</th><th>float64</th><th>float64</th><th>float64</th><th>int64</th><th>int64</th><th>int64</th><th>int64</th><th>float64</th><th>float64</th><th>float64</th><th>float64</th><th>str1</th><th>str19</th><th>str33</th><th>float64</th><th>float64</th><th>float64</th><th>float64</th><th>float64</th><th>float64</th><th>float64</th><th>float64</th><th>float64</th><th>float64</th><th>float64</th><th>float64</th><th>float64</th><th>float64</th><th>float64</th><th>float64</th><th>float64</th><th>float64</th><th>float64</th><th>float32</th><th>float32</th><th>object</th><th>str1</th><th>float32</th><th>float32</th><th>object</th><th>str1</th><th>float32</th><th>float32</th><th>object</th><th>str1</th><th>float32</th><th>float32</th><th>object</th><th>str1</th><th>float32</th><th>float32</th><th>object</th><th>str1</th><th>object</th><th>int32</th><th>float32</th><th>float32</th><th>str1</th><th>str1</th><th>float32</th><th>float32</th><th>int32</th><th>str1</th><th>object</th><th>str1</th><th>object</th><th>str4</th><th>str1</th><th>float32</th><th>str1</th><th>str1</th><th>str1</th><th>float32</th><th>str1</th><th>str1</th><th>float64</th><th>str1</th><th>float64</th><th>float64</th><th>int16</th><th>float32</th><th>str1</th><th>float64</th><th>str2</th><th>float64</th><th>float64</th><th>str5</th></tr></thead>\n",
       "<tr><td>* gam Mic</td><td>Star</td><td>G8III</td><td>swp54894</td><td>315.3224724693</td><td>-32.2577449364</td><td>315.322853</td><td>-32.257566</td><td>315.3227519696</td><td>-32.2577659353</td><td>49875.41707</td><td>49875.45873</td><td>3599.844</td><td>IUE Survey of X-Ray Selected Late-Type Stars</td><td>http://archive.stsci.edu/browse/previews/iue/mx/swp/54000/gif/swp54894.gif</td><td>http://archive.stsci.edu/pub/vospectra/iue2/swp54894mxlo_vo.fits</td><td>315.444385</td><td>-32.448868</td><td>157.0</td><td>157.0</td><td>17.2783</td><td>0.0402</td><td>12.2301</td><td>0.0027</td><td>0</td><td>2</td><td>0</td><td>0</td><td>445.323</td><td>16.4837</td><td>46554.0</td><td>117.279</td><td>A</td><td>2007A&amp;A...474..653V</td><td>*|**|IR|UV|X</td><td>17.5</td><td>0.36</td><td>5.84e-05</td><td>1.2e-06</td><td>14.24</td><td>0.26</td><td>-1.73</td><td>0.41</td><td>5.529</td><td>4.654</td><td>--</td><td>3.15</td><td>2.713</td><td>2.596</td><td>--</td><td>--</td><td>--</td><td>--</td><td>--</td><td>5.529</td><td>0.009</td><td>Vega</td><td>D</td><td>--</td><td>--</td><td></td><td>--</td><td>--</td><td>--</td><td></td><td>--</td><td>3.15</td><td>0.010</td><td>Vega</td><td>B</td><td>2.596</td><td>0.010</td><td>Vega</td><td>B</td><td>* gam Mic</td><td>5310</td><td>3.0000</td><td>-0.010</td><td>--</td><td>--</td><td>--</td><td>--</td><td>0</td><td>--</td><td>G8III</td><td>C</td><td>Star</td><td>--</td><td>--</td><td>--</td><td>--</td><td>--</td><td>--</td><td>--</td><td>--</td><td>--</td><td>--</td><td>--</td><td>--</td><td>14.240</td><td>2</td><td>0.26</td><td>A</td><td>68.2929</td><td>pc</td><td>-2.3161</td><td>2.3161</td><td>paral</td></tr>\n",
       "<tr><td>HD   2454</td><td>PM*</td><td>F5VSr</td><td>swp55292</td><td>7.083429661399975</td><td>10.1900690724</td><td>7.083387</td><td>10.189901</td><td>7.0835103411</td><td>10.1898049067</td><td>49914.07061</td><td>49914.09145</td><td>1799.522</td><td>The White Dwarf Luminosity Function in F-K Binaries</td><td>http://archive.stsci.edu/browse/previews/iue/mx/swp/55000/gif/swp55292.gif</td><td>http://archive.stsci.edu/pub/vospectra/iue2/swp55292mxlo_vo.fits</td><td>7.182728</td><td>10.038623</td><td>215.0</td><td>215.0</td><td>15.2804</td><td>0.0112</td><td>11.7018</td><td>0.0018</td><td>0</td><td>2</td><td>0</td><td>0</td><td>2804.53003</td><td>29.043</td><td>75731.89844</td><td>123.038</td><td>A</td><td>2020yCat.1350....0G</td><td>*|IR|PM*|Ro*|UV</td><td>-8.62</td><td>0.2</td><td>-2.88e-05</td><td>7e-07</td><td>26.2526</td><td>0.057</td><td>42.022</td><td>-180.181</td><td>6.47</td><td>--</td><td>5.8</td><td>5.201</td><td>5.057</td><td>4.942</td><td>--</td><td>--</td><td>--</td><td>--</td><td>--</td><td>6.47</td><td>--</td><td></td><td>--</td><td>5.8</td><td>--</td><td>Vega</td><td>E</td><td>--</td><td>--</td><td></td><td>--</td><td>5.201</td><td>0.037</td><td>Vega</td><td>C</td><td>4.942</td><td>0.020</td><td>Vega</td><td>C</td><td>HD   2454</td><td>6501</td><td>4.1100</td><td>-0.350</td><td>--</td><td>--</td><td>--</td><td>--</td><td>0</td><td>--</td><td>F5VSr</td><td>C</td><td>HighPM*</td><td>ROT</td><td>--</td><td>--</td><td>--</td><td>--</td><td>--</td><td>--</td><td>--</td><td>--</td><td>3.000000</td><td>--</td><td>--</td><td>26.253</td><td>3</td><td>0.057</td><td>A</td><td>38.0910</td><td>pc</td><td>-0.0827</td><td>0.0827</td><td>paral</td></tr>\n",
       "<tr><td>* ksi01 Lib</td><td>PM*</td><td>K0III</td><td>swp55297</td><td>223.59536528340004</td><td>-11.8983649295</td><td>223.595816</td><td>-11.898603</td><td>223.5953088134</td><td>-11.8983503771</td><td>49914.87583</td><td>49914.92235</td><td>4019.145</td><td>--</td><td>http://archive.stsci.edu/browse/previews/iue/mx/swp/55000/gif/swp55297.gif</td><td>http://archive.stsci.edu/pub/vospectra/iue2/swp55297mxlo_vo.fits</td><td>223.657823</td><td>-11.517354</td><td>89.0</td><td>90.0</td><td>20.5984</td><td>0.3548</td><td>13.6332</td><td>0.0069</td><td>256</td><td>0</td><td>0</td><td>0</td><td>20.9243</td><td>6.83601</td><td>12785.2002</td><td>81.2597</td><td>A</td><td>2020yCat.1350....0G</td><td>*|IR|PM*</td><td>-23.8</td><td>2.0</td><td>-7.94e-05</td><td>6.7e-06</td><td>9.867</td><td>0.0563</td><td>-53.095</td><td>-8.339</td><td>6.768</td><td>5.788</td><td>--</td><td>4.231</td><td>3.635</td><td>3.608</td><td>--</td><td>--</td><td>--</td><td>--</td><td>--</td><td>6.768</td><td>0.009</td><td>Vega</td><td>D</td><td>--</td><td>--</td><td></td><td>--</td><td>--</td><td>--</td><td></td><td>--</td><td>4.231</td><td>0.248</td><td>Vega</td><td>D</td><td>3.608</td><td>0.238</td><td>Vega</td><td>D</td><td>* ksi01 Lib</td><td>5010</td><td>--</td><td>-0.200</td><td>--</td><td>--</td><td>--</td><td>--</td><td>0</td><td>--</td><td>K0III</td><td>C</td><td>HighPM*</td><td>--</td><td>--</td><td>--</td><td>--</td><td>--</td><td>--</td><td>--</td><td>--</td><td>--</td><td>--</td><td>--</td><td>--</td><td>9.867</td><td>4</td><td>0.0563</td><td>A</td><td>101.3480</td><td>pc</td><td>-0.5783</td><td>0.5783</td><td>paral</td></tr>\n",
       "<tr><td>* ksi01 Lib</td><td>PM*</td><td>K0III</td><td>swp55367</td><td>223.59536528340004</td><td>-11.8983649295</td><td>223.595816</td><td>-11.898603</td><td>223.5953088134</td><td>-11.8983503771</td><td>49926.13388</td><td>49926.24638</td><td>9719.678</td><td>--</td><td>http://archive.stsci.edu/browse/previews/iue/mx/swp/55000/gif/swp55367.gif</td><td>http://archive.stsci.edu/pub/vospectra/iue2/swp55367mxlo_vo.fits</td><td>223.657823</td><td>-11.517354</td><td>89.0</td><td>90.0</td><td>20.5984</td><td>0.3548</td><td>13.6332</td><td>0.0069</td><td>256</td><td>0</td><td>0</td><td>0</td><td>20.9243</td><td>6.83601</td><td>12785.2002</td><td>81.2597</td><td>A</td><td>2020yCat.1350....0G</td><td>*|IR|PM*</td><td>-23.8</td><td>2.0</td><td>-7.94e-05</td><td>6.7e-06</td><td>9.867</td><td>0.0563</td><td>-53.095</td><td>-8.339</td><td>6.768</td><td>5.788</td><td>--</td><td>4.231</td><td>3.635</td><td>3.608</td><td>--</td><td>--</td><td>--</td><td>--</td><td>--</td><td>6.768</td><td>0.009</td><td>Vega</td><td>D</td><td>--</td><td>--</td><td></td><td>--</td><td>--</td><td>--</td><td></td><td>--</td><td>4.231</td><td>0.248</td><td>Vega</td><td>D</td><td>3.608</td><td>0.238</td><td>Vega</td><td>D</td><td>* ksi01 Lib</td><td>5010</td><td>--</td><td>-0.200</td><td>--</td><td>--</td><td>--</td><td>--</td><td>0</td><td>--</td><td>K0III</td><td>C</td><td>HighPM*</td><td>--</td><td>--</td><td>--</td><td>--</td><td>--</td><td>--</td><td>--</td><td>--</td><td>--</td><td>--</td><td>--</td><td>--</td><td>9.867</td><td>4</td><td>0.0563</td><td>A</td><td>101.3480</td><td>pc</td><td>-0.5783</td><td>0.5783</td><td>paral</td></tr>\n",
       "<tr><td>BD+79   602</td><td>Star</td><td>G0</td><td>swp55450</td><td>281.0995698355</td><td>79.729552485</td><td>281.10038</td><td>79.730124</td><td>281.0997600137</td><td>79.7300795926</td><td>49938.29668</td><td>49938.47722</td><td>15599.486</td><td>International AGN Watch: Variability of the Broad-Line RadioGalaxy 3C 390.3</td><td>http://archive.stsci.edu/browse/previews/iue/mx/swp/55000/gif/swp55450.gif</td><td>http://archive.stsci.edu/pub/vospectra/iue2/swp55450mxlo_vo.fits</td><td>278.364935</td><td>79.589706</td><td>216.0</td><td>216.0</td><td>22.1653</td><td>0.4456</td><td>14.9278</td><td>0.0081</td><td>0</td><td>1</td><td>0</td><td>2</td><td>4.94156</td><td>2.02766</td><td>3880.41992</td><td>28.8268</td><td>A</td><td>2020yCat.1350....0G</td><td>*|IR</td><td>-119.75</td><td>0.18</td><td>-0.0003994</td><td>6e-07</td><td>7.3129</td><td>0.0102</td><td>-25.465</td><td>19.816</td><td>10.2</td><td>9.59</td><td>--</td><td>8.318</td><td>7.98</td><td>7.942</td><td>--</td><td>--</td><td>--</td><td>--</td><td>--</td><td>10.2</td><td>0.020</td><td>Vega</td><td>D</td><td>--</td><td>--</td><td></td><td>--</td><td>--</td><td>--</td><td></td><td>--</td><td>8.318</td><td>0.018</td><td>Vega</td><td>C</td><td>7.942</td><td>0.014</td><td>Vega</td><td>C</td><td>BD+79   602</td><td>0</td><td>--</td><td>--</td><td>--</td><td>--</td><td>--</td><td>--</td><td>0</td><td>--</td><td>G0</td><td>D</td><td>Star</td><td>--</td><td>--</td><td>--</td><td>--</td><td>--</td><td>--</td><td>--</td><td>--</td><td>--</td><td>--</td><td>--</td><td>--</td><td>7.313</td><td>4</td><td>0.0102</td><td>A</td><td>136.7450</td><td>pc</td><td>-0.1907</td><td>0.1907</td><td>paral</td></tr>\n",
       "</table></div>"
      ],
      "text/plain": [
       "<Table length=5>\n",
       "  main_id   main_type sp_type  obs_id         s_ra            s_dec       RAJ2000    DEJ2000         ra       ... PLX_VALUE PLX_PREC PLX_ERROR PLX_QUAL Distance_distance Distance_unit Distance_merr Distance_perr Distance_method\n",
       "                                                                                                              ...    mas                mas                                                                                        \n",
       "   str23      str19    str18    str8        float64          float64      float64    float64      float64     ...  float64   int16    float32    str1        float64           str2        float64       float64          str5     \n",
       "----------- --------- ------- -------- ------------------ -------------- ---------- ---------- -------------- ... --------- -------- --------- -------- ----------------- ------------- ------------- ------------- ---------------\n",
       "  * gam Mic      Star   G8III swp54894     315.3224724693 -32.2577449364 315.322853 -32.257566 315.3227519696 ...    14.240        2      0.26        A           68.2929            pc       -2.3161        2.3161           paral\n",
       "  HD   2454       PM*   F5VSr swp55292  7.083429661399975  10.1900690724   7.083387  10.189901   7.0835103411 ...    26.253        3     0.057        A           38.0910            pc       -0.0827        0.0827           paral\n",
       "* ksi01 Lib       PM*   K0III swp55297 223.59536528340004 -11.8983649295 223.595816 -11.898603 223.5953088134 ...     9.867        4    0.0563        A          101.3480            pc       -0.5783        0.5783           paral\n",
       "* ksi01 Lib       PM*   K0III swp55367 223.59536528340004 -11.8983649295 223.595816 -11.898603 223.5953088134 ...     9.867        4    0.0563        A          101.3480            pc       -0.5783        0.5783           paral\n",
       "BD+79   602      Star      G0 swp55450     281.0995698355   79.729552485  281.10038  79.730124 281.0997600137 ...     7.313        4    0.0102        A          136.7450            pc       -0.1907        0.1907           paral"
      ]
     },
     "execution_count": 7,
     "metadata": {},
     "output_type": "execute_result"
    }
   ],
   "source": [
    "## Read in data\n",
    "\n",
    "table = Table.read('/Users/isabelkain/Desktop/GALEX/data/dataset.ecsv')\n",
    "table[:5]"
   ]
  },
  {
   "cell_type": "code",
   "execution_count": 39,
   "id": "54557d29",
   "metadata": {
    "ExecuteTime": {
     "end_time": "2022-12-17T01:56:23.897634Z",
     "start_time": "2022-12-17T01:56:23.885474Z"
    }
   },
   "outputs": [
    {
     "data": {
      "text/plain": [
       "array([5310, 6501, 5010, 5010,    0,    0,    0,    0, 4837, 5651, 5805,\n",
       "       4055,    0,    0,    0, 6239,    0,    0, 4271, 5834, 4271,    0,\n",
       "       4271, 3920, 4271, 5167, 4437, 3944,    0, 5090,    0, 4870, 4870,\n",
       "       6000, 4776,    0,    0, 4400, 5300,    0,    0, 3950, 7100,    0,\n",
       "       6068, 6068, 6068, 4098, 3725, 4569,    0,    0,    0,    0,    0,\n",
       "          0,    0,    0, 4862, 5663,    0, 4383, 4383, 4560,    0, 4560,\n",
       "       3477, 5130,    0,    0,    0,    0, 5125, 8000,    0,    0,    0,\n",
       "          0,    0, 5300,    0, 5010, 6301,    0, 4310, 5991, 8000,    0,\n",
       "       5010, 5010, 4291, 4291,    0, 6329,    0, 6228,    0,    0,    0,\n",
       "          0,    0,    0, 6898,    0, 4500, 6623, 4260,    0,    0,    0,\n",
       "          0, 5749,    0], dtype=int32)"
      ]
     },
     "execution_count": 39,
     "metadata": {},
     "output_type": "execute_result"
    }
   ],
   "source": [
    "table['Fe_H_Teff'].value"
   ]
  },
  {
   "cell_type": "code",
   "execution_count": 8,
   "id": "94061897",
   "metadata": {
    "ExecuteTime": {
     "end_time": "2022-12-16T20:47:11.377282Z",
     "start_time": "2022-12-16T20:47:11.360642Z"
    }
   },
   "outputs": [
    {
     "name": "stdout",
     "output_type": "stream",
     "text": [
      "112 113\n"
     ]
    }
   ],
   "source": [
    "print( len( np.unique(table['obs_id']) ), len(table['obs_id']) )"
   ]
  },
  {
   "cell_type": "code",
   "execution_count": 27,
   "id": "6ac8921c",
   "metadata": {
    "ExecuteTime": {
     "end_time": "2022-12-16T21:09:55.279850Z",
     "start_time": "2022-12-16T21:09:55.272739Z"
    }
   },
   "outputs": [],
   "source": [
    "## Where should results be saved to?\n",
    "\n",
    "analysispath = '/Users/isabelkain/Desktop/GALEX/analysis'\n",
    "datapath = '/Users/isabelkain/Desktop/GALEX/data'"
   ]
  },
  {
   "cell_type": "code",
   "execution_count": 34,
   "id": "3deae24f",
   "metadata": {
    "ExecuteTime": {
     "end_time": "2022-12-16T21:16:24.922764Z",
     "start_time": "2022-12-16T21:16:23.723327Z"
    },
    "scrolled": false
   },
   "outputs": [],
   "source": [
    "## Iterate through unique SWP obsID numbers\n",
    "# - for each SWP obsID, create new folder .../analysis/swpid_objname\n",
    "# - download MAST spectrum from ['jpegURL']\n",
    "# - call line fitting routine\n",
    "\n",
    "for i, swpid in enumerate(table['obs_id'][:5]):\n",
    "    \n",
    "    ## Grab and reformat object name\n",
    "    objname = table[i]['main_id'].replace(' ','')\n",
    "    subfolder = f'{swpid}_{objname}' # e.g. swp55292_HD2454\n",
    "      \n",
    "        \n",
    "    ## If analysis subfolder does not exist, create .../analysis/{swpid}_{objname}\n",
    "    if not os.path.exists(f'{analysispath}/{subfolder}'):\n",
    "        os.mkdir(f'{analysispath}/{subfolder}')\n",
    "        \n",
    "        \n",
    "#     ## Download spectrum image to .../analysis/subfolder\n",
    "#     if not os.path.isfile(f'{analysispath}/{subfolder}/{swpid}.gif'):\n",
    "#         URL = table[i]['jpegURL']\n",
    "#         response = request.urlretrieve(URL, f'{analysispath}/{subfolder}/{swpid}.gif')\n",
    "        \n",
    "        \n",
    "    ## Download data to ../data/subfolder\n",
    "    if len(glob.glob(f'{datapath}/{swpid}.fits')) == 0:\n",
    "        URL = table[i]['dataURL']\n",
    "        response = request.urlretrieve(URL, f'{datapath}/{swpid}.fits')\n",
    "    \n"
   ]
  },
  {
   "cell_type": "code",
   "execution_count": 25,
   "id": "941886fe",
   "metadata": {
    "ExecuteTime": {
     "end_time": "2022-12-16T21:07:53.004248Z",
     "start_time": "2022-12-16T21:07:52.992466Z"
    }
   },
   "outputs": [
    {
     "data": {
      "text/plain": [
       "True"
      ]
     },
     "execution_count": 25,
     "metadata": {},
     "output_type": "execute_result"
    }
   ],
   "source": [
    "os.path.isfile(f'{analysispath}/{subfolder}/{swpid}.gif')"
   ]
  },
  {
   "cell_type": "code",
   "execution_count": 33,
   "id": "010aeb8e",
   "metadata": {
    "ExecuteTime": {
     "end_time": "2022-12-16T21:16:15.790559Z",
     "start_time": "2022-12-16T21:16:15.782852Z"
    }
   },
   "outputs": [
    {
     "data": {
      "text/plain": [
       "0"
      ]
     },
     "execution_count": 33,
     "metadata": {},
     "output_type": "execute_result"
    }
   ],
   "source": [
    "len(glob.glob(f'{datapath}/{swpid}.fits'))"
   ]
  },
  {
   "cell_type": "code",
   "execution_count": null,
   "id": "f16fcef9",
   "metadata": {},
   "outputs": [],
   "source": []
  }
 ],
 "metadata": {
  "kernelspec": {
   "display_name": "Python 3 (ipykernel)",
   "language": "python",
   "name": "python3"
  },
  "language_info": {
   "codemirror_mode": {
    "name": "ipython",
    "version": 3
   },
   "file_extension": ".py",
   "mimetype": "text/x-python",
   "name": "python",
   "nbconvert_exporter": "python",
   "pygments_lexer": "ipython3",
   "version": "3.8.8"
  },
  "toc": {
   "base_numbering": 1,
   "nav_menu": {},
   "number_sections": true,
   "sideBar": true,
   "skip_h1_title": false,
   "title_cell": "Table of Contents",
   "title_sidebar": "Contents",
   "toc_cell": false,
   "toc_position": {},
   "toc_section_display": true,
   "toc_window_display": false
  },
  "varInspector": {
   "cols": {
    "lenName": 16,
    "lenType": 16,
    "lenVar": 40
   },
   "kernels_config": {
    "python": {
     "delete_cmd_postfix": "",
     "delete_cmd_prefix": "del ",
     "library": "var_list.py",
     "varRefreshCmd": "print(var_dic_list())"
    },
    "r": {
     "delete_cmd_postfix": ") ",
     "delete_cmd_prefix": "rm(",
     "library": "var_list.r",
     "varRefreshCmd": "cat(var_dic_list()) "
    }
   },
   "types_to_exclude": [
    "module",
    "function",
    "builtin_function_or_method",
    "instance",
    "_Feature"
   ],
   "window_display": false
  }
 },
 "nbformat": 4,
 "nbformat_minor": 5
}
