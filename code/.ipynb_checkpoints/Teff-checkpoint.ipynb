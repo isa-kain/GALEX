{
 "cells": [
  {
   "cell_type": "code",
   "execution_count": 1,
   "id": "3539d3d8",
   "metadata": {
    "ExecuteTime": {
     "end_time": "2022-12-27T21:02:39.261385Z",
     "start_time": "2022-12-27T21:02:37.207572Z"
    }
   },
   "outputs": [],
   "source": [
    "import numpy as np\n",
    "import pandas as pd\n",
    "import matplotlib.pyplot as plt\n",
    "import re\n",
    "import os\n",
    "import warnings\n",
    "from tqdm import tqdm\n",
    "import glob\n",
    "from urllib import request\n",
    "import shutil\n",
    "from tempfile import mkstemp\n",
    "\n",
    "import matplotlib as mpl\n",
    "from matplotlib.colors import ListedColormap, LinearSegmentedColormap\n",
    "from matplotlib.patches import Patch\n",
    "from matplotlib.lines import Line2D\n",
    "\n",
    "from astropy.io import fits\n",
    "import astropy.units as u\n",
    "import astropy.constants as const\n",
    "import astropy.coordinates as coord\n",
    "from astropy.table import Table, vstack, hstack, join\n",
    "from astropy.modeling import models\n",
    "from astropy.modeling.fitting import LevMarLSQFitter\n",
    "from specutils.fitting import find_lines_threshold, find_lines_derivative, fit_lines\n",
    "from specutils.manipulation import noise_region_uncertainty, trapezoid_smooth\n",
    "from specutils import Spectrum1D, SpectralRegion\n",
    "from astropy.nddata import NDUncertainty\n",
    "from scipy.optimize import curve_fit"
   ]
  },
  {
   "cell_type": "code",
   "execution_count": 4,
   "id": "a094a949",
   "metadata": {
    "ExecuteTime": {
     "end_time": "2022-12-27T21:06:51.843809Z",
     "start_time": "2022-12-27T21:06:51.836833Z"
    }
   },
   "outputs": [],
   "source": [
    "## Suppress warnings (for astropy fitting)\n",
    "warnings.filterwarnings('ignore', category=UserWarning, append=True)\n",
    "\n",
    "## Where should analysis results and data be saved to?\n",
    "analysispath = '/Users/isabelkain/Desktop/GALEX/analysis'\n",
    "datapath = '/Volumes/Seagate/seagate_backup/GALEX/data'\n",
    "codepath = '/Users/isabelkain/Desktop/GALEX/code'\n",
    "plotpath = '/Users/isabelkain/Desktop/GALEX/analysis/Teff'\n",
    "\n",
    "scriptname = 'bokehplot.py'\n",
    "scriptpath = f'{codepath}/{scriptname}'\n",
    "\n",
    "## Helper functions\n",
    "angstrom2meter = 10**-10\n",
    "joules2ergs = 10**7\n"
   ]
  },
  {
   "cell_type": "code",
   "execution_count": 3,
   "id": "065af1be",
   "metadata": {
    "ExecuteTime": {
     "end_time": "2022-12-27T21:04:10.870829Z",
     "start_time": "2022-12-27T21:04:10.853065Z"
    }
   },
   "outputs": [],
   "source": [
    "def redshift_correction(wavelengths_observed, z):\n",
    "    '''\n",
    "    Finds amount by which stellar emission is redshifted, and subtract this from stellar spectrum.\n",
    "    Input:\n",
    "    wavelengths_observed: observed wavelengths of spectrum (Angstroms)\n",
    "    z: redshift of star\n",
    "    \n",
    "    Returns:\n",
    "    wavelengths_emitted: emitted wavelengths of spectrum (Angstroms)\n",
    "    '''\n",
    "    \n",
    "    wavelengths_emitted = wavelengths_observed / (1 + z)\n",
    "    return wavelengths_emitted\n",
    "\n",
    "\n",
    "def blackbody(wavelengths, Teff):\n",
    "    '''\n",
    "    Returns blackbody continuum for an object at Teff (K)\n",
    "    Inputs:\n",
    "    wavelengths [arr]: (Angstroms)\n",
    "    Teff [scalar]: effective temperature (K)\n",
    "    \n",
    "    Returns:\n",
    "    B [arr]: blackbody continuum for Teff (unitless)\n",
    "    '''\n",
    "    \n",
    "    wav = wavelengths * angstrom2meter * u.m\n",
    "    Teff = Teff * u.K\n",
    "    \n",
    "    B = (2. * const.h * const.c**2) / (wav**5.) / ( np.exp( (const.h * const.c) / (wav * const.k_B * Teff) ) - 1. )\n",
    "    \n",
    "    return (B / B.max()).value\n",
    "\n",
    "\n",
    "def fitBB_fixedTeff(wavelengths, Teff, a, b):\n",
    "    '''\n",
    "    Scale blackbody continuum emission.\n",
    "    Input:\n",
    "    wavelengths [arr]: spectrum wavelengths (Angstroms)\n",
    "    Teff [scalar]: effective temperature of star (K)\n",
    "    a, b: scaling factors to be optimized by curve_fit\n",
    "    '''\n",
    "    return a * blackbody(wavelengths, Teff) + b\n",
    "\n",
    "\n",
    "def fitBB_fitTeff(wavelengths, Teff, a, b):\n",
    "    '''\n",
    "    Fit blackbody emission to spectrum continuum. \n",
    "    Input:\n",
    "    wavelengths [arr]: spectrum wavelengths (Angstroms)\n",
    "    Teff [scalar]: effective temperature of star (K) (will be optimized by curve_fit)\n",
    "    a, b: scaling factors to be optimized by curve_fit\n",
    "    \n",
    "    Returns:\n",
    "    -- [arr]: blackbody continuum curve\n",
    "    '''\n",
    "    \n",
    "    wav = wavelengths * angstrom2meter * u.m\n",
    "    Teff = Teff * u.K\n",
    "    \n",
    "    B = (2. * const.h * const.c**2) / (wav**5.) / ( np.exp( (const.h * const.c) / (wav * const.k_B * Teff) ) - 1. )\n",
    "\n",
    "    return a * (B / B.max()).value + b\n",
    "\n",
    "\n",
    "def MAD(array):\n",
    "    '''\n",
    "    Return the median absolute deviation (MAD) of array\n",
    "    Input:\n",
    "    array [arr]: 1xn array of values\n",
    "    \n",
    "    Returns:\n",
    "    -- [scalar]: MAD\n",
    "    '''\n",
    "    med = np.median(array)\n",
    "    return np.median([abs(num - med) for num in array])\n"
   ]
  },
  {
   "cell_type": "code",
   "execution_count": 42,
   "id": "37fcd8b4",
   "metadata": {
    "ExecuteTime": {
     "end_time": "2022-12-27T21:37:27.065630Z",
     "start_time": "2022-12-27T21:37:23.320869Z"
    }
   },
   "outputs": [],
   "source": [
    "table = Table.read(f'{datapath}/dataset.ecsv')\n",
    "\n",
    "simbad_teff = table['Fe_H_Teff'].value\n",
    "fitted_teff = np.zeros(len(simbad_teff))\n",
    "fitted_teff_err = np.zeros(len(simbad_teff))"
   ]
  },
  {
   "cell_type": "code",
   "execution_count": 43,
   "id": "b171a48b",
   "metadata": {
    "ExecuteTime": {
     "end_time": "2022-12-27T21:37:57.393226Z",
     "start_time": "2022-12-27T21:37:27.786999Z"
    }
   },
   "outputs": [],
   "source": [
    "for i, swpid in enumerate(table['obs_id']):\n",
    "\n",
    "\n",
    "    ######################\n",
    "    ## Read in raw data ##\n",
    "    ######################\n",
    "    \n",
    "    ## Grab data info from table\n",
    "    swpid = table[i]['obs_id']                 # swp54894\n",
    "    starname = table[i]['main_id']             # * gam Mic\n",
    "    objname = starname.replace(' ','')      # *gamMic\n",
    "    \n",
    "    ## Open FITS file\n",
    "    hdul = fits.open(f'{datapath}/{swpid}.fits')\n",
    "    \n",
    "    ## Load file information\n",
    "    spclass = hdul[1].header['SRCCLASS']    # Object Class \n",
    "    camera = hdul[0].header['CAMERA']       # or hdul[1].header['INSTRUME']\n",
    "    dispersion = hdul[0].header['DISPERSN'] # LOW or HIGH\n",
    "    fluxcal = hdul[1].header['FLUX_CAL']    # should be ABSOLUTE\n",
    "    tstart = float(str(hdul[0].header['?JD-OBS']).split('=')[1].split('/')[0].strip())      # [d] MJD exposure start time \n",
    "    exptime = hdul[1].header['EXPOSURE']    # [s] eff. exposure duration\n",
    "    snr = hdul[1].header['DER_SNR']         # Derived signal-to-noise ratio  \n",
    "    \n",
    "    ## Record redshift & temperature\n",
    "    z = table[i]['redshift']\n",
    "    Teff = table[i]['Fe_H_Teff']\n",
    "    \n",
    "    if type(z) == np.ma.core.MaskedConstant: z = 0. # if z masked, assume 0 FIXME\n",
    "        \n",
    "    if Teff == 0: \n",
    "        fit_teff = True\n",
    "        Teff = 5000. # guess value of 5000 K if no Teff available\n",
    "    else:\n",
    "        fit_teff = False\n",
    "\n",
    "    ## Read in wavelength, flux, and fluxerr data\n",
    "\n",
    "    wavelengths = redshift_correction(hdul[1].data['WAVE'][0], z) # Apply redshift correction\n",
    "    rawflux = hdul[1].data['FLUX'][0]                             # raw because blackbody continuum will soon be subtracted\n",
    "    fluxerr = hdul[1].data['SIGMA'][0]\n",
    "    \n",
    "    hdul.close()\n",
    "\n",
    "    \n",
    "    ###########################\n",
    "    ## Blackbody subtraction ##\n",
    "    ###########################\n",
    "    \n",
    "    ## Mask most features to let curve_fit see the underlying emission\n",
    "\n",
    "    med = np.median(rawflux)\n",
    "    std = np.std(rawflux)\n",
    "    mask = np.logical_and((rawflux <= med + .5*std), (rawflux >= med - .5*std)) \n",
    "    \n",
    "    x = wavelengths[mask]\n",
    "    y = rawflux[mask]\n",
    "    yerr = fluxerr[mask]\n",
    "\n",
    "    ## Fit blackbody curve. If Teff known, then fix for curve_fit, else let vary\n",
    "    \n",
    "    popt1, pcov1 = curve_fit(fitBB_fitTeff, x, y, p0=[5000., 0., 0.],\n",
    "                           sigma=yerr, absolute_sigma=True,\n",
    "                           bounds=((3000., 0, 0), (10000., y.max(), np.inf))) \n",
    "    \n",
    "    if fit_teff == False:\n",
    "        popt2, pcov2 = curve_fit(lambda x, a, b: fitBB_fixedTeff(x, Teff, a, b), x, y, \n",
    "                               sigma=yerr, absolute_sigma=True,\n",
    "                               bounds=((-np.inf, 0), (np.inf, np.inf))) \n",
    "\n",
    "    ## Plot masked spectrum and scaled blackbody curve, save as diagnostic\n",
    "\n",
    "    plt.figure()\n",
    "    plt.plot(x, y, label='Spectrum')\n",
    "\n",
    "    plt.plot(wavelengths, fitBB_fitTeff(wavelengths, popt1[0], popt1[1], popt1[2]), \n",
    "             label=f'Fit Teff:\\n{popt1[1]:0.2e}func + {popt1[2]:0.2e}\\nTeff = {popt1[0]}')\n",
    "    \n",
    "    if fit_teff == False:\n",
    "        plt.plot(wavelengths, fitBB_fixedTeff(wavelengths, Teff, popt2[0], popt2[1]), \n",
    "                 label=f'Simbad Teff:\\n{popt2[0]:0.2e}func + {popt2[1]:0.2e}\\nTeff = {Teff}')\n",
    "\n",
    "    plt.fill_between( x, y-yerr, y+yerr, alpha=0.5 )\n",
    "    plt.legend()\n",
    "\n",
    "    plt.savefig(f'{plotpath}/{swpid}.png', bbox_inches='tight')\n",
    "    plt.close()\n",
    "    \n",
    "    \n",
    "    ## Save Teff value\n",
    "    fitted_teff[i] = popt1[0]\n",
    "    fitted_teff_err[i] = np.sqrt(np.diagonal(pcov1))[0]\n"
   ]
  },
  {
   "cell_type": "code",
   "execution_count": 44,
   "id": "fb68238a",
   "metadata": {
    "ExecuteTime": {
     "end_time": "2022-12-27T21:37:57.458572Z",
     "start_time": "2022-12-27T21:37:57.456138Z"
    }
   },
   "outputs": [],
   "source": [
    "dropzero = simbad_teff!=0\n",
    "simbad_teff = simbad_teff[dropzero]\n",
    "fitted_teff = fitted_teff[dropzero]\n",
    "fitted_teff_err = fitted_teff_err[dropzero]"
   ]
  },
  {
   "cell_type": "code",
   "execution_count": 45,
   "id": "b29e466d",
   "metadata": {
    "ExecuteTime": {
     "end_time": "2022-12-27T21:37:57.616855Z",
     "start_time": "2022-12-27T21:37:57.521610Z"
    }
   },
   "outputs": [
    {
     "data": {
      "text/plain": [
       "Text(0, 0.5, 'Fitted $T_{eff}$ (K)')"
      ]
     },
     "execution_count": 45,
     "metadata": {},
     "output_type": "execute_result"
    },
    {
     "data": {
      "image/png": "[encoded data removed]",
      "text/plain": [
       "<Figure size 640x480 with 1 Axes>"
      ]
     },
     "metadata": {},
     "output_type": "display_data"
    }
   ],
   "source": [
    "plt.errorbar(simbad_teff, fitted_teff, yerr=fitted_teff_err, fmt='o')\n",
    "plt.xlabel(r'SIMBAD $T_{eff}$ (K)')\n",
    "plt.ylabel(r'Fitted $T_{eff}$ (K)')"
   ]
  },
  {
   "cell_type": "code",
   "execution_count": 46,
   "id": "7846bc6f",
   "metadata": {
    "ExecuteTime": {
     "end_time": "2022-12-27T21:37:57.800987Z",
     "start_time": "2022-12-27T21:37:57.676455Z"
    }
   },
   "outputs": [
    {
     "data": {
      "text/plain": [
       "<matplotlib.legend.Legend at 0x7fa01b889340>"
      ]
     },
     "execution_count": 46,
     "metadata": {},
     "output_type": "execute_result"
    },
    {
     "data": {
      "image/png": "[encoded data removed]",
      "text/plain": [
       "<Figure size 640x480 with 1 Axes>"
      ]
     },
     "metadata": {},
     "output_type": "display_data"
    }
   ],
   "source": [
    "plt.scatter(simbad_teff[np.abs(simbad_teff-fitted_teff)<1000.], \n",
    "            fitted_teff[np.abs(simbad_teff-fitted_teff)<1000.], \n",
    "            label='|$T_{simbad}$ - $T_{fit}$| < 1000 K')\n",
    "plt.xlabel(r'SIMBAD $T_{eff}$ (K)')\n",
    "plt.ylabel(r'Fitted $T_{eff}$ (K)')\n",
    "plt.legend()"
   ]
  },
  {
   "cell_type": "code",
   "execution_count": 47,
   "id": "144926eb",
   "metadata": {
    "ExecuteTime": {
     "end_time": "2022-12-27T21:37:57.990893Z",
     "start_time": "2022-12-27T21:37:57.859605Z"
    }
   },
   "outputs": [
    {
     "data": {
      "text/plain": [
       "<matplotlib.legend.Legend at 0x7fa01c690b80>"
      ]
     },
     "execution_count": 47,
     "metadata": {},
     "output_type": "execute_result"
    },
    {
     "data": {
      "image/png": "[encoded data removed]",
      "text/plain": [
       "<Figure size 640x480 with 1 Axes>"
      ]
     },
     "metadata": {},
     "output_type": "display_data"
    }
   ],
   "source": [
    "plt.scatter(simbad_teff[np.abs(simbad_teff-fitted_teff)<500.], \n",
    "            fitted_teff[np.abs(simbad_teff-fitted_teff)<500.], \n",
    "            label='|$T_{simbad}$ - $T_{fit}$| < 500 K')\n",
    "plt.xlabel(r'SIMBAD $T_{eff}$ (K)')\n",
    "plt.ylabel(r'Fitted $T_{eff}$ (K)')\n",
    "plt.legend()"
   ]
  },
  {
   "cell_type": "code",
   "execution_count": null,
   "id": "1db088be",
   "metadata": {},
   "outputs": [],
   "source": []
  }
 ],
 "metadata": {
  "kernelspec": {
   "display_name": "Python 3 (ipykernel)",
   "language": "python",
   "name": "python3"
  },
  "language_info": {
   "codemirror_mode": {
    "name": "ipython",
    "version": 3
   },
   "file_extension": ".py",
   "mimetype": "text/x-python",
   "name": "python",
   "nbconvert_exporter": "python",
   "pygments_lexer": "ipython3",
   "version": "3.8.8"
  },
  "toc": {
   "base_numbering": 1,
   "nav_menu": {},
   "number_sections": true,
   "sideBar": true,
   "skip_h1_title": false,
   "title_cell": "Table of Contents",
   "title_sidebar": "Contents",
   "toc_cell": false,
   "toc_position": {},
   "toc_section_display": true,
   "toc_window_display": false
  },
  "varInspector": {
   "cols": {
    "lenName": 16,
    "lenType": 16,
    "lenVar": 40
   },
   "kernels_config": {
    "python": {
     "delete_cmd_postfix": "",
     "delete_cmd_prefix": "del ",
     "library": "var_list.py",
     "varRefreshCmd": "print(var_dic_list())"
    },
    "r": {
     "delete_cmd_postfix": ") ",
     "delete_cmd_prefix": "rm(",
     "library": "var_list.r",
     "varRefreshCmd": "cat(var_dic_list()) "
    }
   },
   "types_to_exclude": [
    "module",
    "function",
    "builtin_function_or_method",
    "instance",
    "_Feature"
   ],
   "window_display": false
  }
 },
 "nbformat": 4,
 "nbformat_minor": 5
}
