{
 "cells": [
  {
   "cell_type": "code",
   "execution_count": 205,
   "id": "1eac8be1",
   "metadata": {
    "ExecuteTime": {
     "end_time": "2022-11-04T01:22:52.353147Z",
     "start_time": "2022-11-04T01:22:52.340664Z"
    }
   },
   "outputs": [],
   "source": [
    "import numpy as np\n",
    "import matplotlib.pyplot as plt\n",
    "import pandas as pd\n",
    "from astropy.io import fits\n",
    "import astropy.units as u\n",
    "from astropy.table import Table, vstack, hstack, join\n",
    "import re\n",
    "import warnings\n",
    "from tqdm import tqdm\n",
    "\n",
    "from astroquery.simbad import Simbad\n",
    "from astroquery.nist import Nist\n",
    "from astroquery.xmatch import XMatch\n",
    "from astroquery.vizier import Vizier"
   ]
  },
  {
   "cell_type": "code",
   "execution_count": null,
   "id": "24f980e2",
   "metadata": {},
   "outputs": [],
   "source": []
  },
  {
   "cell_type": "code",
   "execution_count": null,
   "id": "9e53e6a8",
   "metadata": {},
   "outputs": [],
   "source": []
  },
  {
   "cell_type": "markdown",
   "id": "961bd6c7",
   "metadata": {},
   "source": [
    "## Peruse GALEX catalogues, find most promising one"
   ]
  },
  {
   "cell_type": "code",
   "execution_count": null,
   "id": "6d42fefd",
   "metadata": {
    "ExecuteTime": {
     "end_time": "2022-11-02T23:19:40.708500Z",
     "start_time": "2022-11-02T23:19:40.704291Z"
    }
   },
   "outputs": [],
   "source": [
    "# ## Find catalogues with GALEX FUV magnitudes\n",
    "\n",
    "# galex_cat = Vizier.find_catalogs('GALEX')\n",
    "# # search = ['FGK', 'Late']\n",
    "\n",
    "# for k, v in galex_cat.items(): \n",
    "#     print(k, v.description)\n"
   ]
  },
  {
   "cell_type": "code",
   "execution_count": null,
   "id": "f7e20137",
   "metadata": {
    "ExecuteTime": {
     "end_time": "2022-11-02T23:19:44.107843Z",
     "start_time": "2022-11-02T23:19:44.105169Z"
    },
    "scrolled": false
   },
   "outputs": [],
   "source": [
    "# table_list = Vizier.get_catalogs(galex_cat.keys())\n",
    "# print( table_list )"
   ]
  },
  {
   "cell_type": "code",
   "execution_count": null,
   "id": "281b3649",
   "metadata": {
    "ExecuteTime": {
     "end_time": "2022-11-02T23:19:47.712435Z",
     "start_time": "2022-11-02T23:19:47.709254Z"
    },
    "scrolled": false
   },
   "outputs": [],
   "source": [
    "# keys = table_list.keys()[2:7]\n",
    "# print( keys )\n",
    "\n",
    "# for k in keys: print(table_list[k].columns)"
   ]
  },
  {
   "cell_type": "markdown",
   "id": "89396be9",
   "metadata": {},
   "source": [
    "## Peruse IUE catalogues, identify most promising one"
   ]
  },
  {
   "cell_type": "code",
   "execution_count": null,
   "id": "792f0914",
   "metadata": {
    "ExecuteTime": {
     "end_time": "2022-11-02T23:19:51.483856Z",
     "start_time": "2022-11-02T23:19:51.480165Z"
    }
   },
   "outputs": [],
   "source": [
    "# iue_cat = Vizier.find_catalogs('IUE')\n",
    "# for k, v in iue_cat.items(): print(k, v.description)"
   ]
  },
  {
   "cell_type": "code",
   "execution_count": null,
   "id": "e770e1ce",
   "metadata": {
    "ExecuteTime": {
     "end_time": "2022-11-02T23:19:54.167601Z",
     "start_time": "2022-11-02T23:19:54.164886Z"
    },
    "scrolled": false
   },
   "outputs": [],
   "source": [
    "# table_list = Vizier.get_catalogs(iue_cat.keys())\n",
    "# print( table_list )"
   ]
  },
  {
   "cell_type": "markdown",
   "id": "bdd36e87",
   "metadata": {},
   "source": [
    "## Catalogue choices"
   ]
  },
  {
   "cell_type": "markdown",
   "id": "482dc43b",
   "metadata": {},
   "source": [
    "### GALEX catalogues of interest:\n",
    "\n",
    "II/335 Revised catalog of GALEX UV sources (GUVcat_AIS GR6+7) (Bianchi+ 2017) \n",
    "\n",
    "J/ApJ/766/9 GALEX observations of exoplanet host stars (Shkolnik, 2013) \n",
    "\n",
    "J/AJ/160/217 342 FGK-dwarfs ages using GALEX FUV magnitudes (Crandall+, 2020) \n",
    "\n",
    "\n",
    "### IUE catalogues of interest:\n",
    "\n",
    "VI/110 Final Merged Log of IUE Observations (NASA-ESA, 2000)"
   ]
  },
  {
   "cell_type": "code",
   "execution_count": 2,
   "id": "08c60979",
   "metadata": {
    "ExecuteTime": {
     "end_time": "2022-11-03T22:48:55.970407Z",
     "start_time": "2022-11-03T22:48:55.957799Z"
    }
   },
   "outputs": [],
   "source": [
    "GALEXCAT = 'II/335/galex_ais'\n",
    "IUECAT = 'VI/110/inescat'"
   ]
  },
  {
   "cell_type": "code",
   "execution_count": 234,
   "id": "31731f3a",
   "metadata": {
    "ExecuteTime": {
     "end_time": "2022-11-04T01:45:25.051688Z",
     "start_time": "2022-11-04T01:45:24.173784Z"
    }
   },
   "outputs": [
    {
     "data": {
      "text/plain": [
       "<TableColumns names=('Obs','ExpTime','Object','RAJ2000','DEJ2000','IUEClass','Spectrum')>"
      ]
     },
     "execution_count": 234,
     "metadata": {},
     "output_type": "execute_result"
    }
   ],
   "source": [
    "# iue_catlg_list = Vizier.find_catalogs('IUE')\n",
    "iue_table_list = Vizier.get_catalogs(Vizier.find_catalogs('IUE').keys())\n",
    "iue_data = iue_table_list['VI/110/inescat']\n",
    "iue_data.columns"
   ]
  },
  {
   "cell_type": "markdown",
   "id": "e23bdbfd",
   "metadata": {},
   "source": [
    "## Create combined dataset between GALEX, IUE, and SIMBAD"
   ]
  },
  {
   "cell_type": "code",
   "execution_count": 254,
   "id": "f761a15d",
   "metadata": {
    "ExecuteTime": {
     "end_time": "2022-11-04T02:04:07.029744Z",
     "start_time": "2022-11-04T02:04:06.739635Z"
    }
   },
   "outputs": [
    {
     "name": "stdout",
     "output_type": "stream",
     "text": [
      "Raw dataset length: 15458\n",
      "Number of rows without FUV mags: 3121\n",
      "Duplicate rows: 10817\n"
     ]
    },
    {
     "data": {
      "text/html": [
       "<div>\n",
       "<style scoped>\n",
       "    .dataframe tbody tr th:only-of-type {\n",
       "        vertical-align: middle;\n",
       "    }\n",
       "\n",
       "    .dataframe tbody tr th {\n",
       "        vertical-align: top;\n",
       "    }\n",
       "\n",
       "    .dataframe thead th {\n",
       "        text-align: right;\n",
       "    }\n",
       "</style>\n",
       "<table border=\"1\" class=\"dataframe\">\n",
       "  <thead>\n",
       "    <tr style=\"text-align: right;\">\n",
       "      <th></th>\n",
       "      <th>angDist</th>\n",
       "      <th>name</th>\n",
       "      <th>objid</th>\n",
       "      <th>phID</th>\n",
       "      <th>Cat</th>\n",
       "      <th>RAfdeg</th>\n",
       "      <th>DEfdeg</th>\n",
       "      <th>FUVexp</th>\n",
       "      <th>NUVexp</th>\n",
       "      <th>GLON</th>\n",
       "      <th>...</th>\n",
       "      <th>Gd</th>\n",
       "      <th>Nd</th>\n",
       "      <th>primidd</th>\n",
       "      <th>groupidd</th>\n",
       "      <th>grouptot</th>\n",
       "      <th>OName</th>\n",
       "      <th>Size</th>\n",
       "      <th>_RAJ2000</th>\n",
       "      <th>_DEJ2000</th>\n",
       "      <th>Object</th>\n",
       "    </tr>\n",
       "  </thead>\n",
       "  <tbody>\n",
       "    <tr>\n",
       "      <th>0</th>\n",
       "      <td>1.506431</td>\n",
       "      <td>GALEX J040917.1+304633</td>\n",
       "      <td>6377636018877629269</td>\n",
       "      <td>6377636018874482688</td>\n",
       "      <td>AIS</td>\n",
       "      <td>62.344986</td>\n",
       "      <td>30.850570</td>\n",
       "      <td>108.10</td>\n",
       "      <td>115.10</td>\n",
       "      <td>165.5342</td>\n",
       "      <td>...</td>\n",
       "      <td>0</td>\n",
       "      <td>1</td>\n",
       "      <td>6377636018877629440</td>\n",
       "      <td>6377636018877629269</td>\n",
       "      <td>6377636018877629269</td>\n",
       "      <td>N</td>\n",
       "      <td>0.00</td>\n",
       "      <td>62.3208</td>\n",
       "      <td>30.7760</td>\n",
       "      <td>HD 281679</td>\n",
       "    </tr>\n",
       "    <tr>\n",
       "      <th>1</th>\n",
       "      <td>1.788113</td>\n",
       "      <td>GALEX J204409.7-104324</td>\n",
       "      <td>6379641508759339455</td>\n",
       "      <td>6379641508756193280</td>\n",
       "      <td>AIS</td>\n",
       "      <td>311.302134</td>\n",
       "      <td>-10.322512</td>\n",
       "      <td>160.00</td>\n",
       "      <td>160.00</td>\n",
       "      <td>35.9712</td>\n",
       "      <td>...</td>\n",
       "      <td>0</td>\n",
       "      <td>1</td>\n",
       "      <td>6379641508759339008</td>\n",
       "      <td>6379641508759339455</td>\n",
       "      <td>6379641508759339455</td>\n",
       "      <td>N</td>\n",
       "      <td>0.00</td>\n",
       "      <td>311.0410</td>\n",
       "      <td>-10.7234</td>\n",
       "      <td>Mrk 509</td>\n",
       "    </tr>\n",
       "    <tr>\n",
       "      <th>2</th>\n",
       "      <td>0.511658</td>\n",
       "      <td>GALEX J040748.4-121136</td>\n",
       "      <td>6377495302864111507</td>\n",
       "      <td>6377495302860963840</td>\n",
       "      <td>AIS</td>\n",
       "      <td>61.798920</td>\n",
       "      <td>-12.249459</td>\n",
       "      <td>109.00</td>\n",
       "      <td>109.00</td>\n",
       "      <td>204.9273</td>\n",
       "      <td>...</td>\n",
       "      <td>0</td>\n",
       "      <td>1</td>\n",
       "      <td>6377495302864111616</td>\n",
       "      <td>6377495302864111507</td>\n",
       "      <td>6377495302864111507</td>\n",
       "      <td>N</td>\n",
       "      <td>0.00</td>\n",
       "      <td>61.9520</td>\n",
       "      <td>-12.1935</td>\n",
       "      <td>QSO 0405-1219</td>\n",
       "    </tr>\n",
       "    <tr>\n",
       "      <th>3</th>\n",
       "      <td>0.452777</td>\n",
       "      <td>GALEX J074232.8+494834</td>\n",
       "      <td>6373695375646131989</td>\n",
       "      <td>6373695375642984448</td>\n",
       "      <td>AIS</td>\n",
       "      <td>114.958984</td>\n",
       "      <td>49.816084</td>\n",
       "      <td>217.00</td>\n",
       "      <td>217.00</td>\n",
       "      <td>168.6027</td>\n",
       "      <td>...</td>\n",
       "      <td>0</td>\n",
       "      <td>1</td>\n",
       "      <td>6373695375646132224</td>\n",
       "      <td>6373695375646131989</td>\n",
       "      <td>6373695375646131989</td>\n",
       "      <td>GA:UGC03973</td>\n",
       "      <td>80.38</td>\n",
       "      <td>115.6369</td>\n",
       "      <td>49.8096</td>\n",
       "      <td>Mrk 79</td>\n",
       "    </tr>\n",
       "    <tr>\n",
       "      <th>4</th>\n",
       "      <td>0.989020</td>\n",
       "      <td>GALEX J122906.7+020307</td>\n",
       "      <td>6378937856751043795</td>\n",
       "      <td>6378937856747896832</td>\n",
       "      <td>AIS</td>\n",
       "      <td>187.148572</td>\n",
       "      <td>2.144949</td>\n",
       "      <td>109.00</td>\n",
       "      <td>109.00</td>\n",
       "      <td>289.9516</td>\n",
       "      <td>...</td>\n",
       "      <td>0</td>\n",
       "      <td>1</td>\n",
       "      <td>6378937856751043584</td>\n",
       "      <td>6378937856751043795</td>\n",
       "      <td>6378937856751043795</td>\n",
       "      <td>N</td>\n",
       "      <td>0.00</td>\n",
       "      <td>187.2779</td>\n",
       "      <td>2.0524</td>\n",
       "      <td>PG 1226+023</td>\n",
       "    </tr>\n",
       "    <tr>\n",
       "      <th>...</th>\n",
       "      <td>...</td>\n",
       "      <td>...</td>\n",
       "      <td>...</td>\n",
       "      <td>...</td>\n",
       "      <td>...</td>\n",
       "      <td>...</td>\n",
       "      <td>...</td>\n",
       "      <td>...</td>\n",
       "      <td>...</td>\n",
       "      <td>...</td>\n",
       "      <td>...</td>\n",
       "      <td>...</td>\n",
       "      <td>...</td>\n",
       "      <td>...</td>\n",
       "      <td>...</td>\n",
       "      <td>...</td>\n",
       "      <td>...</td>\n",
       "      <td>...</td>\n",
       "      <td>...</td>\n",
       "      <td>...</td>\n",
       "      <td>...</td>\n",
       "    </tr>\n",
       "    <tr>\n",
       "      <th>15285</th>\n",
       "      <td>0.581387</td>\n",
       "      <td>GALEX J001438.3-185558</td>\n",
       "      <td>6380591472847094403</td>\n",
       "      <td>6380591472843948032</td>\n",
       "      <td>AIS</td>\n",
       "      <td>3.602268</td>\n",
       "      <td>-18.637168</td>\n",
       "      <td>112.00</td>\n",
       "      <td>112.00</td>\n",
       "      <td>75.1071</td>\n",
       "      <td>...</td>\n",
       "      <td>0</td>\n",
       "      <td>1</td>\n",
       "      <td>6380591472847094784</td>\n",
       "      <td>6380591472847094403</td>\n",
       "      <td>6380591472847094403</td>\n",
       "      <td>N</td>\n",
       "      <td>0.00</td>\n",
       "      <td>3.6601</td>\n",
       "      <td>-18.9329</td>\n",
       "      <td>HD 1038</td>\n",
       "    </tr>\n",
       "    <tr>\n",
       "      <th>15308</th>\n",
       "      <td>4.071352</td>\n",
       "      <td>GALEX J115805.4+275240</td>\n",
       "      <td>6374856462072547130</td>\n",
       "      <td>6374856462069399552</td>\n",
       "      <td>AIS</td>\n",
       "      <td>179.494590</td>\n",
       "      <td>27.815766</td>\n",
       "      <td>109.00</td>\n",
       "      <td>109.00</td>\n",
       "      <td>206.2320</td>\n",
       "      <td>...</td>\n",
       "      <td>0</td>\n",
       "      <td>1</td>\n",
       "      <td>6374856462072547328</td>\n",
       "      <td>6374856462072547130</td>\n",
       "      <td>6374856462072547130</td>\n",
       "      <td>GA:NGC4004</td>\n",
       "      <td>70.49</td>\n",
       "      <td>179.5213</td>\n",
       "      <td>27.8780</td>\n",
       "      <td>NGC 4004</td>\n",
       "    </tr>\n",
       "    <tr>\n",
       "      <th>15352</th>\n",
       "      <td>1.248194</td>\n",
       "      <td>GALEX J221852.0-033536</td>\n",
       "      <td>6376439741636676371</td>\n",
       "      <td>6376439741633527808</td>\n",
       "      <td>AIS</td>\n",
       "      <td>335.104001</td>\n",
       "      <td>-3.775451</td>\n",
       "      <td>204.05</td>\n",
       "      <td>204.05</td>\n",
       "      <td>59.0439</td>\n",
       "      <td>...</td>\n",
       "      <td>0</td>\n",
       "      <td>1</td>\n",
       "      <td>6376439741636676608</td>\n",
       "      <td>6376439741636676371</td>\n",
       "      <td>6376439741636676371</td>\n",
       "      <td>N</td>\n",
       "      <td>0.00</td>\n",
       "      <td>334.7172</td>\n",
       "      <td>-3.5935</td>\n",
       "      <td>QSO 2216-0350</td>\n",
       "    </tr>\n",
       "    <tr>\n",
       "      <th>15454</th>\n",
       "      <td>1.469770</td>\n",
       "      <td>GALEX J131011.6+460124</td>\n",
       "      <td>6374715670897101027</td>\n",
       "      <td>6374715670893953024</td>\n",
       "      <td>AIS</td>\n",
       "      <td>197.264105</td>\n",
       "      <td>46.156803</td>\n",
       "      <td>208.00</td>\n",
       "      <td>214.00</td>\n",
       "      <td>113.0217</td>\n",
       "      <td>...</td>\n",
       "      <td>0</td>\n",
       "      <td>1</td>\n",
       "      <td>6374715670897100800</td>\n",
       "      <td>6374715670897101027</td>\n",
       "      <td>6374715670897101027</td>\n",
       "      <td>N</td>\n",
       "      <td>0.00</td>\n",
       "      <td>197.5478</td>\n",
       "      <td>46.0233</td>\n",
       "      <td>IUE SKY</td>\n",
       "    </tr>\n",
       "    <tr>\n",
       "      <th>15455</th>\n",
       "      <td>0.347031</td>\n",
       "      <td>GALEX J023725.4+210602</td>\n",
       "      <td>6377037851266122418</td>\n",
       "      <td>6377037851262976000</td>\n",
       "      <td>AIS</td>\n",
       "      <td>39.099376</td>\n",
       "      <td>21.309081</td>\n",
       "      <td>106.05</td>\n",
       "      <td>106.05</td>\n",
       "      <td>153.6280</td>\n",
       "      <td>...</td>\n",
       "      <td>0</td>\n",
       "      <td>1</td>\n",
       "      <td>6377037851266122752</td>\n",
       "      <td>6377037851266122418</td>\n",
       "      <td>6377037851266122418</td>\n",
       "      <td>N</td>\n",
       "      <td>0.00</td>\n",
       "      <td>39.3561</td>\n",
       "      <td>21.1006</td>\n",
       "      <td>IUE SKY</td>\n",
       "    </tr>\n",
       "  </tbody>\n",
       "</table>\n",
       "<p>1520 rows × 91 columns</p>\n",
       "</div>"
      ],
      "text/plain": [
       "        angDist                    name                objid  \\\n",
       "0      1.506431  GALEX J040917.1+304633  6377636018877629269   \n",
       "1      1.788113  GALEX J204409.7-104324  6379641508759339455   \n",
       "2      0.511658  GALEX J040748.4-121136  6377495302864111507   \n",
       "3      0.452777  GALEX J074232.8+494834  6373695375646131989   \n",
       "4      0.989020  GALEX J122906.7+020307  6378937856751043795   \n",
       "...         ...                     ...                  ...   \n",
       "15285  0.581387  GALEX J001438.3-185558  6380591472847094403   \n",
       "15308  4.071352  GALEX J115805.4+275240  6374856462072547130   \n",
       "15352  1.248194  GALEX J221852.0-033536  6376439741636676371   \n",
       "15454  1.469770  GALEX J131011.6+460124  6374715670897101027   \n",
       "15455  0.347031  GALEX J023725.4+210602  6377037851266122418   \n",
       "\n",
       "                      phID  Cat      RAfdeg     DEfdeg  FUVexp  NUVexp  \\\n",
       "0      6377636018874482688  AIS   62.344986  30.850570  108.10  115.10   \n",
       "1      6379641508756193280  AIS  311.302134 -10.322512  160.00  160.00   \n",
       "2      6377495302860963840  AIS   61.798920 -12.249459  109.00  109.00   \n",
       "3      6373695375642984448  AIS  114.958984  49.816084  217.00  217.00   \n",
       "4      6378937856747896832  AIS  187.148572   2.144949  109.00  109.00   \n",
       "...                    ...  ...         ...        ...     ...     ...   \n",
       "15285  6380591472843948032  AIS    3.602268 -18.637168  112.00  112.00   \n",
       "15308  6374856462069399552  AIS  179.494590  27.815766  109.00  109.00   \n",
       "15352  6376439741633527808  AIS  335.104001  -3.775451  204.05  204.05   \n",
       "15454  6374715670893953024  AIS  197.264105  46.156803  208.00  214.00   \n",
       "15455  6377037851262976000  AIS   39.099376  21.309081  106.05  106.05   \n",
       "\n",
       "           GLON  ...  Gd  Nd              primidd             groupidd  \\\n",
       "0      165.5342  ...   0   1  6377636018877629440  6377636018877629269   \n",
       "1       35.9712  ...   0   1  6379641508759339008  6379641508759339455   \n",
       "2      204.9273  ...   0   1  6377495302864111616  6377495302864111507   \n",
       "3      168.6027  ...   0   1  6373695375646132224  6373695375646131989   \n",
       "4      289.9516  ...   0   1  6378937856751043584  6378937856751043795   \n",
       "...         ...  ...  ..  ..                  ...                  ...   \n",
       "15285   75.1071  ...   0   1  6380591472847094784  6380591472847094403   \n",
       "15308  206.2320  ...   0   1  6374856462072547328  6374856462072547130   \n",
       "15352   59.0439  ...   0   1  6376439741636676608  6376439741636676371   \n",
       "15454  113.0217  ...   0   1  6374715670897100800  6374715670897101027   \n",
       "15455  153.6280  ...   0   1  6377037851266122752  6377037851266122418   \n",
       "\n",
       "                  grouptot        OName   Size  _RAJ2000  _DEJ2000  \\\n",
       "0      6377636018877629269            N   0.00   62.3208   30.7760   \n",
       "1      6379641508759339455            N   0.00  311.0410  -10.7234   \n",
       "2      6377495302864111507            N   0.00   61.9520  -12.1935   \n",
       "3      6373695375646131989  GA:UGC03973  80.38  115.6369   49.8096   \n",
       "4      6378937856751043795            N   0.00  187.2779    2.0524   \n",
       "...                    ...          ...    ...       ...       ...   \n",
       "15285  6380591472847094403            N   0.00    3.6601  -18.9329   \n",
       "15308  6374856462072547130   GA:NGC4004  70.49  179.5213   27.8780   \n",
       "15352  6376439741636676371            N   0.00  334.7172   -3.5935   \n",
       "15454  6374715670897101027            N   0.00  197.5478   46.0233   \n",
       "15455  6377037851266122418            N   0.00   39.3561   21.1006   \n",
       "\n",
       "              Object  \n",
       "0          HD 281679  \n",
       "1            Mrk 509  \n",
       "2      QSO 0405-1219  \n",
       "3             Mrk 79  \n",
       "4        PG 1226+023  \n",
       "...              ...  \n",
       "15285        HD 1038  \n",
       "15308       NGC 4004  \n",
       "15352  QSO 2216-0350  \n",
       "15454        IUE SKY  \n",
       "15455        IUE SKY  \n",
       "\n",
       "[1520 rows x 91 columns]"
      ]
     },
     "execution_count": 254,
     "metadata": {},
     "output_type": "execute_result"
    }
   ],
   "source": [
    "## Lol XMatch query isn't working\n",
    "# match = XMatch.query(request='xmatch', cat1='II/335/galex_ais', cat2='VI/110/inescat', max_distance=1. * u.arcsec)\n",
    "match = pd.read_csv('/Users/isabelkain/Desktop/GALEX/xmatch_galexais_inescat.csv')\n",
    "print('Raw dataset length:', len(match))\n",
    "\n",
    "## Drop columns from IUE catalogue (for cleanliness)\n",
    "match.drop(columns=['Obs','ExpTime','RAJ2000','DEJ2000','IUEClass','Spectrum', 'Obs.1', 'RAJ2000.1', 'DEJ2000.1'], inplace=True)\n",
    "\n",
    "## Clean rows with empty FUV magnitudes\n",
    "print('Number of rows without FUV mags:', np.sum(np.isnan(match['FUVmag'])) )\n",
    "match.dropna(axis=0, subset=['FUVmag'], inplace=True)\n",
    "\n",
    "## Reformat IUE object names\n",
    "match['Object'] = match['Object'].str.strip()\n",
    "\n",
    "## Scrub duplicate rows\n",
    "print('Duplicate rows:', np.sum(match.duplicated()) )\n",
    "match = match[ ~match.duplicated() ]\n",
    "\n",
    "# print(match.columns)\n",
    "match\n"
   ]
  },
  {
   "cell_type": "code",
   "execution_count": 239,
   "id": "7f41eb5f",
   "metadata": {
    "ExecuteTime": {
     "end_time": "2022-11-04T01:53:08.340419Z",
     "start_time": "2022-11-04T01:53:08.333571Z"
    }
   },
   "outputs": [],
   "source": [
    "# # # Filter to FGK stars using IUE object class: \n",
    "# # # cdsarc.cds.unistra.fr/viz-bin/vizExec/w/getclass?-plus=-+&VI/110&21\n",
    "\n",
    "# #   38   Horizontal Branch \n",
    "# #   39   Composite\n",
    "# #   40   F0-F2                   \n",
    "# #   41   F3-F9\n",
    "# #   42   Fp\n",
    "# #   43   Late Type Degenerate Stars\n",
    "# #   44   G IV-VI\n",
    "# #   45   G I-III\n",
    "# #   46   K IV-VI\n",
    "# #   47   K I-III\n",
    "# #   64   Other stellar Object\n",
    "# #   65   Misidentified targets\n",
    " \n",
    "# # crit = (match['IUEClass'] >= 38) & (match['IUEClass'] <= 47) & (match['IUEClass'] == 64) & (match['IUEClass'] == 65)\n",
    "# c1 = np.logical_and( (match['IUEClass'] >= 38), (match['IUEClass'] <= 47) )\n",
    "# c2 = np.logical_or( (match['IUEClass'] == 64), (match['IUEClass'] == 65) )\n",
    "# crit = np.logical_or(c1, c2)\n",
    "\n",
    "# match = match[crit].reset_index(drop=True)\n",
    "# match"
   ]
  },
  {
   "cell_type": "code",
   "execution_count": 6,
   "id": "e2be3e3e",
   "metadata": {
    "ExecuteTime": {
     "end_time": "2022-11-03T22:49:11.670573Z",
     "start_time": "2022-11-03T22:49:11.665833Z"
    },
    "scrolled": false
   },
   "outputs": [],
   "source": [
    "## To view all votable fields (fields you can query Simbad with):\n",
    "# Simbad.list_votable_fields()\n",
    "\n",
    "## For a description of a specific field:\n",
    "# Simbad.get_field_description('ubv')"
   ]
  },
  {
   "cell_type": "code",
   "execution_count": 240,
   "id": "39b5f6b5",
   "metadata": {
    "ExecuteTime": {
     "end_time": "2022-11-04T01:53:11.804738Z",
     "start_time": "2022-11-04T01:53:11.797687Z"
    }
   },
   "outputs": [],
   "source": [
    "# def skipped_scripts_nums(results):\n",
    "#     '''Returns 1-based script numbers that resulted in failed queries'''\n",
    "    \n",
    "#     ## Identify which script numbers resulted in failed queries\n",
    "#     ## (the failed script number will not be in the returned results VOtable)\n",
    "    \n",
    "#     idcol = np.array(results['SCRIPT_NUMBER_ID'])\n",
    "#     idskips = np.array([]) # 1-based numbering of script IDs that were not successful\n",
    "\n",
    "#     for i in range(len(idcol)-1):\n",
    "\n",
    "#         if idcol[i+1] - idcol[i] > 1:\n",
    "#             idskips = np.concatenate(( idskips, np.arange( idcol[i]+1, idcol[i] + (idcol[i+1] - idcol[i])) )) # 1-based script number of skipped query.\n",
    "\n",
    "#     idskips = idskips.astype(int, copy=False)\n",
    "#     return( idskips )\n"
   ]
  },
  {
   "cell_type": "code",
   "execution_count": 241,
   "id": "44bda3a5",
   "metadata": {
    "ExecuteTime": {
     "end_time": "2022-11-04T01:53:14.091357Z",
     "start_time": "2022-11-04T01:53:14.085591Z"
    }
   },
   "outputs": [],
   "source": [
    "# idcol = np.array(results['SCRIPT_NUMBER_ID'])\n",
    "# idskips = np.array([]) # 1-based numbering of script IDs that were not successful\n",
    "\n",
    "# for i in range(len(idcol)-1):\n",
    "\n",
    "#     if idcol[i+1] - idcol[i] > 1:\n",
    "#         print(idcol[i], idcol[i+1], 'Difference:', idcol[i+1] - idcol[i])\n",
    "#         print(idcol[i-3:i+3])\n",
    "#         idskips = np.concatenate(( idskips, np.arange( idcol[i]+1, idcol[i] + (idcol[i+1] - idcol[i])) )) # 1-based script number of skipped query.\n",
    "\n",
    "# idskips = idskips.astype(int, copy=False)\n",
    "# print(idskips)\n",
    "\n",
    "\n",
    "# # np.arange( idcol[i], idcol[i] + (idcol[i+1] - idcol[i]))"
   ]
  },
  {
   "cell_type": "code",
   "execution_count": 242,
   "id": "310faacb",
   "metadata": {
    "ExecuteTime": {
     "end_time": "2022-11-04T01:53:19.387100Z",
     "start_time": "2022-11-04T01:53:19.379533Z"
    }
   },
   "outputs": [],
   "source": [
    "# ## For each object in match dataframe, query Simbad for other data (e.g. spectral type)\n",
    "\n",
    "# fields = ['fe_h', 'flux(B)','flux(V)','flux(R)','flux(I)','flux(J)',\n",
    "#           'flux(K)', 'flux_error(B)','flux_error(V)','flux_error(R)',\n",
    "#           'flux_error(I)','flux_error(J)','flux_error(K)', 'rot', \n",
    "#           'sptype', 'otype', 'td1', 'ubv', 'parallax', 'distance']\n",
    "\n",
    "# customSimbad = Simbad()\n",
    "# for f in fields: customSimbad.add_votable_fields(f)\n",
    "    \n",
    "# print('Original match length:', len(match))\n",
    "\n",
    "\n",
    "# ## Query Simbad in batches to avoid timeout\n",
    "\n",
    "# l = np.min([800, len(match)]) # query in batches of 800 or the length of the table, whichever is smaller\n",
    "\n",
    "# ## Do first batched Simbad query\n",
    "# results = customSimbad.query_objects(match.loc[:l,'Object'])\n",
    "\n",
    "# failedscriptIDs = skipped_scripts_nums(results) # 1-based numbering of scripts (queries) that failed\n",
    "# print('Failed script IDs:', failedscriptIDs)\n",
    "\n",
    "# ## Drop failed queries from match dataframe\n",
    "# drop = [True]*len(match)\n",
    "\n",
    "# for s in failedscriptIDs-1: # drop 0-based index of failed queries\n",
    "#     drop[s] = False\n",
    "\n",
    "# ## If match dataframe is larger than one batch of length l, then batch match dataframe into queries of size l\n",
    "# if len(match) > l:\n",
    "    \n",
    "#     i = l\n",
    "    \n",
    "#     while i <= len(match):\n",
    "        \n",
    "#         ## Track progress\n",
    "#         print('while: indexing', i, 'through', i+l)\n",
    "        \n",
    "#         ## Query Simbad\n",
    "#         r = customSimbad.query_objects(match.loc[i:i+l,'Object'])\n",
    "#         failedscriptIDs = skipped_scripts_nums(r)\n",
    "#         print('Failed script IDs:', failedscriptIDs)\n",
    "        \n",
    "#         ## Drop failed queries from match dataframe\n",
    "        \n",
    "#         for s in failedscriptIDs-1: \n",
    "# #             print('Index within batch:', s, 'Adjusted index:', s+i)\n",
    "#             drop[s+i] = False # update index to account for batches\n",
    "        \n",
    "#         ## Add current batch to running query results\n",
    "#         results = vstack([results, r])\n",
    "        \n",
    "#         ## Increment indices\n",
    "#         i = i + l\n",
    "        \n",
    "# print('Dropping failed scripts:', len(match), len(match[drop]), np.where(~np.array(drop)))\n",
    "# # match = match[drop]\n",
    "        "
   ]
  },
  {
   "cell_type": "code",
   "execution_count": null,
   "id": "5daa07b8",
   "metadata": {
    "ExecuteTime": {
     "end_time": "2022-11-03T21:45:45.620164Z",
     "start_time": "2022-11-03T21:45:45.557475Z"
    }
   },
   "outputs": [],
   "source": [
    "# # ## Identify objects where Simbad query failed, drop those objects from matched GALEX + IUE table\n",
    "\n",
    "# # idcol = np.array(results['SCRIPT_NUMBER_ID'])\n",
    "# # idskips = np.array([]) # 1-based numbering of script IDs that were not successful\n",
    "# # # locskips = np.array([]) # 0-based index of rows in match where query was not successful\n",
    "# # print(len(idcol), len(results))\n",
    "\n",
    "# # for i in range(len(idcol)-1):\n",
    "    \n",
    "# #     if idcol[i+1] - idcol[i] > 1:\n",
    "# #         print('0-index:', i, 'Contiguous script numbers:', idcol[i], idcol[i+1], 'Dropped object:', match.loc[idcol[i], 'Object'])        \n",
    "# #         idskips = np.append(idskips, idcol[i]+1) # 1-based script number of skipped query. doesn't work for where multiple rows are skipped, but whatever\n",
    "        \n",
    "# # idskips = idskips.astype(int, copy=False)\n",
    "# # print(idskips)\n",
    "\n",
    "# ## Grab GALEX data table and drop objects where Simbad query failed\n",
    "\n",
    "# glx = Table.from_pandas(match[['Object', 'name', 'FUVexp', 'FUVmag', 'e_FUVmag']])\n",
    "# print('NROWS BEFORE REMOVING DROPPED QUERIES:', len(glx))\n",
    "# # print('Check**:', len(glx[glx['Object']=='V* VZ CVn']))\n",
    "\n",
    "# drop = [True]*len(glx)\n",
    "\n",
    "# for s in idskips-1: # drop skipped query with 0-based index\n",
    "#     drop[s] = False\n",
    "\n",
    "# galex = glx[drop]\n",
    "# print('NROWS AFTER REMOVING DROPPED QUERIES:', len(galex))\n",
    "\n",
    "# print(len(results), len(galex), len(glx))\n",
    "\n",
    "# galex\n"
   ]
  },
  {
   "cell_type": "markdown",
   "id": "2e8eec0d",
   "metadata": {},
   "source": [
    "Dropped objects:\n",
    "\n",
    "MC LHA 332- 21 -> LHA 332-21, variable G9V in Orion\n",
    "BD-26 43 -> maybe BD-02 6 -- Star (no spectral classification)\n",
    "HD 197076 A -> HD 197076, double star\n",
    "HD 28394 (idk why this dropped), spectroscopic binary\n",
    "HD 21242 (idk why this dropped), RSCVn variable\n",
    "HD 117777 (idk why this dropped), eclipsing binary\n",
    "HD 206860 (idk why this dropped) -> V* HN Peg -- BY Dra Variable \n",
    "HD 117880 (idk why this dropped) -> B9IV/V high PM star"
   ]
  },
  {
   "cell_type": "code",
   "execution_count": null,
   "id": "6cebf128",
   "metadata": {
    "ExecuteTime": {
     "end_time": "2022-11-03T21:41:40.921572Z",
     "start_time": "2022-11-03T21:41:40.888331Z"
    }
   },
   "outputs": [],
   "source": [
    "# ## Combine Simbad query results with Galex FUV data\n",
    "\n",
    "\n",
    "# # ## Identify objects where Simbad query failed\n",
    "\n",
    "# # idcol = np.array(results['SCRIPT_NUMBER_ID'])\n",
    "# # idskips = np.array([]) # 1-based numbering of script IDs that were not successful\n",
    "\n",
    "# # for i in range(len(idcol)-1):\n",
    "    \n",
    "# #     if idcol[i+1] - idcol[i] > 1:\n",
    "# #         idskips = np.append(idskips, idcol[i]+1)\n",
    "        \n",
    "# # idskips = idskips.astype(int, copy=False)\n",
    "# # print(idskips)\n",
    "\n",
    "\n",
    "# ## Grab GALEX data table and drop objects where Simbad query failed\n",
    "\n",
    "# glx = Table.from_pandas(match[['Object', 'name', 'FUVexp', 'FUVmag', 'e_FUVmag']])\n",
    "# drop = [True]*len(glx)\n",
    "\n",
    "# for s in idskips-1:\n",
    "#     drop[s] = False\n",
    "\n",
    "# galex = glx[drop]\n",
    "# print('Length diff', len(glx), len(galex))\n",
    "\n",
    "\n",
    "# ## Combine GALEX + Simbad returns\n",
    "\n",
    "# if len(results) == len(galex):\n",
    "#     data = hstack([results, galex])\n",
    "#     display( data )\n",
    "    \n",
    "# else: \n",
    "#     print('Table length mismatch. Double check Simbad query.')"
   ]
  },
  {
   "cell_type": "code",
   "execution_count": null,
   "id": "0ac68aa7",
   "metadata": {
    "ExecuteTime": {
     "end_time": "2022-10-31T21:33:09.699254Z",
     "start_time": "2022-10-31T21:33:08.912829Z"
    }
   },
   "outputs": [],
   "source": [
    "# ## Drop variable stars from sample\n",
    "\n",
    "# tmp_obj = list(data['MAIN_ID'])\n",
    "# tmp_spt = list(data['SP_TYPE'])\n",
    "# tmp_otp = list(data['OTYPE'])\n",
    "\n",
    "# for i in range(len(tmp_obj)):\n",
    "#     print(tmp_obj[i], tmp_spt[i], tmp_otp[i])"
   ]
  },
  {
   "cell_type": "code",
   "execution_count": null,
   "id": "46c936bf",
   "metadata": {
    "ExecuteTime": {
     "end_time": "2022-11-02T22:43:33.166927Z",
     "start_time": "2022-11-02T22:43:32.581431Z"
    }
   },
   "outputs": [],
   "source": [
    "# ## Explore object types in sample\n",
    "\n",
    "# tmp_obj = list(data['MAIN_ID'])\n",
    "# tmp_spt = list(data['SP_TYPE'])\n",
    "# tmp_otp = list(data['OTYPE'])\n",
    "\n",
    "# cats = np.unique(data['OTYPE'])\n",
    "# counts = np.zeros(len(cats))\n",
    "\n",
    "# for i in range(len(cats)):\n",
    "#     counts[i] = np.sum( data['OTYPE'] == cats[i] )\n",
    "\n",
    "# plt.figure(figsize=(4,12))\n",
    "# plt.barh(cats, counts, edgecolor='k')\n",
    "# plt.yticks(fontsize=14, c='k');\n",
    "# plt.xticks(fontsize=14, c='k');\n",
    "# plt.xlabel('Counts', fontsize=14, c='k');\n",
    "# plt.title('SIMBAD object types in cross-matched GALEX \\n(II/335/galex_ais) & IUE (VI/110/inescat) catalogues', fontsize=16, c='w')\n",
    "# plt.xscale('log')\n",
    "\n",
    "# # GALEXCAT = 'II/335/galex_ais'\n",
    "# # IUECAT = 'VI/110/inescat'\n"
   ]
  },
  {
   "cell_type": "code",
   "execution_count": null,
   "id": "0d3d5df0",
   "metadata": {},
   "outputs": [],
   "source": [
    "# droptypes = ['gammaDorV*', 'delSctV*', 'bCepV*', 'WhiteDwarf', 'Variable', \n",
    "#              'Type2Cep', 'TTauri*', 'SB*', 'RotV*', 'RVTauV*', 'RSCVnV', \n",
    "#              'OrionV*', 'LongPeriodV*_Candidate', 'InteractingG', 'Eruptive*', \n",
    "#              'EclBin', 'ClassicalCep', 'CataclyV*', 'BYDraV*', '**' ]\n",
    "\n",
    "# dropix = [True]*len(data)\n",
    "\n",
    "\n",
    "# # ## Questions about:\n",
    "# # - Ae* (Herbig Ae/Be stars, actively forming but pre hydrogen burning)\n",
    "# # - LongPeriodV*_Candidate\n",
    "# # - LongPeriodV*\n",
    "# # - Eruptive*\n",
    "# # - ChemPec* (chemically peculiar stars)"
   ]
  },
  {
   "cell_type": "code",
   "execution_count": null,
   "id": "93ef991f",
   "metadata": {
    "ExecuteTime": {
     "end_time": "2022-11-01T21:44:28.787674Z",
     "start_time": "2022-11-01T21:44:28.642593Z"
    }
   },
   "outputs": [],
   "source": [
    "# plt.scatter(data['PLX_VALUE'], data['FUVexp'], alpha=0.3, ec='grey')\n",
    "# plt.xlabel('FUV magnitude', color='w')\n",
    "# plt.ylabel('Parallax (pc)', color='w')\n",
    "# plt.xticks(c='w')\n",
    "# plt.yticks(c='w')"
   ]
  },
  {
   "cell_type": "code",
   "execution_count": 256,
   "id": "3a20de9f",
   "metadata": {
    "ExecuteTime": {
     "end_time": "2022-11-04T02:04:28.227426Z",
     "start_time": "2022-11-04T02:04:28.221643Z"
    }
   },
   "outputs": [],
   "source": [
    "# match = pd.read_csv('/Users/isabelkain/Desktop/GALEX/xmatch_galexais_inescat.csv')\n",
    "# match.dropna(axis=0, subset=['FUVmag'], inplace=True)\n",
    "# match['Object'] = match['Object'].str.strip()\n",
    "\n",
    "# print( match['Object'][0] )\n",
    "# match\n"
   ]
  },
  {
   "cell_type": "markdown",
   "id": "955b24ea",
   "metadata": {},
   "source": [
    "### Query SIMBAD for object names"
   ]
  },
  {
   "cell_type": "code",
   "execution_count": 162,
   "id": "4f532385",
   "metadata": {
    "ExecuteTime": {
     "end_time": "2022-11-04T00:56:13.048075Z",
     "start_time": "2022-11-04T00:56:13.042005Z"
    }
   },
   "outputs": [],
   "source": [
    "# warnings.filterwarnings('ignore')\n",
    "\n",
    "# dframe = pd.DataFrame(data=np.full((len(match),2), ''), columns=['XMatch name', 'SIMBAD name'])\n",
    "# dframe\n",
    "\n",
    "# Simbad.add_votable_fields('typed_id')\n",
    "# Simbad.add_votable_fields('sptype')\n",
    "\n",
    "# for i, obj in enumerate(tqdm(match['Object'])):\n",
    "    \n",
    "#     qry = Simbad.query_object(obj)\n",
    "    \n",
    "#     if not qry is None:\n",
    "\n",
    "#         dframe.loc[i,'XMatch name'] = obj\n",
    "#         dframe.loc[i,'SIMBAD name'] = qry['MAIN_ID'][0]"
   ]
  },
  {
   "cell_type": "code",
   "execution_count": 257,
   "id": "057ac966",
   "metadata": {
    "ExecuteTime": {
     "end_time": "2022-11-04T02:15:10.753607Z",
     "start_time": "2022-11-04T02:05:24.898300Z"
    }
   },
   "outputs": [
    {
     "name": "stderr",
     "output_type": "stream",
     "text": [
      "100%|███████████████████████████████████████| 1520/1520 [09:45<00:00,  2.60it/s]\n"
     ]
    }
   ],
   "source": [
    "warnings.filterwarnings('ignore')\n",
    "\n",
    "## Set fields to query from Simbad\n",
    "fields = ['typed_id', 'fe_h', 'flux(B)','flux(V)','flux(R)','flux(I)','flux(J)',\n",
    "          'flux(K)', 'flux_error(B)','flux_error(V)','flux_error(R)',\n",
    "          'flux_error(I)','flux_error(J)','flux_error(K)', 'rot', \n",
    "          'sptype', 'otype', 'td1', 'ubv', 'parallax', 'distance']\n",
    "\n",
    "customSimbad = Simbad()\n",
    "\n",
    "for f in fields: \n",
    "    customSimbad.add_votable_fields(f)\n",
    "\n",
    "## Create first row of results table\n",
    "matchTable = Table.from_pandas(match)\n",
    "r = customSimbad.query_object(match['Object'][0])\n",
    "\n",
    "results = hstack([matchTable[0], r])\n",
    "\n",
    "\n",
    "## Iterate through all rows in match, query each object and add combined data to results\n",
    "    \n",
    "for i, obj in enumerate(tqdm(match['Object'])):\n",
    "    \n",
    "    ## Skip first row, already included\n",
    "    if i==0:\n",
    "        continue\n",
    "    \n",
    "    ## Ask Simbad for information\n",
    "    simbadqry = customSimbad.query_object(obj)\n",
    "    \n",
    "    ## Make a new row with XMatch + Simbad info for the object\n",
    "    newrow = hstack([matchTable[i], simbadqry])\n",
    "    \n",
    "    ## Add new row to results table\n",
    "    results = vstack([results, newrow])\n",
    "    \n",
    "\n",
    "## Drop rows where SIMBAD doesn't give any spectral type\n",
    "results = results[results['SP_TYPE'] != '']\n"
   ]
  },
  {
   "cell_type": "code",
   "execution_count": 359,
   "id": "f6c3c431",
   "metadata": {
    "ExecuteTime": {
     "end_time": "2022-11-04T03:19:57.611213Z",
     "start_time": "2022-11-04T03:19:57.497187Z"
    }
   },
   "outputs": [
    {
     "data": {
      "text/html": [
       "<div><i>Table length=512</i>\n",
       "<table id=\"table140515792675120\" class=\"table-striped table-bordered table-condensed\">\n",
       "<thead><tr><th>angDist</th><th>name</th><th>objid</th><th>phID</th><th>Cat</th><th>RAfdeg</th><th>DEfdeg</th><th>FUVexp</th><th>NUVexp</th><th>GLON</th><th>GLAT</th><th>tile</th><th>img</th><th>sv</th><th>r.fov</th><th>b</th><th>E(B-V)</th><th>Sp?</th><th>chkf</th><th>FUVmag</th><th>e_FUVmag</th><th>NUVmag</th><th>e_NUVmag</th><th>FUV.a</th><th>e_FUV.a</th><th>NUV.a</th><th>e_NUV.a</th><th>FUV.4</th><th>e_FUV.4</th><th>NUV.4</th><th>e_NUV.4</th><th>FUV.6</th><th>e_FUV.6</th><th>NUV.6</th><th>e_NUV.6</th><th>Fafl</th><th>Nafl</th><th>Fexf</th><th>Nexf</th><th>Fflux</th><th>e_Fflux</th><th>Nflux</th><th>e_Nflux</th><th>FXpos</th><th>FYpos</th><th>NXpos</th><th>NYpos</th><th>Fima</th><th>Nima</th><th>Fr</th><th>Nr</th><th>nS/G</th><th>fS/G</th><th>nell</th><th>fell</th><th>nPA</th><th>e_nPA</th><th>fPA</th><th>e_fPA</th><th>Fnr</th><th>F3r</th><th>Nar</th><th>Narms</th><th>Nbrms</th><th>Far</th><th>Farms</th><th>Fbrms</th><th>w_NUV</th><th>w_FUV</th><th>Prob</th><th>Sep</th><th>Nerr</th><th>Ferr</th><th>Ierr</th><th>Nperr</th><th>Fperr</th><th>CV</th><th>G</th><th>N</th><th>primid</th><th>groupid</th><th>Gd</th><th>Nd</th><th>primidd</th><th>groupidd</th><th>grouptot</th><th>OName</th><th>Size</th><th>_RAJ2000</th><th>_DEJ2000</th><th>Object</th><th>MAIN_ID</th><th>RA</th><th>DEC</th><th>RA_PREC</th><th>DEC_PREC</th><th>COO_ERR_MAJA</th><th>COO_ERR_MINA</th><th>COO_ERR_ANGLE</th><th>COO_QUAL</th><th>COO_WAVELENGTH</th><th>COO_BIBCODE</th><th>TYPED_ID</th><th>Fe_H_Teff</th><th>Fe_H_log_g</th><th>Fe_H_Fe_H</th><th>Fe_H_flag</th><th>Fe_H_CompStar</th><th>Fe_H_CatNo</th><th>Fe_H_bibcode</th><th>FLUX_B</th><th>FLUX_V</th><th>FLUX_R</th><th>FLUX_I</th><th>FLUX_J</th><th>FLUX_K</th><th>FLUX_ERROR_B</th><th>FLUX_ERROR_V</th><th>FLUX_ERROR_R</th><th>FLUX_ERROR_I</th><th>FLUX_ERROR_J</th><th>FLUX_ERROR_K</th><th>ROT_upVsini</th><th>ROT_Vsini</th><th>ROT_err</th><th>ROT_mes</th><th>ROT_qual</th><th>ROT_bibcode</th><th>SP_TYPE</th><th>SP_QUAL</th><th>SP_BIBCODE</th><th>OTYPE</th><th>PLX_VALUE</th><th>PLX_PREC</th><th>PLX_ERROR</th><th>PLX_QUAL</th><th>PLX_BIBCODE</th><th>Distance_distance</th><th>Distance_Q</th><th>Distance_unit</th><th>Distance_merr</th><th>Distance_perr</th><th>Distance_method</th><th>Distance_bibcode</th><th>SCRIPT_NUMBER_ID</th></tr></thead>\n",
       "<thead><tr><th></th><th></th><th></th><th></th><th></th><th></th><th></th><th></th><th></th><th></th><th></th><th></th><th></th><th></th><th></th><th></th><th></th><th></th><th></th><th></th><th></th><th></th><th></th><th></th><th></th><th></th><th></th><th></th><th></th><th></th><th></th><th></th><th></th><th></th><th></th><th></th><th></th><th></th><th></th><th></th><th></th><th></th><th></th><th></th><th></th><th></th><th></th><th></th><th></th><th></th><th></th><th></th><th></th><th></th><th></th><th></th><th></th><th></th><th></th><th></th><th></th><th></th><th></th><th></th><th></th><th></th><th></th><th></th><th></th><th></th><th></th><th></th><th></th><th></th><th></th><th></th><th></th><th></th><th></th><th></th><th></th><th></th><th></th><th></th><th></th><th></th><th></th><th></th><th></th><th></th><th></th><th></th><th>&quot;h:m:s&quot;</th><th>&quot;d:m:s&quot;</th><th></th><th></th><th>mas</th><th>mas</th><th>deg</th><th></th><th></th><th></th><th></th><th>unit-degK</th><th>cm/s**2</th><th></th><th></th><th></th><th></th><th></th><th>mag</th><th>mag</th><th>mag</th><th>mag</th><th>mag</th><th>mag</th><th></th><th></th><th></th><th></th><th></th><th></th><th></th><th>km / s</th><th></th><th></th><th></th><th></th><th></th><th></th><th></th><th></th><th>mas</th><th></th><th>mas</th><th></th><th></th><th></th><th></th><th></th><th></th><th></th><th></th><th></th><th></th></tr></thead>\n",
       "<thead><tr><th>float64</th><th>str22</th><th>int64</th><th>int64</th><th>str3</th><th>float64</th><th>float64</th><th>float64</th><th>float64</th><th>float64</th><th>float64</th><th>int64</th><th>int64</th><th>int64</th><th>float64</th><th>int64</th><th>float64</th><th>int64</th><th>int64</th><th>float64</th><th>float64</th><th>float64</th><th>float64</th><th>float64</th><th>float64</th><th>float64</th><th>float64</th><th>float64</th><th>float64</th><th>float64</th><th>float64</th><th>float64</th><th>float64</th><th>float64</th><th>float64</th><th>int64</th><th>int64</th><th>int64</th><th>int64</th><th>float64</th><th>float64</th><th>float64</th><th>float64</th><th>float64</th><th>float64</th><th>float64</th><th>float64</th><th>float64</th><th>float64</th><th>float64</th><th>float64</th><th>float64</th><th>float64</th><th>float64</th><th>float64</th><th>float64</th><th>float64</th><th>float64</th><th>float64</th><th>float64</th><th>float64</th><th>float64</th><th>float64</th><th>float64</th><th>float64</th><th>float64</th><th>float64</th><th>float64</th><th>float64</th><th>float64</th><th>float64</th><th>float64</th><th>float64</th><th>float64</th><th>float64</th><th>float64</th><th>str1</th><th>int64</th><th>int64</th><th>int64</th><th>str99</th><th>int64</th><th>int64</th><th>int64</th><th>str99</th><th>str99</th><th>str31</th><th>float64</th><th>float64</th><th>float64</th><th>str24</th><th>object</th><th>str13</th><th>str13</th><th>int16</th><th>int16</th><th>float32</th><th>float32</th><th>int16</th><th>str1</th><th>str1</th><th>object</th><th>object</th><th>int32</th><th>float32</th><th>float32</th><th>str1</th><th>object</th><th>str5</th><th>str19</th><th>float32</th><th>float32</th><th>float32</th><th>float32</th><th>float32</th><th>float32</th><th>float32</th><th>float32</th><th>float32</th><th>float32</th><th>float32</th><th>float32</th><th>str1</th><th>float32</th><th>float32</th><th>int32</th><th>str1</th><th>str19</th><th>object</th><th>str1</th><th>object</th><th>object</th><th>float64</th><th>int16</th><th>float32</th><th>str1</th><th>object</th><th>float64</th><th>str1</th><th>str4</th><th>float64</th><th>float64</th><th>str8</th><th>str19</th><th>int32</th></tr></thead>\n",
       "<tr><td>1.754731</td><td>GALEX J121541.2+723303</td><td>6374293536815186771</td><td>6374293536812040192</td><td>AIS</td><td>183.602981</td><td>72.877474</td><td>107.0</td><td>211.0</td><td>126.6651</td><td>44.3173</td><td>50096</td><td>2433</td><td>76</td><td>0.340086</td><td>3</td><td>0.0157</td><td>0</td><td>0</td><td>16.3306</td><td>0.032</td><td>13.6635</td><td>0.0044</td><td>-2.4894</td><td>0.032</td><td>-6.4166</td><td>0.0044</td><td>-2.4257</td><td>0.0334</td><td>-6.0788</td><td>0.0053</td><td>-2.5011</td><td>0.0319</td><td>-6.3345</td><td>0.0045</td><td>0</td><td>0</td><td>0</td><td>0</td><td>1066.04004</td><td>31.4277</td><td>12434.2002</td><td>49.8495</td><td>1699.75</td><td>1028.68</td><td>1700.37</td><td>1028.33</td><td>3.368</td><td>5.044</td><td>0.001</td><td>0.002</td><td>0.9982</td><td>0.9992</td><td>0.0258</td><td>0.0799</td><td>-72.8</td><td>-4.22</td><td>-68.35</td><td>-68.11</td><td>4.30505991</td><td>3.14287996</td><td>3.5</td><td>0.002053</td><td>0.002</td><td>3.5</td><td>0.000927</td><td>0.000853</td><td>171.2</td><td>97.3</td><td>0.0463</td><td>1.16</td><td>0.48</td><td>0.59</td><td>0.46</td><td>0.01</td><td>0.01</td><td>C</td><td>0</td><td>1</td><td>6374293536815186944</td><td>6374293536815186771</td><td>0</td><td>1</td><td>6374293536815186944</td><td>6374293536815186771</td><td>6374293536815186771</td><td>N</td><td>0.0</td><td>183.9229</td><td>72.5512</td><td>HD 106677</td><td>V* DK Dra</td><td>12 15 41.4909</td><td>+72 33 04.308</td><td>14</td><td>14</td><td>0.018</td><td>0.021</td><td>90</td><td>A</td><td>O</td><td>2020yCat.1350....0G</td><td>HD 106677</td><td>4560</td><td>--</td><td>-0.300</td><td></td><td>SUN</td><td></td><td>2020A&amp;A...633A..34C</td><td>7.43</td><td>6.29</td><td>--</td><td>--</td><td>4.337</td><td>3.608</td><td>0.010</td><td>0.010</td><td>--</td><td>--</td><td>0.292</td><td>0.324</td><td></td><td>--</td><td>--</td><td>0</td><td></td><td></td><td>K0+IIICH-1</td><td>C</td><td>1989ApJS...71..245K</td><td>RSCVnV*</td><td>6.706</td><td>4</td><td>0.0223</td><td>A</td><td>2020yCat.1350....0G</td><td>149.1220</td><td></td><td>pc</td><td>-0.4959</td><td>0.4959</td><td>paral</td><td>2020yCat.1350....0G</td><td>1</td></tr>\n",
       "<tr><td>1.632329</td><td>GALEX J062006.3-484428</td><td>6385411747929393556</td><td>6385411747926245376</td><td>AIS</td><td>95.13544</td><td>-48.868826</td><td>112.0</td><td>112.0</td><td>256.8029</td><td>-25.0095</td><td>50412</td><td>929</td><td>29</td><td>0.146525</td><td>3</td><td>0.0652</td><td>0</td><td>0</td><td>18.9305</td><td>0.1165</td><td>12.6032</td><td>0.0039</td><td>0.1105</td><td>0.1165</td><td>-7.4768</td><td>0.0039</td><td>0.262</td><td>0.1246</td><td>-6.8717</td><td>0.0056</td><td>0.0949</td><td>0.1226</td><td>-7.3458</td><td>0.0042</td><td>0</td><td>2</td><td>0</td><td>0</td><td>97.2289</td><td>10.4267</td><td>33016.60156</td><td>118.595</td><td>1994.56</td><td>2294.06</td><td>1994.17</td><td>2294.73</td><td>3.867</td><td>8.441</td><td>0.002</td><td>0.004</td><td>0.5435</td><td>0.9836</td><td>0.1141</td><td>0.2112</td><td>-68.22</td><td>-58.79</td><td>4.71</td><td>4.76</td><td>7.61154985</td><td>4.33433008</td><td>3.5</td><td>0.002521</td><td>0.002233</td><td>3.5</td><td>0.00085</td><td>0.000671</td><td>77.3</td><td>103.9</td><td>0.0336</td><td>1.42</td><td>0.47</td><td>0.71</td><td>0.55</td><td>0.01</td><td>0.09</td><td>C</td><td>0</td><td>1</td><td>6385411747929393152</td><td>6385411747929393556</td><td>0</td><td>1</td><td>6385411747929393152</td><td>6385411747929393556</td><td>6385411747929393556</td><td>N</td><td>0.0</td><td>95.0256</td><td>-48.7411</td><td>HD 44594</td><td>HD  44594</td><td>06 20 06.1353</td><td>-48 44 27.934</td><td>9</td><td>9</td><td>3.600</td><td>3.070</td><td>90</td><td>A</td><td>O</td><td>2007A&amp;A...474..653V</td><td>HD 44594</td><td>5842</td><td>4.3900</td><td>0.164</td><td></td><td>SUN</td><td></td><td>2020A&amp;A...639A.127C</td><td>7.26</td><td>6.6</td><td>--</td><td>--</td><td>--</td><td>--</td><td>--</td><td>--</td><td>--</td><td>--</td><td>--</td><td>--</td><td></td><td>2.31</td><td>--</td><td>0</td><td></td><td>2020A&amp;A...634A.136C</td><td>G2Va</td><td>C</td><td>1989ApJS...71..245K</td><td>**</td><td>39.790</td><td>2</td><td>0.34</td><td>A</td><td>2007A&amp;A...474..653V</td><td>--</td><td></td><td></td><td>--</td><td>--</td><td></td><td></td><td>1</td></tr>\n",
       "<tr><td>2.04923</td><td>GALEX J030224.7-224824</td><td>6380837843982353526</td><td>6380837843979206656</td><td>AIS</td><td>45.942176</td><td>-22.663376</td><td>112.0</td><td>112.0</td><td>211.9483</td><td>-60.0879</td><td>50282</td><td>2849</td><td>89</td><td>0.34392</td><td>3</td><td>0.0219</td><td>0</td><td>0</td><td>19.5244</td><td>0.1474</td><td>13.3533</td><td>0.0051</td><td>0.7044</td><td>0.1474</td><td>-6.7267</td><td>0.0051</td><td>0.7566</td><td>0.1505</td><td>-6.3111</td><td>0.0065</td><td>0.7391</td><td>0.1548</td><td>-6.6216</td><td>0.0054</td><td>0</td><td>0</td><td>0</td><td>0</td><td>56.2633</td><td>7.63394</td><td>16544.80078</td><td>78.3729</td><td>2666.49</td><td>1561.85</td><td>2666.51</td><td>1562.69</td><td>5.163</td><td>6.417</td><td>0.002</td><td>0.003</td><td>0.9177</td><td>0.9835</td><td>0.1627</td><td>0.1353</td><td>-72.47</td><td>-66.98</td><td>73.09</td><td>73.2</td><td>34.3487015</td><td>4.82035017</td><td>3.5</td><td>0.002606</td><td>0.002182</td><td>3.5</td><td>0.000817</td><td>0.000707</td><td>92.4</td><td>101.6</td><td>0.0725</td><td>1.19</td><td>0.48</td><td>0.68</td><td>0.52</td><td>0.01</td><td>0.06</td><td>C</td><td>0</td><td>1</td><td>6380837843982353408</td><td>6380837843982353526</td><td>0</td><td>1</td><td>6380837843982353408</td><td>6380837843982353526</td><td>6380837843982353526</td><td>N</td><td>0.0</td><td>45.6034</td><td>-22.8073</td><td>HD 18967</td><td>HD  18967</td><td>03 02 24.8143</td><td>-22 48 26.268</td><td>14</td><td>14</td><td>0.012</td><td>0.014</td><td>90</td><td>A</td><td>O</td><td>2020yCat.1350....0G</td><td>HD 18967</td><td>0</td><td>--</td><td>--</td><td></td><td></td><td></td><td></td><td>9.3</td><td>8.78</td><td>--</td><td>--</td><td>7.91</td><td>7.642</td><td>0.020</td><td>0.010</td><td>--</td><td>--</td><td>0.023</td><td>0.027</td><td></td><td>--</td><td>--</td><td>0</td><td></td><td></td><td>F7V</td><td>C</td><td>1988MSS...C04....0H</td><td>HighPM*</td><td>9.508</td><td>4</td><td>0.0182</td><td>A</td><td>2020yCat.1350....0G</td><td>105.1760</td><td></td><td>pc</td><td>-0.2013</td><td>0.2013</td><td>paral</td><td>2020yCat.1350....0G</td><td>1</td></tr>\n",
       "<tr><td>0.443232</td><td>GALEX J050749.5+302404</td><td>6377565631879840390</td><td>6377565631876694016</td><td>AIS</td><td>77.233814</td><td>30.696988</td><td>214.0</td><td>215.0</td><td>174.2044</td><td>-6.0029</td><td>50189</td><td>897</td><td>28</td><td>0.380082</td><td>3</td><td>0.4653</td><td>0</td><td>0</td><td>16.0085</td><td>0.0215</td><td>13.8886</td><td>0.005</td><td>-2.8115</td><td>0.0215</td><td>-6.1914</td><td>0.005</td><td>-2.6933</td><td>0.0228</td><td>-5.8528</td><td>0.0061</td><td>-2.7843</td><td>0.0218</td><td>-6.1086</td><td>0.0052</td><td>0</td><td>0</td><td>0</td><td>0</td><td>1434.15002</td><td>28.4352</td><td>10105.90039</td><td>46.6783</td><td>2476.0</td><td>1199.95</td><td>2476.1</td><td>1199.91</td><td>3.877</td><td>5.346</td><td>0.002</td><td>0.002</td><td>0.9789</td><td>0.9988</td><td>0.026</td><td>0.4798</td><td>-10.39</td><td>-31.08</td><td>52.71</td><td>51.06</td><td>3.72081995</td><td>3.17296004</td><td>3.5</td><td>0.002087</td><td>0.002033</td><td>3.5</td><td>0.001619</td><td>0.000843</td><td>157.1</td><td>200.5</td><td>0.953</td><td>0.15</td><td>0.46</td><td>0.64</td><td>0.48</td><td>0.02</td><td>0.05</td><td>C</td><td>0</td><td>1</td><td>6377565631879840768</td><td>6377565631879840390</td><td>0</td><td>1</td><td>6377565631879840768</td><td>6377565631879840390</td><td>6377565631879840390</td><td>N</td><td>0.0</td><td>76.9565</td><td>30.4014</td><td>HD 240764</td><td>V* RW Aur</td><td>05 07 49.5662</td><td>+30 24 05.177</td><td>11</td><td>11</td><td>3.310</td><td>2.000</td><td>90</td><td>A</td><td>O</td><td>2007A&amp;A...474..653V</td><td>HD 240764</td><td>0</td><td>--</td><td>--</td><td></td><td></td><td></td><td></td><td>10.86</td><td>9.6</td><td>9.95</td><td>--</td><td>8.378</td><td>7.02</td><td>0.050</td><td>--</td><td>--</td><td>--</td><td>0.024</td><td>0.018</td><td></td><td>14.50</td><td>1.80</td><td>0</td><td></td><td>2012ApJ...745..119N</td><td>K1/5e+K5e</td><td>C</td><td>1999A&amp;A...351..954D</td><td>TTauri*</td><td>15.420</td><td>2</td><td>3.69</td><td>A</td><td>2007A&amp;A...474..653V</td><td>--</td><td></td><td></td><td>--</td><td>--</td><td></td><td></td><td>1</td></tr>\n",
       "<tr><td>3.760085</td><td>GALEX J131646.3+092529</td><td>6378797088124176408</td><td>6378797088121028608</td><td>AIS</td><td>199.279691</td><td>9.407614</td><td>207.0</td><td>207.0</td><td>322.7893</td><td>71.3134</td><td>50224</td><td>993</td><td>31</td><td>0.087178</td><td>3</td><td>0.0254</td><td>0</td><td>0</td><td>15.9994</td><td>0.0195</td><td>11.7072</td><td>0.0019</td><td>-2.8206</td><td>0.0195</td><td>-8.3728</td><td>0.0019</td><td>-2.7817</td><td>0.02</td><td>-6.4275</td><td>0.0055</td><td>-2.8267</td><td>0.0195</td><td>-7.682</td><td>0.0028</td><td>0</td><td>130</td><td>0</td><td>0</td><td>1446.25</td><td>25.9937</td><td>75358.39844</td><td>134.627</td><td>2147.22</td><td>1962.39</td><td>2147.54</td><td>1963.2</td><td>2.661</td><td>13.365</td><td>0.001</td><td>0.006</td><td>0.6518</td><td>0.9853</td><td>0.0603</td><td>0.0762</td><td>86.22</td><td>-89.85</td><td>24.23</td><td>24.21</td><td>4.57824993</td><td>2.95953989</td><td>3.5</td><td>0.004721</td><td>0.004436</td><td>3.5</td><td>0.00089</td><td>0.000822</td><td>138.1</td><td>204.0</td><td>0.0256</td><td>1.27</td><td>0.47</td><td>0.59</td><td>0.46</td><td>0.01</td><td>0.0</td><td>C</td><td>0</td><td>1</td><td>6378797088124176384</td><td>6378797088124176408</td><td>0</td><td>1</td><td>6378797088124176384</td><td>6378797088124176408</td><td>6378797088124176408</td><td>N</td><td>0.0</td><td>199.1938</td><td>9.4242</td><td>HD 115383</td><td>* e Vir</td><td>13 16 46.5148</td><td>+09 25 26.960</td><td>14</td><td>14</td><td>0.108</td><td>0.076</td><td>90</td><td>A</td><td>O</td><td>2020yCat.1350....0G</td><td>HD 115383</td><td>5999</td><td>4.1700</td><td>0.130</td><td></td><td>SUN</td><td></td><td>2017AJ....153...21L</td><td>5.81</td><td>--</td><td>4.8</td><td>--</td><td>4.39</td><td>4.033</td><td>--</td><td>--</td><td>--</td><td>--</td><td>0.280</td><td>0.238</td><td></td><td>7.20</td><td>1.10</td><td>0</td><td></td><td>2012A&amp;A...542A.116A</td><td>G0V</td><td>C</td><td>2010A&amp;A...522A..81A</td><td>HighPM*</td><td>56.858</td><td>4</td><td>0.1224</td><td>A</td><td>2020yCat.1350....0G</td><td>17.5878</td><td></td><td>pc</td><td>-0.0378</td><td>0.0378</td><td>paral</td><td>2020yCat.1350....0G</td><td>1</td></tr>\n",
       "<tr><td>1.139135</td><td>GALEX J030745.9+673438</td><td>6372639818713662703</td><td>6372639818710515712</td><td>AIS</td><td>46.96929</td><td>67.557479</td><td>215.0</td><td>215.0</td><td>135.3994</td><td>8.0678</td><td>50049</td><td>865</td><td>27</td><td>0.022512</td><td>3</td><td>0.9249</td><td>0</td><td>1</td><td>14.9106</td><td>0.0117</td><td>13.916</td><td>0.0052</td><td>-3.9095</td><td>0.0117</td><td>-6.164</td><td>0.0052</td><td>-3.8488</td><td>0.0122</td><td>-5.9351</td><td>0.006</td><td>-3.9108</td><td>0.0117</td><td>-6.1146</td><td>0.0054</td><td>0</td><td>0</td><td>0</td><td>0</td><td>3942.58008</td><td>42.578</td><td>9853.58008</td><td>47.4545</td><td>1968.18</td><td>1965.52</td><td>1967.2</td><td>1965.6</td><td>3.112</td><td>4.469</td><td>0.001</td><td>0.002</td><td>0.9702</td><td>0.9995</td><td>0.0145</td><td>0.0378</td><td>-34.36</td><td>57.8</td><td>87.85</td><td>87.72</td><td>5.88780022</td><td>3.01907992</td><td>3.5</td><td>0.00183</td><td>0.001803</td><td>3.5</td><td>0.00101</td><td>0.000972</td><td>154.7</td><td>207.8</td><td>0.000397</td><td>1.73</td><td>0.47</td><td>0.56</td><td>0.44</td><td>0.02</td><td>0.0</td><td>C</td><td>0</td><td>1</td><td>6372639818713662464</td><td>6372639818713662703</td><td>0</td><td>1</td><td>6372639818713662464</td><td>6372639818713662703</td><td>6372639818713662703</td><td>N</td><td>0.0</td><td>46.9406</td><td>67.5774</td><td>BD+67 244</td><td>V* RX Cas</td><td>03 07 45.7479</td><td>+67 34 38.612</td><td>14</td><td>14</td><td>0.015</td><td>0.018</td><td>90</td><td>A</td><td>O</td><td>2020yCat.1350....0G</td><td>BD+67 244</td><td>0</td><td>--</td><td>--</td><td></td><td></td><td></td><td></td><td>10.14</td><td>8.64</td><td>--</td><td>--</td><td>6.243</td><td>5.435</td><td>--</td><td>--</td><td>--</td><td>--</td><td>0.018</td><td>0.018</td><td></td><td>--</td><td>--</td><td>0</td><td></td><td></td><td>K1III+A5eIII</td><td>C</td><td>2011ARep...55...31S</td><td>EclBin</td><td>1.818</td><td>4</td><td>0.0253</td><td>A</td><td>2020yCat.1350....0G</td><td>550.1160</td><td></td><td>pc</td><td>-7.6565</td><td>7.6565</td><td>paral</td><td>2020yCat.1350....0G</td><td>1</td></tr>\n",
       "<tr><td>...</td><td>...</td><td>...</td><td>...</td><td>...</td><td>...</td><td>...</td><td>...</td><td>...</td><td>...</td><td>...</td><td>...</td><td>...</td><td>...</td><td>...</td><td>...</td><td>...</td><td>...</td><td>...</td><td>...</td><td>...</td><td>...</td><td>...</td><td>...</td><td>...</td><td>...</td><td>...</td><td>...</td><td>...</td><td>...</td><td>...</td><td>...</td><td>...</td><td>...</td><td>...</td><td>...</td><td>...</td><td>...</td><td>...</td><td>...</td><td>...</td><td>...</td><td>...</td><td>...</td><td>...</td><td>...</td><td>...</td><td>...</td><td>...</td><td>...</td><td>...</td><td>...</td><td>...</td><td>...</td><td>...</td><td>...</td><td>...</td><td>...</td><td>...</td><td>...</td><td>...</td><td>...</td><td>...</td><td>...</td><td>...</td><td>...</td><td>...</td><td>...</td><td>...</td><td>...</td><td>...</td><td>...</td><td>...</td><td>...</td><td>...</td><td>...</td><td>...</td><td>...</td><td>...</td><td>...</td><td>...</td><td>...</td><td>...</td><td>...</td><td>...</td><td>...</td><td>...</td><td>...</td><td>...</td><td>...</td><td>...</td><td>...</td><td>...</td><td>...</td><td>...</td><td>...</td><td>...</td><td>...</td><td>...</td><td>...</td><td>...</td><td>...</td><td>...</td><td>...</td><td>...</td><td>...</td><td>...</td><td>...</td><td>...</td><td>...</td><td>...</td><td>...</td><td>...</td><td>...</td><td>...</td><td>...</td><td>...</td><td>...</td><td>...</td><td>...</td><td>...</td><td>...</td><td>...</td><td>...</td><td>...</td><td>...</td><td>...</td><td>...</td><td>...</td><td>...</td><td>...</td><td>...</td><td>...</td><td>...</td><td>...</td><td>...</td><td>...</td><td>...</td><td>...</td><td>...</td><td>...</td><td>...</td><td>...</td><td>...</td><td>...</td></tr>\n",
       "<tr><td>0.858909</td><td>GALEX J210117.4-321527</td><td>6384391466637068370</td><td>6384391466633920512</td><td>AIS</td><td>315.444385</td><td>-32.448868</td><td>157.0</td><td>157.0</td><td>12.3431</td><td>-40.3422</td><td>50383</td><td>2881</td><td>90</td><td>0.21711</td><td>3</td><td>0.0894</td><td>0</td><td>0</td><td>17.2783</td><td>0.0402</td><td>12.2301</td><td>0.0027</td><td>-1.5417</td><td>0.0402</td><td>-7.8499</td><td>0.0027</td><td>-1.5159</td><td>0.0407</td><td>-6.8306</td><td>0.0049</td><td>-1.5588</td><td>0.0401</td><td>-7.5735</td><td>0.0031</td><td>0</td><td>2</td><td>0</td><td>0</td><td>445.323</td><td>16.4837</td><td>46554.0</td><td>117.279</td><td>2120.24</td><td>2363.15</td><td>2119.74</td><td>2363.77</td><td>2.367</td><td>9.436</td><td>0.001</td><td>0.004</td><td>0.6004</td><td>0.9865</td><td>0.1721</td><td>0.0229</td><td>2.55</td><td>2.7</td><td>-6.84</td><td>-6.8</td><td>4.06908989</td><td>2.57852006</td><td>3.5</td><td>0.003573</td><td>0.002958</td><td>3.5</td><td>0.000763</td><td>0.000745</td><td>117.2</td><td>145.6</td><td>0.00537</td><td>1.46</td><td>0.47</td><td>0.58</td><td>0.46</td><td>0.01</td><td>0.01</td><td>C</td><td>0</td><td>1</td><td>6384391466637068288</td><td>6384391466637068370</td><td>0</td><td>1</td><td>6384391466637068288</td><td>6384391466637068370</td><td>6384391466637068370</td><td>N</td><td>0.0</td><td>315.3228</td><td>-32.2578</td><td>HD 199951</td><td>* gam Mic</td><td>21 01 17.4604</td><td>-32 15 27.957</td><td>11</td><td>11</td><td>0.230</td><td>0.150</td><td>90</td><td>A</td><td>O</td><td>2007A&amp;A...474..653V</td><td>HD 199951</td><td>5310</td><td>3.0000</td><td>-0.010</td><td></td><td>SUN</td><td></td><td>1992MNRAS.256..535J</td><td>5.529</td><td>4.654</td><td>--</td><td>--</td><td>3.15</td><td>2.596</td><td>0.014</td><td>0.009</td><td>--</td><td>--</td><td>0.010</td><td>0.010</td><td></td><td>--</td><td>--</td><td>0</td><td></td><td></td><td>G8III</td><td>C</td><td>1982MSS...C03....0H</td><td>Star</td><td>14.240</td><td>2</td><td>0.26</td><td>A</td><td>2007A&amp;A...474..653V</td><td>68.2929</td><td></td><td>pc</td><td>-2.3161</td><td>2.3161</td><td>paral</td><td>2018yCat.1345....0G</td><td>1</td></tr>\n",
       "<tr><td>0.540232</td><td>GALEX J002820.0+101123</td><td>6380978541742261730</td><td>6380978541739114496</td><td>AIS</td><td>7.182728</td><td>10.038623</td><td>215.0</td><td>215.0</td><td>113.6182</td><td>-52.2635</td><td>50286</td><td>1665</td><td>52</td><td>0.180137</td><td>3</td><td>0.1729</td><td>0</td><td>0</td><td>15.2804</td><td>0.0112</td><td>11.7018</td><td>0.0018</td><td>-3.5396</td><td>0.0112</td><td>-8.3782</td><td>0.0018</td><td>-3.4936</td><td>0.0116</td><td>-5.3552</td><td>0.0086</td><td>-3.5435</td><td>0.0113</td><td>-7.1498</td><td>0.0033</td><td>0</td><td>2</td><td>0</td><td>0</td><td>2804.53003</td><td>29.043</td><td>75731.89844</td><td>123.038</td><td>2099.04</td><td>2243.69</td><td>2099.3</td><td>2244.76</td><td>3.154</td><td>20.436</td><td>0.001</td><td>0.009</td><td>0.0313</td><td>0.9998</td><td>0.1423</td><td>0.0597</td><td>35.22</td><td>33.82</td><td>-10.62</td><td>-10.62</td><td>6.35723019</td><td>3.37765002</td><td>3.5</td><td>0.006558</td><td>0.005625</td><td>3.5</td><td>0.00094</td><td>0.000883</td><td>162.0</td><td>207.5</td><td>0.000305</td><td>1.83</td><td>0.47</td><td>0.58</td><td>0.45</td><td>0.02</td><td>0.0</td><td>C</td><td>0</td><td>1</td><td>6380978541742261248</td><td>6380978541742261730</td><td>0</td><td>1</td><td>6380978541742261248</td><td>6380978541742261730</td><td>6380978541742261730</td><td>N</td><td>0.0</td><td>7.0835</td><td>10.1898</td><td>HD 2454</td><td>HD   2454</td><td>00 28 20.0424</td><td>+10 11 23.297</td><td>14</td><td>14</td><td>0.052</td><td>0.030</td><td>90</td><td>A</td><td>O</td><td>2020yCat.1350....0G</td><td>HD 2454</td><td>6501</td><td>4.1100</td><td>-0.350</td><td></td><td></td><td></td><td>2018A&amp;A...614A..55A</td><td>6.47</td><td>--</td><td>5.8</td><td>--</td><td>5.201</td><td>4.942</td><td>--</td><td>--</td><td>--</td><td>--</td><td>0.037</td><td>0.020</td><td></td><td>--</td><td>--</td><td>0</td><td></td><td></td><td>F5VSr</td><td>C</td><td>2006AJ....132..161G</td><td>HighPM*</td><td>26.253</td><td>3</td><td>0.057</td><td>A</td><td>2020yCat.1350....0G</td><td>38.0910</td><td></td><td>pc</td><td>-0.0827</td><td>0.0827</td><td>paral</td><td>2020yCat.1350....0G</td><td>1</td></tr>\n",
       "<tr><td>1.843597</td><td>GALEX J011314.9+262728</td><td>6387980080491004597</td><td>6387980080487858176</td><td>AIS</td><td>17.88583</td><td>26.648467</td><td>109.05</td><td>109.05</td><td>128.9804</td><td>-36.1576</td><td>50485</td><td>1252</td><td>39</td><td>0.426414</td><td>3</td><td>0.0665</td><td>0</td><td>1</td><td>13.3317</td><td>0.0086</td><td>13.3281</td><td>0.0054</td><td>-5.4883</td><td>0.0086</td><td>-6.7519</td><td>0.0054</td><td>-5.1828</td><td>0.0101</td><td>-6.2276</td><td>0.0072</td><td>-5.3338</td><td>0.0092</td><td>-6.6282</td><td>0.0057</td><td>0</td><td>17</td><td>0</td><td>0</td><td>16878.59961</td><td>132.90601</td><td>16934.69922</td><td>83.8062</td><td>1046.31</td><td>1473.02</td><td>1045.58</td><td>1471.36</td><td>3.995</td><td>6.245</td><td>0.002</td><td>0.003</td><td>0.4399</td><td>0.9929</td><td>0.0806</td><td>0.1253</td><td>26.71</td><td>54.27</td><td>-21.98</td><td>-21.84</td><td>10.3275995</td><td>5.09695005</td><td>3.5</td><td>0.002343</td><td>0.002154</td><td>3.5</td><td>0.003583</td><td>0.003134</td><td>83.1</td><td>96.5</td><td>3.47e-07</td><td>2.54</td><td>0.48</td><td>0.58</td><td>0.46</td><td>0.01</td><td>0.01</td><td>V</td><td>0</td><td>1</td><td>6387980080491004928</td><td>6387980080491004597</td><td>0</td><td>1</td><td>6387980080491004928</td><td>6387980080491004597</td><td>6387980080491004597</td><td>N</td><td>0.0</td><td>18.3125</td><td>26.4583</td><td>PG 0110+262</td><td>PG 0110+262</td><td>01 13 14.8740</td><td>+26 27 31.247</td><td>14</td><td>14</td><td>0.030</td><td>0.023</td><td>90</td><td>A</td><td>O</td><td>2020yCat.1350....0G</td><td>PG 0110+262</td><td>0</td><td>--</td><td>--</td><td></td><td></td><td></td><td></td><td>11.57</td><td>--</td><td>--</td><td>--</td><td>12.41</td><td>12.215</td><td>--</td><td>--</td><td>--</td><td>--</td><td>0.023</td><td>0.022</td><td></td><td>--</td><td>--</td><td>0</td><td></td><td></td><td>sdB+G0V</td><td>D</td><td>2012ApJ...758...58B</td><td>HotSubdwarf</td><td>1.130</td><td>4</td><td>0.0394</td><td>A</td><td>2020yCat.1350....0G</td><td>885.0340</td><td></td><td>pc</td><td>-30.8614</td><td>30.8614</td><td>paral</td><td>2020yCat.1350....0G</td><td>1</td></tr>\n",
       "<tr><td>2.254323</td><td>GALEX J011314.8+262730</td><td>6387980080390341470</td><td>6387980080387194880</td><td>AIS</td><td>17.915283</td><td>26.647011</td><td>128.0</td><td>128.0</td><td>128.9798</td><td>-36.1569</td><td>50485</td><td>1249</td><td>39</td><td>0.4017</td><td>3</td><td>0.0665</td><td>0</td><td>1</td><td>12.5019</td><td>0.0053</td><td>13.4138</td><td>0.0049</td><td>-6.3181</td><td>0.0053</td><td>-6.6663</td><td>0.0049</td><td>-6.1643</td><td>0.0058</td><td>-6.2517</td><td>0.0062</td><td>-6.2772</td><td>0.0054</td><td>-6.5693</td><td>0.0051</td><td>256</td><td>0</td><td>0</td><td>0</td><td>36245.10156</td><td>176.10001</td><td>15649.40039</td><td>70.0113</td><td>1047.18</td><td>1472.33</td><td>1046.41</td><td>1473.05</td><td>3.529</td><td>6.593</td><td>0.001</td><td>0.003</td><td>0.9842</td><td>0.9982</td><td>0.0779</td><td>0.1533</td><td>22.9</td><td>22.32</td><td>-5.48</td><td>-5.3</td><td>6.7609601</td><td>3.77366996</td><td>3.5</td><td>0.002237</td><td>0.002063</td><td>3.5</td><td>0.002308</td><td>0.001954</td><td>108.4</td><td>114.5</td><td>0.00446</td><td>1.51</td><td>0.47</td><td>0.58</td><td>0.46</td><td>0.01</td><td>0.0</td><td>V</td><td>0</td><td>1</td><td>6387980080390341632</td><td>6387980080390341470</td><td>0</td><td>1</td><td>6387980080390341632</td><td>6387980080390341470</td><td>6387980080390341470</td><td>N</td><td>0.0</td><td>18.3125</td><td>26.4583</td><td>PG 0110+262</td><td>PG 0110+262</td><td>01 13 14.8740</td><td>+26 27 31.247</td><td>14</td><td>14</td><td>0.030</td><td>0.023</td><td>90</td><td>A</td><td>O</td><td>2020yCat.1350....0G</td><td>PG 0110+262</td><td>0</td><td>--</td><td>--</td><td></td><td></td><td></td><td></td><td>11.57</td><td>--</td><td>--</td><td>--</td><td>12.41</td><td>12.215</td><td>--</td><td>--</td><td>--</td><td>--</td><td>0.023</td><td>0.022</td><td></td><td>--</td><td>--</td><td>0</td><td></td><td></td><td>sdB+G0V</td><td>D</td><td>2012ApJ...758...58B</td><td>HotSubdwarf</td><td>1.130</td><td>4</td><td>0.0394</td><td>A</td><td>2020yCat.1350....0G</td><td>885.0340</td><td></td><td>pc</td><td>-30.8614</td><td>30.8614</td><td>paral</td><td>2020yCat.1350....0G</td><td>1</td></tr>\n",
       "<tr><td>3.224837</td><td>GALEX J011314.9+262733</td><td>6387980080524559364</td><td>6387980080521412608</td><td>AIS</td><td>17.914158</td><td>26.632297</td><td>56.0</td><td>141.0</td><td>128.9804</td><td>-36.1563</td><td>50485</td><td>1253</td><td>39</td><td>0.396083</td><td>3</td><td>0.0665</td><td>0</td><td>1</td><td>12.6606</td><td>0.0094</td><td>13.2879</td><td>0.0045</td><td>-6.1594</td><td>0.0094</td><td>-6.7921</td><td>0.0045</td><td>-6.024</td><td>0.0102</td><td>-6.3352</td><td>0.0059</td><td>-6.1282</td><td>0.0096</td><td>-6.6933</td><td>0.0047</td><td>0</td><td>0</td><td>0</td><td>0</td><td>31316.0</td><td>271.76801</td><td>17572.69922</td><td>72.5933</td><td>1046.51</td><td>1474.57</td><td>1045.26</td><td>1474.6</td><td>3.665</td><td>6.857</td><td>0.002</td><td>0.003</td><td>0.9339</td><td>0.9994</td><td>0.0789</td><td>0.0861</td><td>-56.65</td><td>-54.26</td><td>-56.86</td><td>-56.76</td><td>7.93497992</td><td>3.83312011</td><td>3.5</td><td>0.002228</td><td>0.002052</td><td>3.5</td><td>0.001858</td><td>0.001698</td><td>113.0</td><td>41.6</td><td>0.000578</td><td>1.79</td><td>0.47</td><td>0.59</td><td>0.46</td><td>0.01</td><td>0.0</td><td>V</td><td>0</td><td>1</td><td>6387980080524559360</td><td>6387980080524559364</td><td>0</td><td>1</td><td>6387980080524559360</td><td>6387980080524559364</td><td>6387980080524559364</td><td>N</td><td>0.0</td><td>18.3125</td><td>26.4583</td><td>PG 0110+262</td><td>PG 0110+262</td><td>01 13 14.8740</td><td>+26 27 31.247</td><td>14</td><td>14</td><td>0.030</td><td>0.023</td><td>90</td><td>A</td><td>O</td><td>2020yCat.1350....0G</td><td>PG 0110+262</td><td>0</td><td>--</td><td>--</td><td></td><td></td><td></td><td></td><td>11.57</td><td>--</td><td>--</td><td>--</td><td>12.41</td><td>12.215</td><td>--</td><td>--</td><td>--</td><td>--</td><td>0.023</td><td>0.022</td><td></td><td>--</td><td>--</td><td>0</td><td></td><td></td><td>sdB+G0V</td><td>D</td><td>2012ApJ...758...58B</td><td>HotSubdwarf</td><td>1.130</td><td>4</td><td>0.0394</td><td>A</td><td>2020yCat.1350....0G</td><td>885.0340</td><td></td><td>pc</td><td>-30.8614</td><td>30.8614</td><td>paral</td><td>2020yCat.1350....0G</td><td>1</td></tr>\n",
       "<tr><td>2.895573</td><td>GALEX J125342.1-230631</td><td>6382526690621393517</td><td>6382526690618245120</td><td>AIS</td><td>193.040326</td><td>-23.245238</td><td>106.0</td><td>213.05</td><td>303.6094</td><td>39.7601</td><td>50330</td><td>2753</td><td>86</td><td>0.379577</td><td>3</td><td>0.0893</td><td>0</td><td>0</td><td>18.4464</td><td>0.1047</td><td>12.8718</td><td>0.0032</td><td>-0.3736</td><td>0.1047</td><td>-7.2082</td><td>0.0032</td><td>-0.3592</td><td>0.1052</td><td>-6.3906</td><td>0.005</td><td>-0.3825</td><td>0.1077</td><td>-7.008</td><td>0.0035</td><td>256</td><td>0</td><td>0</td><td>0</td><td>151.858</td><td>14.647</td><td>25779.59961</td><td>75.5231</td><td>1084.24</td><td>2244.17</td><td>1082.34</td><td>2244.47</td><td>2.944</td><td>8.484</td><td>0.001</td><td>0.004</td><td>0.1839</td><td>0.9959</td><td>0.059</td><td>0.0319</td><td>-88.78</td><td>-88.43</td><td>46.32</td><td>46.27</td><td>22.4496002</td><td>3.46961999</td><td>3.5</td><td>0.002671</td><td>0.002513</td><td>3.5</td><td>0.000696</td><td>0.000674</td><td>157.7</td><td>72.2</td><td>2.63e-08</td><td>2.74</td><td>0.47</td><td>0.62</td><td>0.47</td><td>0.01</td><td>0.04</td><td>C</td><td>0</td><td>1</td><td>6382526690621393920</td><td>6382526690621393517</td><td>0</td><td>1</td><td>6382526690621393920</td><td>6382526690621393517</td><td>6382526690621393517</td><td>N</td><td>0.0</td><td>193.4249</td><td>-23.1092</td><td>HD 112039</td><td>HD 112039</td><td>12 53 41.9775</td><td>-23 06 33.113</td><td>14</td><td>14</td><td>0.020</td><td>0.019</td><td>90</td><td>A</td><td>O</td><td>2020yCat.1350....0G</td><td>HD 112039</td><td>6253</td><td>--</td><td>--</td><td></td><td>SUN</td><td></td><td>2011A&amp;A...530A.138C</td><td>8.88</td><td>8.45</td><td>--</td><td>--</td><td>7.482</td><td>7.16</td><td>--</td><td>--</td><td>--</td><td>--</td><td>0.019</td><td>0.024</td><td></td><td>--</td><td>--</td><td>0</td><td></td><td></td><td>F5/6V</td><td>D</td><td>1988MSS...C04....0H</td><td>HighPM*</td><td>12.929</td><td>4</td><td>0.0271</td><td>A</td><td>2020yCat.1350....0G</td><td>77.3440</td><td></td><td>pc</td><td>-0.1621</td><td>0.1621</td><td>paral</td><td>2020yCat.1350....0G</td><td>1</td></tr>\n",
       "</table></div>"
      ],
      "text/plain": [
       "<Table length=512>\n",
       "angDist           name          ...   Distance_bibcode  SCRIPT_NUMBER_ID\n",
       "                                ...                                     \n",
       "float64          str22          ...        str19             int32      \n",
       "-------- ---------------------- ... ------------------- ----------------\n",
       "1.754731 GALEX J121541.2+723303 ... 2020yCat.1350....0G                1\n",
       "1.632329 GALEX J062006.3-484428 ...                                    1\n",
       " 2.04923 GALEX J030224.7-224824 ... 2020yCat.1350....0G                1\n",
       "0.443232 GALEX J050749.5+302404 ...                                    1\n",
       "3.760085 GALEX J131646.3+092529 ... 2020yCat.1350....0G                1\n",
       "1.139135 GALEX J030745.9+673438 ... 2020yCat.1350....0G                1\n",
       "     ...                    ... ...                 ...              ...\n",
       "0.858909 GALEX J210117.4-321527 ... 2018yCat.1345....0G                1\n",
       "0.540232 GALEX J002820.0+101123 ... 2020yCat.1350....0G                1\n",
       "1.843597 GALEX J011314.9+262728 ... 2020yCat.1350....0G                1\n",
       "2.254323 GALEX J011314.8+262730 ... 2020yCat.1350....0G                1\n",
       "3.224837 GALEX J011314.9+262733 ... 2020yCat.1350....0G                1\n",
       "2.895573 GALEX J125342.1-230631 ... 2020yCat.1350....0G                1"
      ]
     },
     "execution_count": 359,
     "metadata": {},
     "output_type": "execute_result"
    }
   ],
   "source": [
    "## Limit sample to FGK stars\n",
    "\n",
    "sptypes = np.array(['F', 'G', 'K'])\n",
    "fgk_index = [False]*len(results)\n",
    "\n",
    "for i, spt in enumerate(results['SP_TYPE'].compressed()):\n",
    "    \n",
    "    cond = False\n",
    "    \n",
    "    for s in sptypes:\n",
    "        cond = np.logical_or(cond, np.any(np.isin([*spt], s)))\n",
    "        \n",
    "    if cond:\n",
    "        fgk_index[i] = True\n",
    "        \n",
    "results = results[fgk_index]\n",
    "\n",
    "results"
   ]
  },
  {
   "cell_type": "code",
   "execution_count": 360,
   "id": "73a3637f",
   "metadata": {
    "ExecuteTime": {
     "end_time": "2022-11-04T03:20:00.861702Z",
     "start_time": "2022-11-04T03:20:00.464359Z"
    }
   },
   "outputs": [
    {
     "data": {
      "image/png": "[encoded data removed]",
      "text/plain": [
       "<Figure size 400x1200 with 1 Axes>"
      ]
     },
     "metadata": {},
     "output_type": "display_data"
    }
   ],
   "source": [
    "cats = np.unique(results['OTYPE'])\n",
    "counts = np.zeros(len(cats))\n",
    "\n",
    "for i in range(len(cats)):\n",
    "    counts[i] = np.sum( results['OTYPE'] == cats[i] )\n",
    "\n",
    "plt.figure(figsize=(4,12))\n",
    "plt.barh(cats, counts, edgecolor='k')\n",
    "plt.yticks(fontsize=14, c='k');\n",
    "plt.xticks(fontsize=14, c='k');\n",
    "plt.xlabel('Counts', fontsize=14, c='k');\n",
    "plt.title('SIMBAD object types in cross-matched GALEX \\n(II/335/galex_ais) & IUE (VI/110/inescat) catalogues', \n",
    "          fontsize=16, c='k')\n",
    "plt.xscale('log')\n"
   ]
  },
  {
   "cell_type": "code",
   "execution_count": 403,
   "id": "5ff1b457",
   "metadata": {
    "ExecuteTime": {
     "end_time": "2022-11-04T18:40:25.367096Z",
     "start_time": "2022-11-04T18:40:25.222500Z"
    }
   },
   "outputs": [
    {
     "name": "stdout",
     "output_type": "stream",
     "text": [
      "Unique object types: \n",
      " ['**' 'Ae*' 'BYDraV*' 'CataclyV*' 'ChemPec*' 'ClassicalCep' 'EclBin'\n",
      " 'Eruptive*' 'HighPM*' 'HorBranch*' 'HotSubdwarf' 'LongPeriodV*'\n",
      " 'LongPeriodV*_Candidate' 'Low-Mass*' 'Nova' 'OrionV*' 'PlanetaryNeb'\n",
      " 'PulsV*' 'RGB*' 'RRLyrae' 'RSCVnV*' 'RVTauV*' 'RotV*' 'SB*' 'SXPheV*'\n",
      " 'Star' 'Symbiotic*' 'TTauri*' 'Type2Cep' 'Variable*' 'WhiteDwarf'\n",
      " 'delSctV*' 'gammaDorV*' 'post-AGB*']\n",
      "**\n",
      "Ae*\n",
      "BYDraV*\n",
      "CataclyV*\n",
      "ChemPec*\n",
      "ClassicalCep\n",
      "EclBin\n",
      "Eruptive*\n",
      "Low-Mass*\n",
      "Nova\n",
      "OrionV*\n",
      "PlanetaryNeb\n",
      "PulsV*\n",
      "RRLyrae\n",
      "RSCVnV*\n",
      "RVTauV*\n",
      "RotV*\n",
      "SB*\n",
      "SXPheV*\n",
      "Symbiotic*\n",
      "TTauri*\n",
      "Type2Cep\n",
      "Variable*\n",
      "WhiteDwarf\n",
      "delSctV*\n",
      "gammaDorV*\n",
      "512 211\n",
      "        OTYPE         \n",
      "----------------------\n",
      "               HighPM*\n",
      "            HorBranch*\n",
      "           HotSubdwarf\n",
      "          LongPeriodV*\n",
      "LongPeriodV*_Candidate\n",
      "                  RGB*\n",
      "                  Star\n",
      "             post-AGB*\n"
     ]
    }
   ],
   "source": [
    "## Limit dataset to \"normal\" stars\n",
    "\n",
    "print( 'Unique object types: \\n', np.unique(results['OTYPE'].compressed()) )\n",
    "\n",
    "drop_types = ['**', 'Ae*', 'BYDraV*', 'CataclyV*', 'ChemPec*', 'ClassicalCep', 'EclBin',\n",
    "              'Eruptive*', 'Low-Mass*', 'Nova', 'OrionV*', 'PlanetaryNeb',\n",
    "              'PulsV*', 'RRLyrae', 'RSCVnV*', 'RVTauV*', 'RotV*', 'SB*', 'SXPheV*',\n",
    "              'Symbiotic*', 'TTauri*', 'Type2Cep', 'Variable*', 'WhiteDwarf',\n",
    "              'delSctV*', 'gammaDorV*']\n",
    "\n",
    "\n",
    "dropbool = [True]*len(results)\n",
    "\n",
    "for objtype in drop_types:\n",
    "\n",
    "    print(objtype)\n",
    "    dropbool = dropbool * (results['OTYPE']!=objtype).data \n",
    "\n",
    "filtresults = results[dropbool]\n",
    "print(len(results), len(filtresults))\n",
    "print(np.unique(filtresults['OTYPE']))"
   ]
  },
  {
   "cell_type": "code",
   "execution_count": 406,
   "id": "82d16c0f",
   "metadata": {
    "ExecuteTime": {
     "end_time": "2022-11-04T18:41:01.726691Z",
     "start_time": "2022-11-04T18:41:01.450928Z"
    }
   },
   "outputs": [
    {
     "data": {
      "image/png": "[encoded data removed]",
      "text/plain": [
       "<Figure size 400x600 with 1 Axes>"
      ]
     },
     "metadata": {},
     "output_type": "display_data"
    }
   ],
   "source": [
    "cats = np.unique(filtresults['OTYPE'])\n",
    "counts = np.zeros(len(cats))\n",
    "\n",
    "for i in range(len(cats)):\n",
    "    counts[i] = np.sum( filtresults['OTYPE'] == cats[i] )\n",
    "\n",
    "plt.figure(figsize=(4,6))\n",
    "plt.barh(cats, counts, edgecolor='k')\n",
    "plt.yticks(fontsize=14, c='k');\n",
    "plt.xticks(fontsize=14, c='k');\n",
    "plt.xlabel('Counts', fontsize=14, c='k');\n",
    "plt.title('SIMBAD object types in cross-matched GALEX \\n(II/335/galex_ais) & IUE (VI/110/inescat) catalogues', \n",
    "          fontsize=16, c='k')\n",
    "plt.xscale('log')\n"
   ]
  },
  {
   "cell_type": "code",
   "execution_count": null,
   "id": "c37021ef",
   "metadata": {},
   "outputs": [],
   "source": []
  },
  {
   "cell_type": "code",
   "execution_count": null,
   "id": "ddbd52c5",
   "metadata": {},
   "outputs": [],
   "source": []
  },
  {
   "cell_type": "code",
   "execution_count": null,
   "id": "f4f1de6c",
   "metadata": {},
   "outputs": [],
   "source": []
  },
  {
   "cell_type": "code",
   "execution_count": null,
   "id": "067e4e37",
   "metadata": {},
   "outputs": [],
   "source": []
  },
  {
   "cell_type": "code",
   "execution_count": null,
   "id": "a1059a80",
   "metadata": {},
   "outputs": [],
   "source": []
  },
  {
   "cell_type": "code",
   "execution_count": null,
   "id": "c59e8d26",
   "metadata": {},
   "outputs": [],
   "source": []
  },
  {
   "cell_type": "code",
   "execution_count": null,
   "id": "f93834a1",
   "metadata": {},
   "outputs": [],
   "source": []
  },
  {
   "cell_type": "code",
   "execution_count": 130,
   "id": "080bf728",
   "metadata": {
    "ExecuteTime": {
     "end_time": "2022-11-04T00:45:08.654423Z",
     "start_time": "2022-11-04T00:39:16.057030Z"
    }
   },
   "outputs": [
    {
     "name": "stdout",
     "output_type": "stream",
     "text": [
      "while: indexing 800 through 1600\n",
      "while: indexing 1600 through 2400\n",
      "while: indexing 2400 through 3200\n",
      "while: indexing 3200 through 4000\n",
      "while: indexing 4000 through 4800\n",
      "while: indexing 4800 through 5600\n",
      "while: indexing 5600 through 6400\n",
      "while: indexing 6400 through 7200\n",
      "while: indexing 7200 through 8000\n",
      "while: indexing 8000 through 8800\n",
      "while: indexing 8800 through 9600\n",
      "while: indexing 9600 through 10400\n",
      "while: indexing 10400 through 11200\n",
      "while: indexing 11200 through 12000\n",
      "while: indexing 12000 through 12800\n"
     ]
    }
   ],
   "source": [
    "######## BATCHED OBJECT QUERIES\n",
    "\n",
    "# warnings.filterwarnings('ignore')\n",
    "\n",
    "# ## Set fields to query from Simbad\n",
    "# fields = ['typed_id', 'fe_h', 'flux(B)','flux(V)','flux(R)','flux(I)','flux(J)',\n",
    "#           'flux(K)', 'flux_error(B)','flux_error(V)','flux_error(R)',\n",
    "#           'flux_error(I)','flux_error(J)','flux_error(K)', 'rot', \n",
    "#           'sptype', 'otype', 'td1', 'ubv', 'parallax', 'distance']\n",
    "\n",
    "# customSimbad = Simbad()\n",
    "\n",
    "# for f in fields: \n",
    "#     customSimbad.add_votable_fields(f)\n",
    "    \n",
    "\n",
    "# ## Query Simbad in batches to avoid timeout\n",
    "# l = np.min([800, len(match)]) # query in batches of 800 or the length of the table, whichever is smaller\n",
    "# results = customSimbad.query_objects(match.loc[:l,'Object'])\n",
    "\n",
    "# ## If match dataframe is larger than one batch of length l, then batch match dataframe into queries of size l\n",
    "# if len(match) > l:\n",
    "    \n",
    "#     i = l\n",
    "    \n",
    "#     while i <= len(match):\n",
    "        \n",
    "#         ## Track progress\n",
    "#         print('while: indexing', i, 'through', i+l)\n",
    "        \n",
    "#         ## Query Simbad\n",
    "#         r = customSimbad.query_objects(match.loc[i:i+l,'Object'])\n",
    "\n",
    "#         ## Add current batch to running query results\n",
    "#         results = vstack([results, r])\n",
    "        \n",
    "#         ## Increment indices\n",
    "#         i = i + l\n"
   ]
  },
  {
   "cell_type": "code",
   "execution_count": null,
   "id": "a876204d",
   "metadata": {},
   "outputs": [],
   "source": []
  }
 ],
 "metadata": {
  "kernelspec": {
   "display_name": "Python 3 (ipykernel)",
   "language": "python",
   "name": "python3"
  },
  "language_info": {
   "codemirror_mode": {
    "name": "ipython",
    "version": 3
   },
   "file_extension": ".py",
   "mimetype": "text/x-python",
   "name": "python",
   "nbconvert_exporter": "python",
   "pygments_lexer": "ipython3",
   "version": "3.8.8"
  },
  "toc": {
   "base_numbering": 1,
   "nav_menu": {},
   "number_sections": true,
   "sideBar": true,
   "skip_h1_title": false,
   "title_cell": "Table of Contents",
   "title_sidebar": "Contents",
   "toc_cell": false,
   "toc_position": {
    "height": "calc(100% - 180px)",
    "left": "10px",
    "top": "150px",
    "width": "165px"
   },
   "toc_section_display": true,
   "toc_window_display": true
  },
  "varInspector": {
   "cols": {
    "lenName": 16,
    "lenType": 16,
    "lenVar": 40
   },
   "kernels_config": {
    "python": {
     "delete_cmd_postfix": "",
     "delete_cmd_prefix": "del ",
     "library": "var_list.py",
     "varRefreshCmd": "print(var_dic_list())"
    },
    "r": {
     "delete_cmd_postfix": ") ",
     "delete_cmd_prefix": "rm(",
     "library": "var_list.r",
     "varRefreshCmd": "cat(var_dic_list()) "
    }
   },
   "oldHeight": 465.85,
   "position": {
    "height": "40px",
    "left": "1064px",
    "right": "20px",
    "top": "120px",
    "width": "356px"
   },
   "types_to_exclude": [
    "module",
    "function",
    "builtin_function_or_method",
    "instance",
    "_Feature"
   ],
   "varInspector_section_display": "none",
   "window_display": false
  }
 },
 "nbformat": 4,
 "nbformat_minor": 5
}
